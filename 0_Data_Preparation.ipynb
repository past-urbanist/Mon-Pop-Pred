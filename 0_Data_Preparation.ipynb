{
 "cells": [
  {
   "cell_type": "code",
   "execution_count": 1,
   "metadata": {
    "id": "4QgcbRbXCVqy"
   },
   "outputs": [],
   "source": [
    "import re, os, random\n",
    "import numpy as np\n",
    "import pandas as pd\n",
    "import matplotlib.pyplot as plt\n",
    "import seaborn as sns\n",
    "\n",
    "%matplotlib inline"
   ]
  },
  {
   "cell_type": "code",
   "execution_count": 3,
   "metadata": {
    "id": "VkPT7EeIfkbY"
   },
   "outputs": [],
   "source": [
    "from pandas.plotting import scatter_matrix\n",
    "from matplotlib import cm\n",
    "from matplotlib.colors import Normalize \n",
    "from scipy.interpolate import interpn\n",
    "from mpl_toolkits import mplot3d "
   ]
  },
  {
   "cell_type": "markdown",
   "metadata": {},
   "source": [
    "# Data Import"
   ]
  },
  {
   "cell_type": "code",
   "execution_count": 4,
   "metadata": {
    "colab": {
     "base_uri": "https://localhost:8080/",
     "height": 225
    },
    "id": "spTI91QCCVq-",
    "outputId": "21b73cb8-c208-4cf1-ae14-e2572fec56b8"
   },
   "outputs": [
    {
     "data": {
      "text/html": [
       "<div>\n",
       "<style scoped>\n",
       "    .dataframe tbody tr th:only-of-type {\n",
       "        vertical-align: middle;\n",
       "    }\n",
       "\n",
       "    .dataframe tbody tr th {\n",
       "        vertical-align: top;\n",
       "    }\n",
       "\n",
       "    .dataframe thead th {\n",
       "        text-align: right;\n",
       "    }\n",
       "</style>\n",
       "<table border=\"1\" class=\"dataframe\">\n",
       "  <thead>\n",
       "    <tr style=\"text-align: right;\">\n",
       "      <th></th>\n",
       "      <th>fua_name</th>\n",
       "      <th>road_len</th>\n",
       "      <th>pop2012</th>\n",
       "      <th>night2012</th>\n",
       "      <th>cen_dist</th>\n",
       "      <th>city_pop_total</th>\n",
       "      <th>CLC2012</th>\n",
       "    </tr>\n",
       "  </thead>\n",
       "  <tbody>\n",
       "    <tr>\n",
       "      <th>0</th>\n",
       "      <td>Acireale</td>\n",
       "      <td>0.015348</td>\n",
       "      <td>7325.648926</td>\n",
       "      <td>30.059999</td>\n",
       "      <td>2692.726152</td>\n",
       "      <td>65551.67962</td>\n",
       "      <td>1</td>\n",
       "    </tr>\n",
       "    <tr>\n",
       "      <th>1</th>\n",
       "      <td>Acireale</td>\n",
       "      <td>0.007960</td>\n",
       "      <td>1882.117426</td>\n",
       "      <td>20.930000</td>\n",
       "      <td>2421.478762</td>\n",
       "      <td>65551.67962</td>\n",
       "      <td>1</td>\n",
       "    </tr>\n",
       "    <tr>\n",
       "      <th>2</th>\n",
       "      <td>Acireale</td>\n",
       "      <td>0.006610</td>\n",
       "      <td>2574.318192</td>\n",
       "      <td>18.379999</td>\n",
       "      <td>2214.927460</td>\n",
       "      <td>65551.67962</td>\n",
       "      <td>1</td>\n",
       "    </tr>\n",
       "    <tr>\n",
       "      <th>3</th>\n",
       "      <td>Acireale</td>\n",
       "      <td>0.011870</td>\n",
       "      <td>7405.131897</td>\n",
       "      <td>28.459999</td>\n",
       "      <td>2092.320938</td>\n",
       "      <td>65551.67962</td>\n",
       "      <td>1</td>\n",
       "    </tr>\n",
       "    <tr>\n",
       "      <th>4</th>\n",
       "      <td>Acireale</td>\n",
       "      <td>0.013190</td>\n",
       "      <td>11867.653830</td>\n",
       "      <td>42.959999</td>\n",
       "      <td>2068.639445</td>\n",
       "      <td>65551.67962</td>\n",
       "      <td>1</td>\n",
       "    </tr>\n",
       "  </tbody>\n",
       "</table>\n",
       "</div>"
      ],
      "text/plain": [
       "   fua_name  road_len       pop2012  night2012     cen_dist  city_pop_total  \\\n",
       "0  Acireale  0.015348   7325.648926  30.059999  2692.726152     65551.67962   \n",
       "1  Acireale  0.007960   1882.117426  20.930000  2421.478762     65551.67962   \n",
       "2  Acireale  0.006610   2574.318192  18.379999  2214.927460     65551.67962   \n",
       "3  Acireale  0.011870   7405.131897  28.459999  2092.320938     65551.67962   \n",
       "4  Acireale  0.013190  11867.653830  42.959999  2068.639445     65551.67962   \n",
       "\n",
       "   CLC2012  \n",
       "0        1  \n",
       "1        1  \n",
       "2        1  \n",
       "3        1  \n",
       "4        1  "
      ]
     },
     "execution_count": 4,
     "metadata": {},
     "output_type": "execute_result"
    }
   ],
   "source": [
    "# Take the case of data in 2012\n",
    "data_ori = pd.read_csv(\"data.csv\")\n",
    "data_ori = data_ori.drop('fid',axis=1)\n",
    "data_ori.head()"
   ]
  },
  {
   "cell_type": "code",
   "execution_count": 5,
   "metadata": {
    "id": "jVem5euIrHAM"
   },
   "outputs": [],
   "source": [
    "data = data_ori.copy()"
   ]
  },
  {
   "cell_type": "code",
   "execution_count": 6,
   "metadata": {},
   "outputs": [
    {
     "data": {
      "text/html": [
       "<div>\n",
       "<style scoped>\n",
       "    .dataframe tbody tr th:only-of-type {\n",
       "        vertical-align: middle;\n",
       "    }\n",
       "\n",
       "    .dataframe tbody tr th {\n",
       "        vertical-align: top;\n",
       "    }\n",
       "\n",
       "    .dataframe thead th {\n",
       "        text-align: right;\n",
       "    }\n",
       "</style>\n",
       "<table border=\"1\" class=\"dataframe\">\n",
       "  <thead>\n",
       "    <tr style=\"text-align: right;\">\n",
       "      <th></th>\n",
       "      <th>road_len</th>\n",
       "      <th>pop2012</th>\n",
       "      <th>night2012</th>\n",
       "      <th>cen_dist</th>\n",
       "      <th>city_pop_total</th>\n",
       "      <th>CLC2012</th>\n",
       "    </tr>\n",
       "  </thead>\n",
       "  <tbody>\n",
       "    <tr>\n",
       "      <th>count</th>\n",
       "      <td>433774.000000</td>\n",
       "      <td>433774.000000</td>\n",
       "      <td>433774.000000</td>\n",
       "      <td>433774.000000</td>\n",
       "      <td>4.337740e+05</td>\n",
       "      <td>433774.000000</td>\n",
       "    </tr>\n",
       "    <tr>\n",
       "      <th>mean</th>\n",
       "      <td>0.003162</td>\n",
       "      <td>460.922545</td>\n",
       "      <td>6.186208</td>\n",
       "      <td>18926.087893</td>\n",
       "      <td>9.689037e+05</td>\n",
       "      <td>6.906518</td>\n",
       "    </tr>\n",
       "    <tr>\n",
       "      <th>std</th>\n",
       "      <td>0.004127</td>\n",
       "      <td>1854.554564</td>\n",
       "      <td>12.586370</td>\n",
       "      <td>12508.021687</td>\n",
       "      <td>1.434181e+06</td>\n",
       "      <td>1.857292</td>\n",
       "    </tr>\n",
       "    <tr>\n",
       "      <th>min</th>\n",
       "      <td>0.000000</td>\n",
       "      <td>0.000000</td>\n",
       "      <td>0.000000</td>\n",
       "      <td>8.393582</td>\n",
       "      <td>5.450901e+04</td>\n",
       "      <td>1.000000</td>\n",
       "    </tr>\n",
       "    <tr>\n",
       "      <th>25%</th>\n",
       "      <td>0.000000</td>\n",
       "      <td>0.000000</td>\n",
       "      <td>0.520000</td>\n",
       "      <td>10137.812752</td>\n",
       "      <td>1.585278e+05</td>\n",
       "      <td>7.000000</td>\n",
       "    </tr>\n",
       "    <tr>\n",
       "      <th>50%</th>\n",
       "      <td>0.002076</td>\n",
       "      <td>3.497574</td>\n",
       "      <td>1.400000</td>\n",
       "      <td>16025.843740</td>\n",
       "      <td>2.276852e+05</td>\n",
       "      <td>7.000000</td>\n",
       "    </tr>\n",
       "    <tr>\n",
       "      <th>75%</th>\n",
       "      <td>0.004615</td>\n",
       "      <td>72.863836</td>\n",
       "      <td>5.310000</td>\n",
       "      <td>24585.104748</td>\n",
       "      <td>7.261099e+05</td>\n",
       "      <td>8.000000</td>\n",
       "    </tr>\n",
       "    <tr>\n",
       "      <th>max</th>\n",
       "      <td>0.044230</td>\n",
       "      <td>57586.267530</td>\n",
       "      <td>299.600006</td>\n",
       "      <td>87998.149160</td>\n",
       "      <td>4.815786e+06</td>\n",
       "      <td>12.000000</td>\n",
       "    </tr>\n",
       "  </tbody>\n",
       "</table>\n",
       "</div>"
      ],
      "text/plain": [
       "            road_len        pop2012      night2012       cen_dist  \\\n",
       "count  433774.000000  433774.000000  433774.000000  433774.000000   \n",
       "mean        0.003162     460.922545       6.186208   18926.087893   \n",
       "std         0.004127    1854.554564      12.586370   12508.021687   \n",
       "min         0.000000       0.000000       0.000000       8.393582   \n",
       "25%         0.000000       0.000000       0.520000   10137.812752   \n",
       "50%         0.002076       3.497574       1.400000   16025.843740   \n",
       "75%         0.004615      72.863836       5.310000   24585.104748   \n",
       "max         0.044230   57586.267530     299.600006   87998.149160   \n",
       "\n",
       "       city_pop_total        CLC2012  \n",
       "count    4.337740e+05  433774.000000  \n",
       "mean     9.689037e+05       6.906518  \n",
       "std      1.434181e+06       1.857292  \n",
       "min      5.450901e+04       1.000000  \n",
       "25%      1.585278e+05       7.000000  \n",
       "50%      2.276852e+05       7.000000  \n",
       "75%      7.261099e+05       8.000000  \n",
       "max      4.815786e+06      12.000000  "
      ]
     },
     "execution_count": 6,
     "metadata": {},
     "output_type": "execute_result"
    }
   ],
   "source": [
    "data.describe()"
   ]
  },
  {
   "cell_type": "code",
   "execution_count": 7,
   "metadata": {
    "colab": {
     "base_uri": "https://localhost:8080/",
     "height": 1000
    },
    "id": "Nf185pZyqOXE",
    "outputId": "f2208a5f-d1ee-4e54-9d2f-488f013134d5"
   },
   "outputs": [
    {
     "data": {
      "text/plain": [
       "array([[<matplotlib.axes._subplots.AxesSubplot object at 0x00000209A5D89A08>,\n",
       "        <matplotlib.axes._subplots.AxesSubplot object at 0x00000209A8234988>],\n",
       "       [<matplotlib.axes._subplots.AxesSubplot object at 0x00000209A826E348>,\n",
       "        <matplotlib.axes._subplots.AxesSubplot object at 0x00000209A82A9488>],\n",
       "       [<matplotlib.axes._subplots.AxesSubplot object at 0x00000209A82E15C8>,\n",
       "        <matplotlib.axes._subplots.AxesSubplot object at 0x00000209AA4986C8>]],\n",
       "      dtype=object)"
      ]
     },
     "execution_count": 7,
     "metadata": {},
     "output_type": "execute_result"
    },
    {
     "data": {
      "image/png": "[encoded data removed]",
      "text/plain": [
       "<Figure size 1440x1080 with 6 Axes>"
      ]
     },
     "metadata": {
      "needs_background": "light"
     },
     "output_type": "display_data"
    }
   ],
   "source": [
    "data.hist(bins=50,figsize=(20,15))"
   ]
  },
  {
   "cell_type": "markdown",
   "metadata": {},
   "source": [
    "# Data Pre-process"
   ]
  },
  {
   "cell_type": "code",
   "execution_count": 8,
   "metadata": {
    "id": "jg767eVnCVrD"
   },
   "outputs": [],
   "source": [
    "# StandardScaler will subtract the mean from each value, then scale to the unit variance\n",
    "scaler = preprocessing.MinMaxScaler()\n",
    "alist = ['pop2012','night2012','road_len','cen_dist','city_pop_total']\n",
    "data1 = data[alist]\n",
    "data_new = scaler.fit_transform(data1.values.reshape(-1, len(alist)))\n",
    "data_new = pd.DataFrame(data_new, columns=alist)"
   ]
  },
  {
   "cell_type": "code",
   "execution_count": 9,
   "metadata": {
    "id": "4R426CZXCVrE"
   },
   "outputs": [],
   "source": [
    "# Factorize the city id\n",
    "data_new['land_cover'] = data['CLC2012']"
   ]
  },
  {
   "cell_type": "code",
   "execution_count": 10,
   "metadata": {},
   "outputs": [
    {
     "data": {
      "text/html": [
       "<div>\n",
       "<style scoped>\n",
       "    .dataframe tbody tr th:only-of-type {\n",
       "        vertical-align: middle;\n",
       "    }\n",
       "\n",
       "    .dataframe tbody tr th {\n",
       "        vertical-align: top;\n",
       "    }\n",
       "\n",
       "    .dataframe thead th {\n",
       "        text-align: right;\n",
       "    }\n",
       "</style>\n",
       "<table border=\"1\" class=\"dataframe\">\n",
       "  <thead>\n",
       "    <tr style=\"text-align: right;\">\n",
       "      <th></th>\n",
       "      <th>pop2012</th>\n",
       "      <th>night2012</th>\n",
       "      <th>road_len</th>\n",
       "      <th>cen_dist</th>\n",
       "      <th>city_pop_total</th>\n",
       "      <th>land_cover</th>\n",
       "    </tr>\n",
       "  </thead>\n",
       "  <tbody>\n",
       "    <tr>\n",
       "      <th>0</th>\n",
       "      <td>0.127212</td>\n",
       "      <td>0.100334</td>\n",
       "      <td>0.346998</td>\n",
       "      <td>0.030507</td>\n",
       "      <td>0.002319</td>\n",
       "      <td>1</td>\n",
       "    </tr>\n",
       "    <tr>\n",
       "      <th>1</th>\n",
       "      <td>0.032683</td>\n",
       "      <td>0.069860</td>\n",
       "      <td>0.179969</td>\n",
       "      <td>0.027425</td>\n",
       "      <td>0.002319</td>\n",
       "      <td>1</td>\n",
       "    </tr>\n",
       "    <tr>\n",
       "      <th>2</th>\n",
       "      <td>0.044704</td>\n",
       "      <td>0.061348</td>\n",
       "      <td>0.149444</td>\n",
       "      <td>0.025077</td>\n",
       "      <td>0.002319</td>\n",
       "      <td>1</td>\n",
       "    </tr>\n",
       "    <tr>\n",
       "      <th>3</th>\n",
       "      <td>0.128592</td>\n",
       "      <td>0.094993</td>\n",
       "      <td>0.268370</td>\n",
       "      <td>0.023684</td>\n",
       "      <td>0.002319</td>\n",
       "      <td>1</td>\n",
       "    </tr>\n",
       "    <tr>\n",
       "      <th>4</th>\n",
       "      <td>0.206085</td>\n",
       "      <td>0.143391</td>\n",
       "      <td>0.298220</td>\n",
       "      <td>0.023415</td>\n",
       "      <td>0.002319</td>\n",
       "      <td>1</td>\n",
       "    </tr>\n",
       "  </tbody>\n",
       "</table>\n",
       "</div>"
      ],
      "text/plain": [
       "    pop2012  night2012  road_len  cen_dist  city_pop_total  land_cover\n",
       "0  0.127212   0.100334  0.346998  0.030507        0.002319           1\n",
       "1  0.032683   0.069860  0.179969  0.027425        0.002319           1\n",
       "2  0.044704   0.061348  0.149444  0.025077        0.002319           1\n",
       "3  0.128592   0.094993  0.268370  0.023684        0.002319           1\n",
       "4  0.206085   0.143391  0.298220  0.023415        0.002319           1"
      ]
     },
     "execution_count": 10,
     "metadata": {},
     "output_type": "execute_result"
    }
   ],
   "source": [
    "data_new.head()"
   ]
  },
  {
   "cell_type": "markdown",
   "metadata": {},
   "source": [
    "## Data Export"
   ]
  },
  {
   "cell_type": "code",
   "execution_count": 11,
   "metadata": {
    "colab": {
     "base_uri": "https://localhost:8080/"
    },
    "id": "cp-Y6cjlC3x-",
    "outputId": "d7961584-20e0-43dc-cb7d-873c602efb98"
   },
   "outputs": [
    {
     "name": "stdout",
     "output_type": "stream",
     "text": [
      "File Exported!\n"
     ]
    }
   ],
   "source": [
    "data_new.to_csv('data_new.csv',index=False)\n",
    "print('File Exported!')"
   ]
  },
  {
   "cell_type": "code",
   "execution_count": 12,
   "metadata": {},
   "outputs": [
    {
     "data": {
      "text/html": [
       "<div>\n",
       "<style scoped>\n",
       "    .dataframe tbody tr th:only-of-type {\n",
       "        vertical-align: middle;\n",
       "    }\n",
       "\n",
       "    .dataframe tbody tr th {\n",
       "        vertical-align: top;\n",
       "    }\n",
       "\n",
       "    .dataframe thead th {\n",
       "        text-align: right;\n",
       "    }\n",
       "</style>\n",
       "<table border=\"1\" class=\"dataframe\">\n",
       "  <thead>\n",
       "    <tr style=\"text-align: right;\">\n",
       "      <th></th>\n",
       "      <th>pop2012</th>\n",
       "      <th>night2012</th>\n",
       "      <th>road_len</th>\n",
       "      <th>cen_dist</th>\n",
       "      <th>city_pop_total</th>\n",
       "      <th>land_cover</th>\n",
       "    </tr>\n",
       "  </thead>\n",
       "  <tbody>\n",
       "    <tr>\n",
       "      <th>0</th>\n",
       "      <td>0.127212</td>\n",
       "      <td>0.100334</td>\n",
       "      <td>0.346998</td>\n",
       "      <td>0.030507</td>\n",
       "      <td>0.002319</td>\n",
       "      <td>1</td>\n",
       "    </tr>\n",
       "    <tr>\n",
       "      <th>1</th>\n",
       "      <td>0.032683</td>\n",
       "      <td>0.069860</td>\n",
       "      <td>0.179969</td>\n",
       "      <td>0.027425</td>\n",
       "      <td>0.002319</td>\n",
       "      <td>1</td>\n",
       "    </tr>\n",
       "    <tr>\n",
       "      <th>2</th>\n",
       "      <td>0.044704</td>\n",
       "      <td>0.061348</td>\n",
       "      <td>0.149444</td>\n",
       "      <td>0.025077</td>\n",
       "      <td>0.002319</td>\n",
       "      <td>1</td>\n",
       "    </tr>\n",
       "    <tr>\n",
       "      <th>3</th>\n",
       "      <td>0.128592</td>\n",
       "      <td>0.094993</td>\n",
       "      <td>0.268370</td>\n",
       "      <td>0.023684</td>\n",
       "      <td>0.002319</td>\n",
       "      <td>1</td>\n",
       "    </tr>\n",
       "    <tr>\n",
       "      <th>4</th>\n",
       "      <td>0.206085</td>\n",
       "      <td>0.143391</td>\n",
       "      <td>0.298220</td>\n",
       "      <td>0.023415</td>\n",
       "      <td>0.002319</td>\n",
       "      <td>1</td>\n",
       "    </tr>\n",
       "  </tbody>\n",
       "</table>\n",
       "</div>"
      ],
      "text/plain": [
       "    pop2012  night2012  road_len  cen_dist  city_pop_total  land_cover\n",
       "0  0.127212   0.100334  0.346998  0.030507        0.002319           1\n",
       "1  0.032683   0.069860  0.179969  0.027425        0.002319           1\n",
       "2  0.044704   0.061348  0.149444  0.025077        0.002319           1\n",
       "3  0.128592   0.094993  0.268370  0.023684        0.002319           1\n",
       "4  0.206085   0.143391  0.298220  0.023415        0.002319           1"
      ]
     },
     "execution_count": 12,
     "metadata": {},
     "output_type": "execute_result"
    }
   ],
   "source": [
    "data_new.head()"
   ]
  },
  {
   "cell_type": "code",
   "execution_count": 14,
   "metadata": {},
   "outputs": [
    {
     "name": "stdout",
     "output_type": "stream",
     "text": [
      "File Shufflled Exported!\n"
     ]
    }
   ],
   "source": [
    "from sklearn.utils import shuffle\n",
    "data_shuf = shuffle(data_new)\n",
    "data_shuf.to_csv('data_shuf.csv',index=False)\n",
    "print('File Shufflled Exported!')"
   ]
  },
  {
   "cell_type": "code",
   "execution_count": null,
   "metadata": {},
   "outputs": [],
   "source": []
  }
 ],
 "metadata": {
  "colab": {
   "collapsed_sections": [],
   "name": "0 Data Preparation.ipynb",
   "provenance": []
  },
  "kernelspec": {
   "display_name": "Python 3",
   "language": "python",
   "name": "python3"
  },
  "language_info": {
   "codemirror_mode": {
    "name": "ipython",
    "version": 3
   },
   "file_extension": ".py",
   "mimetype": "text/x-python",
   "name": "python",
   "nbconvert_exporter": "python",
   "pygments_lexer": "ipython3",
   "version": "3.7.6"
  }
 },
 "nbformat": 4,
 "nbformat_minor": 1
}
