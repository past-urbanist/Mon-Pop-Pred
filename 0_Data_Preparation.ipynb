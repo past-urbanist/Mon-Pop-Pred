{
 "cells": [
  {
   "cell_type": "code",
   "execution_count": 9,
   "metadata": {
    "id": "4QgcbRbXCVqy"
   },
   "outputs": [],
   "source": [
    "import re, os, random\n",
    "import numpy as np\n",
    "import pandas as pd\n",
    "import matplotlib.pyplot as plt\n",
    "import seaborn as sns\n",
    "\n",
    "%matplotlib inline"
   ]
  },
  {
   "cell_type": "code",
   "execution_count": 10,
   "metadata": {
    "id": "VkPT7EeIfkbY"
   },
   "outputs": [],
   "source": [
    "from pandas.plotting import scatter_matrix\n",
    "from matplotlib import cm\n",
    "from matplotlib.colors import Normalize \n",
    "from sklearn import preprocessing"
   ]
  },
  {
   "cell_type": "markdown",
   "metadata": {},
   "source": [
    "# Data Import"
   ]
  },
  {
   "cell_type": "code",
   "execution_count": 11,
   "metadata": {
    "colab": {
     "base_uri": "https://localhost:8080/",
     "height": 225
    },
    "id": "spTI91QCCVq-",
    "outputId": "21b73cb8-c208-4cf1-ae14-e2572fec56b8"
   },
   "outputs": [],
   "source": [
    "# Take the case of data in 2012\n",
    "data_ori = pd.read_csv(\"data2012.csv\")\n",
    "data_ori = data_ori.drop('fid',axis=1)\n",
    "data = data_ori.copy()"
   ]
  },
  {
   "cell_type": "code",
   "execution_count": 12,
   "metadata": {},
   "outputs": [
    {
     "data": {
      "text/html": [
       "<div>\n",
       "<style scoped>\n",
       "    .dataframe tbody tr th:only-of-type {\n",
       "        vertical-align: middle;\n",
       "    }\n",
       "\n",
       "    .dataframe tbody tr th {\n",
       "        vertical-align: top;\n",
       "    }\n",
       "\n",
       "    .dataframe thead th {\n",
       "        text-align: right;\n",
       "    }\n",
       "</style>\n",
       "<table border=\"1\" class=\"dataframe\">\n",
       "  <thead>\n",
       "    <tr style=\"text-align: right;\">\n",
       "      <th></th>\n",
       "      <th>X</th>\n",
       "      <th>Y</th>\n",
       "      <th>country</th>\n",
       "      <th>fua_name</th>\n",
       "      <th>city_pop</th>\n",
       "      <th>pop2012</th>\n",
       "      <th>road_len</th>\n",
       "      <th>land_cover</th>\n",
       "      <th>night</th>\n",
       "      <th>pop_pred_forest</th>\n",
       "      <th>cen_dist</th>\n",
       "    </tr>\n",
       "  </thead>\n",
       "  <tbody>\n",
       "    <tr>\n",
       "      <th>0</th>\n",
       "      <td>4.487501</td>\n",
       "      <td>51.008333</td>\n",
       "      <td>BE</td>\n",
       "      <td>Bruxelles / Brussel</td>\n",
       "      <td>4892537</td>\n",
       "      <td>206.316861</td>\n",
       "      <td>0.001409</td>\n",
       "      <td>7</td>\n",
       "      <td>14.46</td>\n",
       "      <td>294.177177</td>\n",
       "      <td>27430.20297</td>\n",
       "    </tr>\n",
       "    <tr>\n",
       "      <th>1</th>\n",
       "      <td>4.491667</td>\n",
       "      <td>51.008333</td>\n",
       "      <td>BE</td>\n",
       "      <td>Bruxelles / Brussel</td>\n",
       "      <td>4892537</td>\n",
       "      <td>845.095145</td>\n",
       "      <td>0.005011</td>\n",
       "      <td>2</td>\n",
       "      <td>11.22</td>\n",
       "      <td>990.346531</td>\n",
       "      <td>27724.21038</td>\n",
       "    </tr>\n",
       "    <tr>\n",
       "      <th>2</th>\n",
       "      <td>4.495834</td>\n",
       "      <td>51.008333</td>\n",
       "      <td>BE</td>\n",
       "      <td>Bruxelles / Brussel</td>\n",
       "      <td>4892537</td>\n",
       "      <td>648.962256</td>\n",
       "      <td>0.009897</td>\n",
       "      <td>7</td>\n",
       "      <td>9.29</td>\n",
       "      <td>915.804058</td>\n",
       "      <td>28022.79795</td>\n",
       "    </tr>\n",
       "    <tr>\n",
       "      <th>3</th>\n",
       "      <td>4.500001</td>\n",
       "      <td>51.008333</td>\n",
       "      <td>BE</td>\n",
       "      <td>Bruxelles / Brussel</td>\n",
       "      <td>4892537</td>\n",
       "      <td>0.000000</td>\n",
       "      <td>0.000000</td>\n",
       "      <td>2</td>\n",
       "      <td>12.30</td>\n",
       "      <td>849.833784</td>\n",
       "      <td>28325.82084</td>\n",
       "    </tr>\n",
       "    <tr>\n",
       "      <th>4</th>\n",
       "      <td>4.320834</td>\n",
       "      <td>51.004166</td>\n",
       "      <td>BE</td>\n",
       "      <td>Bruxelles / Brussel</td>\n",
       "      <td>4892537</td>\n",
       "      <td>272.925815</td>\n",
       "      <td>0.000000</td>\n",
       "      <td>7</td>\n",
       "      <td>9.66</td>\n",
       "      <td>175.221945</td>\n",
       "      <td>20893.36067</td>\n",
       "    </tr>\n",
       "  </tbody>\n",
       "</table>\n",
       "</div>"
      ],
      "text/plain": [
       "          X          Y country             fua_name  city_pop     pop2012  \\\n",
       "0  4.487501  51.008333      BE  Bruxelles / Brussel   4892537  206.316861   \n",
       "1  4.491667  51.008333      BE  Bruxelles / Brussel   4892537  845.095145   \n",
       "2  4.495834  51.008333      BE  Bruxelles / Brussel   4892537  648.962256   \n",
       "3  4.500001  51.008333      BE  Bruxelles / Brussel   4892537    0.000000   \n",
       "4  4.320834  51.004166      BE  Bruxelles / Brussel   4892537  272.925815   \n",
       "\n",
       "   road_len  land_cover  night  pop_pred_forest     cen_dist  \n",
       "0  0.001409           7  14.46       294.177177  27430.20297  \n",
       "1  0.005011           2  11.22       990.346531  27724.21038  \n",
       "2  0.009897           7   9.29       915.804058  28022.79795  \n",
       "3  0.000000           2  12.30       849.833784  28325.82084  \n",
       "4  0.000000           7   9.66       175.221945  20893.36067  "
      ]
     },
     "execution_count": 12,
     "metadata": {},
     "output_type": "execute_result"
    }
   ],
   "source": [
    "data.head()"
   ]
  },
  {
   "cell_type": "code",
   "execution_count": 13,
   "metadata": {},
   "outputs": [
    {
     "data": {
      "text/html": [
       "<div>\n",
       "<style scoped>\n",
       "    .dataframe tbody tr th:only-of-type {\n",
       "        vertical-align: middle;\n",
       "    }\n",
       "\n",
       "    .dataframe tbody tr th {\n",
       "        vertical-align: top;\n",
       "    }\n",
       "\n",
       "    .dataframe thead th {\n",
       "        text-align: right;\n",
       "    }\n",
       "</style>\n",
       "<table border=\"1\" class=\"dataframe\">\n",
       "  <thead>\n",
       "    <tr style=\"text-align: right;\">\n",
       "      <th></th>\n",
       "      <th>X</th>\n",
       "      <th>Y</th>\n",
       "      <th>city_pop</th>\n",
       "      <th>pop2012</th>\n",
       "      <th>road_len</th>\n",
       "      <th>land_cover</th>\n",
       "      <th>night</th>\n",
       "      <th>pop_pred_forest</th>\n",
       "      <th>cen_dist</th>\n",
       "    </tr>\n",
       "  </thead>\n",
       "  <tbody>\n",
       "    <tr>\n",
       "      <th>count</th>\n",
       "      <td>877457.000000</td>\n",
       "      <td>877457.000000</td>\n",
       "      <td>8.774570e+05</td>\n",
       "      <td>877457.000000</td>\n",
       "      <td>877457.000000</td>\n",
       "      <td>877457.000000</td>\n",
       "      <td>877457.000000</td>\n",
       "      <td>877457.000000</td>\n",
       "      <td>877457.000000</td>\n",
       "    </tr>\n",
       "    <tr>\n",
       "      <th>mean</th>\n",
       "      <td>9.737407</td>\n",
       "      <td>49.120812</td>\n",
       "      <td>4.823933e+06</td>\n",
       "      <td>631.093955</td>\n",
       "      <td>0.005245</td>\n",
       "      <td>6.634389</td>\n",
       "      <td>4.727647</td>\n",
       "      <td>631.633414</td>\n",
       "      <td>48688.738664</td>\n",
       "    </tr>\n",
       "    <tr>\n",
       "      <th>std</th>\n",
       "      <td>8.555033</td>\n",
       "      <td>3.980074</td>\n",
       "      <td>3.222885e+06</td>\n",
       "      <td>2658.685320</td>\n",
       "      <td>0.007315</td>\n",
       "      <td>1.990279</td>\n",
       "      <td>11.883446</td>\n",
       "      <td>2200.898338</td>\n",
       "      <td>25998.170093</td>\n",
       "    </tr>\n",
       "    <tr>\n",
       "      <th>min</th>\n",
       "      <td>-7.345833</td>\n",
       "      <td>39.875000</td>\n",
       "      <td>1.508113e+06</td>\n",
       "      <td>0.000000</td>\n",
       "      <td>0.000000</td>\n",
       "      <td>1.000000</td>\n",
       "      <td>0.000000</td>\n",
       "      <td>0.007852</td>\n",
       "      <td>4.438934</td>\n",
       "    </tr>\n",
       "    <tr>\n",
       "      <th>25%</th>\n",
       "      <td>2.329167</td>\n",
       "      <td>47.750000</td>\n",
       "      <td>2.650374e+06</td>\n",
       "      <td>0.000000</td>\n",
       "      <td>0.000000</td>\n",
       "      <td>7.000000</td>\n",
       "      <td>0.350000</td>\n",
       "      <td>4.151419</td>\n",
       "      <td>29559.522960</td>\n",
       "    </tr>\n",
       "    <tr>\n",
       "      <th>50%</th>\n",
       "      <td>12.137501</td>\n",
       "      <td>50.083333</td>\n",
       "      <td>3.565000e+06</td>\n",
       "      <td>2.726041</td>\n",
       "      <td>0.002529</td>\n",
       "      <td>7.000000</td>\n",
       "      <td>0.740000</td>\n",
       "      <td>23.286318</td>\n",
       "      <td>44930.467230</td>\n",
       "    </tr>\n",
       "    <tr>\n",
       "      <th>75%</th>\n",
       "      <td>15.837501</td>\n",
       "      <td>52.337500</td>\n",
       "      <td>4.892537e+06</td>\n",
       "      <td>90.896982</td>\n",
       "      <td>0.007508</td>\n",
       "      <td>8.000000</td>\n",
       "      <td>2.820000</td>\n",
       "      <td>153.794309</td>\n",
       "      <td>63838.855230</td>\n",
       "    </tr>\n",
       "    <tr>\n",
       "      <th>max</th>\n",
       "      <td>26.462501</td>\n",
       "      <td>54.108333</td>\n",
       "      <td>1.166596e+07</td>\n",
       "      <td>85729.664430</td>\n",
       "      <td>0.059067</td>\n",
       "      <td>11.000000</td>\n",
       "      <td>278.359985</td>\n",
       "      <td>32820.120050</td>\n",
       "      <td>157231.547700</td>\n",
       "    </tr>\n",
       "  </tbody>\n",
       "</table>\n",
       "</div>"
      ],
      "text/plain": [
       "                   X              Y      city_pop        pop2012  \\\n",
       "count  877457.000000  877457.000000  8.774570e+05  877457.000000   \n",
       "mean        9.737407      49.120812  4.823933e+06     631.093955   \n",
       "std         8.555033       3.980074  3.222885e+06    2658.685320   \n",
       "min        -7.345833      39.875000  1.508113e+06       0.000000   \n",
       "25%         2.329167      47.750000  2.650374e+06       0.000000   \n",
       "50%        12.137501      50.083333  3.565000e+06       2.726041   \n",
       "75%        15.837501      52.337500  4.892537e+06      90.896982   \n",
       "max        26.462501      54.108333  1.166596e+07   85729.664430   \n",
       "\n",
       "            road_len     land_cover          night  pop_pred_forest  \\\n",
       "count  877457.000000  877457.000000  877457.000000    877457.000000   \n",
       "mean        0.005245       6.634389       4.727647       631.633414   \n",
       "std         0.007315       1.990279      11.883446      2200.898338   \n",
       "min         0.000000       1.000000       0.000000         0.007852   \n",
       "25%         0.000000       7.000000       0.350000         4.151419   \n",
       "50%         0.002529       7.000000       0.740000        23.286318   \n",
       "75%         0.007508       8.000000       2.820000       153.794309   \n",
       "max         0.059067      11.000000     278.359985     32820.120050   \n",
       "\n",
       "            cen_dist  \n",
       "count  877457.000000  \n",
       "mean    48688.738664  \n",
       "std     25998.170093  \n",
       "min         4.438934  \n",
       "25%     29559.522960  \n",
       "50%     44930.467230  \n",
       "75%     63838.855230  \n",
       "max    157231.547700  "
      ]
     },
     "execution_count": 13,
     "metadata": {},
     "output_type": "execute_result"
    }
   ],
   "source": [
    "data.describe()"
   ]
  },
  {
   "cell_type": "code",
   "execution_count": 14,
   "metadata": {
    "colab": {
     "base_uri": "https://localhost:8080/",
     "height": 1000
    },
    "id": "Nf185pZyqOXE",
    "outputId": "f2208a5f-d1ee-4e54-9d2f-488f013134d5"
   },
   "outputs": [
    {
     "data": {
      "text/plain": [
       "array([[<matplotlib.axes._subplots.AxesSubplot object at 0x00000274C3BD2988>,\n",
       "        <matplotlib.axes._subplots.AxesSubplot object at 0x00000274C3BFF1C8>,\n",
       "        <matplotlib.axes._subplots.AxesSubplot object at 0x00000274C3C11B08>],\n",
       "       [<matplotlib.axes._subplots.AxesSubplot object at 0x00000274C3C29408>,\n",
       "        <matplotlib.axes._subplots.AxesSubplot object at 0x00000274C3C4DCC8>,\n",
       "        <matplotlib.axes._subplots.AxesSubplot object at 0x00000274C3C8CE48>],\n",
       "       [<matplotlib.axes._subplots.AxesSubplot object at 0x00000274C3CBBF88>,\n",
       "        <matplotlib.axes._subplots.AxesSubplot object at 0x00000274C3CF7AC8>,\n",
       "        <matplotlib.axes._subplots.AxesSubplot object at 0x00000274C3D016C8>]],\n",
       "      dtype=object)"
      ]
     },
     "execution_count": 14,
     "metadata": {},
     "output_type": "execute_result"
    },
    {
     "data": {
      "image/png": "[encoded data removed]",
      "text/plain": [
       "<Figure size 1440x1080 with 9 Axes>"
      ]
     },
     "metadata": {
      "needs_background": "light"
     },
     "output_type": "display_data"
    }
   ],
   "source": [
    "data.hist(bins=50,figsize=(20,15))"
   ]
  },
  {
   "cell_type": "markdown",
   "metadata": {},
   "source": [
    "# Data Pre-process"
   ]
  },
  {
   "cell_type": "code",
   "execution_count": 15,
   "metadata": {
    "id": "jg767eVnCVrD"
   },
   "outputs": [],
   "source": [
    "# StandardScaler will subtract the mean from each value, then scale to the unit variance\n",
    "scaler = preprocessing.MinMaxScaler()\n",
    "blist = ['pop2012','night','road_len','city_pop','cen_dist']\n",
    "data1 = data[blist]\n",
    "data_new = scaler.fit_transform(data1.values.reshape(-1, len(blist)))\n",
    "data_new = pd.DataFrame(data_new, columns=blist)"
   ]
  },
  {
   "cell_type": "code",
   "execution_count": 16,
   "metadata": {
    "id": "4R426CZXCVrE"
   },
   "outputs": [],
   "source": [
    "# Factorize the city id\n",
    "data_new['land_cover'] = data['land_cover']\n",
    "data['city_id'] = data['fua_name'].factorize()[0]\n",
    "data_new['city_id'] = data['city_id']"
   ]
  },
  {
   "cell_type": "code",
   "execution_count": 17,
   "metadata": {},
   "outputs": [],
   "source": [
    "# Based on different city_id, to normalize the longitude and latitude\n",
    "alist = ['X','Y']\n",
    "for col in alist:\n",
    "    data[col+'_max'] = data.groupby(['city_id'])[col].transform(max)\n",
    "    data[col+'_min'] = data.groupby(['city_id'])[col].transform(min)\n",
    "    data_new[col] = ((data[col] - data[col+'_min']) / (data[col+'_max'] - data[col+'_min']))"
   ]
  },
  {
   "cell_type": "code",
   "execution_count": 19,
   "metadata": {},
   "outputs": [
    {
     "data": {
      "text/html": [
       "<div>\n",
       "<style scoped>\n",
       "    .dataframe tbody tr th:only-of-type {\n",
       "        vertical-align: middle;\n",
       "    }\n",
       "\n",
       "    .dataframe tbody tr th {\n",
       "        vertical-align: top;\n",
       "    }\n",
       "\n",
       "    .dataframe thead th {\n",
       "        text-align: right;\n",
       "    }\n",
       "</style>\n",
       "<table border=\"1\" class=\"dataframe\">\n",
       "  <thead>\n",
       "    <tr style=\"text-align: right;\">\n",
       "      <th></th>\n",
       "      <th>pop2012</th>\n",
       "      <th>night</th>\n",
       "      <th>road_len</th>\n",
       "      <th>city_pop</th>\n",
       "      <th>cen_dist</th>\n",
       "      <th>land_cover</th>\n",
       "      <th>city_id</th>\n",
       "      <th>X</th>\n",
       "      <th>Y</th>\n",
       "    </tr>\n",
       "  </thead>\n",
       "  <tbody>\n",
       "    <tr>\n",
       "      <th>0</th>\n",
       "      <td>0.002407</td>\n",
       "      <td>0.051947</td>\n",
       "      <td>0.023862</td>\n",
       "      <td>0.333183</td>\n",
       "      <td>0.174434</td>\n",
       "      <td>7</td>\n",
       "      <td>0</td>\n",
       "      <td>0.569801</td>\n",
       "      <td>1.000000</td>\n",
       "    </tr>\n",
       "    <tr>\n",
       "      <th>1</th>\n",
       "      <td>0.009858</td>\n",
       "      <td>0.040308</td>\n",
       "      <td>0.084837</td>\n",
       "      <td>0.333183</td>\n",
       "      <td>0.176304</td>\n",
       "      <td>2</td>\n",
       "      <td>0</td>\n",
       "      <td>0.572650</td>\n",
       "      <td>1.000000</td>\n",
       "    </tr>\n",
       "    <tr>\n",
       "      <th>2</th>\n",
       "      <td>0.007570</td>\n",
       "      <td>0.033374</td>\n",
       "      <td>0.167556</td>\n",
       "      <td>0.333183</td>\n",
       "      <td>0.178203</td>\n",
       "      <td>7</td>\n",
       "      <td>0</td>\n",
       "      <td>0.575499</td>\n",
       "      <td>1.000000</td>\n",
       "    </tr>\n",
       "    <tr>\n",
       "      <th>3</th>\n",
       "      <td>0.000000</td>\n",
       "      <td>0.044187</td>\n",
       "      <td>0.000000</td>\n",
       "      <td>0.333183</td>\n",
       "      <td>0.180130</td>\n",
       "      <td>2</td>\n",
       "      <td>0</td>\n",
       "      <td>0.578348</td>\n",
       "      <td>1.000000</td>\n",
       "    </tr>\n",
       "    <tr>\n",
       "      <th>4</th>\n",
       "      <td>0.003184</td>\n",
       "      <td>0.034703</td>\n",
       "      <td>0.000000</td>\n",
       "      <td>0.333183</td>\n",
       "      <td>0.132858</td>\n",
       "      <td>7</td>\n",
       "      <td>0</td>\n",
       "      <td>0.455840</td>\n",
       "      <td>0.991803</td>\n",
       "    </tr>\n",
       "  </tbody>\n",
       "</table>\n",
       "</div>"
      ],
      "text/plain": [
       "    pop2012     night  road_len  city_pop  cen_dist  land_cover  city_id  \\\n",
       "0  0.002407  0.051947  0.023862  0.333183  0.174434           7        0   \n",
       "1  0.009858  0.040308  0.084837  0.333183  0.176304           2        0   \n",
       "2  0.007570  0.033374  0.167556  0.333183  0.178203           7        0   \n",
       "3  0.000000  0.044187  0.000000  0.333183  0.180130           2        0   \n",
       "4  0.003184  0.034703  0.000000  0.333183  0.132858           7        0   \n",
       "\n",
       "          X         Y  \n",
       "0  0.569801  1.000000  \n",
       "1  0.572650  1.000000  \n",
       "2  0.575499  1.000000  \n",
       "3  0.578348  1.000000  \n",
       "4  0.455840  0.991803  "
      ]
     },
     "execution_count": 19,
     "metadata": {},
     "output_type": "execute_result"
    }
   ],
   "source": [
    "data_new.head()"
   ]
  },
  {
   "cell_type": "markdown",
   "metadata": {},
   "source": [
    "## Data Export"
   ]
  },
  {
   "cell_type": "code",
   "execution_count": 20,
   "metadata": {
    "colab": {
     "base_uri": "https://localhost:8080/"
    },
    "id": "cp-Y6cjlC3x-",
    "outputId": "d7961584-20e0-43dc-cb7d-873c602efb98"
   },
   "outputs": [
    {
     "name": "stdout",
     "output_type": "stream",
     "text": [
      "File Exported!\n"
     ]
    }
   ],
   "source": [
    "data_new.to_csv('data_new.csv',index=False)\n",
    "print('File Exported!')"
   ]
  },
  {
   "cell_type": "code",
   "execution_count": 21,
   "metadata": {},
   "outputs": [
    {
     "name": "stdout",
     "output_type": "stream",
     "text": [
      "File Shufflled Exported!\n"
     ]
    }
   ],
   "source": [
    "from sklearn.utils import shuffle\n",
    "data_shuf = shuffle(data_new)\n",
    "data_shuf.to_csv('data_shuf.csv',index=False)\n",
    "print('File Shufflled Exported!')"
   ]
  },
  {
   "cell_type": "code",
   "execution_count": null,
   "metadata": {},
   "outputs": [],
   "source": []
  },
  {
   "cell_type": "code",
   "execution_count": null,
   "metadata": {},
   "outputs": [],
   "source": []
  }
 ],
 "metadata": {
  "colab": {
   "collapsed_sections": [],
   "name": "0 Data Preparation.ipynb",
   "provenance": []
  },
  "kernelspec": {
   "display_name": "Python 3",
   "language": "python",
   "name": "python3"
  },
  "language_info": {
   "codemirror_mode": {
    "name": "ipython",
    "version": 3
   },
   "file_extension": ".py",
   "mimetype": "text/x-python",
   "name": "python",
   "nbconvert_exporter": "python",
   "pygments_lexer": "ipython3",
   "version": "3.7.6"
  }
 },
 "nbformat": 4,
 "nbformat_minor": 1
}
