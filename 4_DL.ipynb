{
  "nbformat": 4,
  "nbformat_minor": 0,
  "metadata": {
    "accelerator": "GPU",
    "colab": {
      "name": "4 DL.ipynb",
      "provenance": [],
      "collapsed_sections": []
    },
    "kernelspec": {
      "display_name": "Python 3",
      "language": "python",
      "name": "python3"
    },
    "language_info": {
      "codemirror_mode": {
        "name": "ipython",
        "version": 3
      },
      "file_extension": ".py",
      "mimetype": "text/x-python",
      "name": "python",
      "nbconvert_exporter": "python",
      "pygments_lexer": "ipython3",
      "version": "3.7.6"
    }
  },
  "cells": [
    {
      "cell_type": "code",
      "metadata": {
        "colab": {
          "base_uri": "https://localhost:8080/"
        },
        "id": "XWRVp94ZC2JT",
        "outputId": "67886d1a-e2a4-4199-e5ae-84e4dfffa3f1"
      },
      "source": [
        "from google.colab import drive\r\n",
        "drive.mount('/content/gdrive/')\r\n",
        "path = \"/content/gdrive/My Drive/Colab Notebooks\""
      ],
      "execution_count": 1,
      "outputs": [
        {
          "output_type": "stream",
          "text": [
            "Drive already mounted at /content/gdrive/; to attempt to forcibly remount, call drive.mount(\"/content/gdrive/\", force_remount=True).\n"
          ],
          "name": "stdout"
        }
      ]
    },
    {
      "cell_type": "code",
      "metadata": {
        "id": "H9T7u3xUgXkK"
      },
      "source": [
        "import re, os, random\r\n",
        "import numpy as np\r\n",
        "import pandas as pd\r\n",
        "import matplotlib.pyplot as plt\r\n",
        "import seaborn as sns\r\n",
        "\r\n",
        "%matplotlib inline"
      ],
      "execution_count": 2,
      "outputs": []
    },
    {
      "cell_type": "code",
      "metadata": {
        "id": "m1e6MgLkCVq0"
      },
      "source": [
        "from sklearn import preprocessing\n",
        "from sklearn.model_selection import train_test_split"
      ],
      "execution_count": 3,
      "outputs": []
    },
    {
      "cell_type": "code",
      "metadata": {
        "id": "HHUUeaMLCVq2"
      },
      "source": [
        "!pip install -Uqq fastbook\n",
        "\n",
        "import fastbook\n",
        "fastbook.setup_book()\n",
        "from fastbook import *\n",
        "from fastai.tabular.all import *\n",
        "\n",
        "from fastai.tabular import *\n",
        "from fastai.tabular.all import *\n",
        "from fastai.tabular.data import *\n",
        "from fastai.tabular.learner import *\n",
        "from fastai.metrics import *"
      ],
      "execution_count": 4,
      "outputs": []
    },
    {
      "cell_type": "code",
      "metadata": {
        "colab": {
          "base_uri": "https://localhost:8080/"
        },
        "id": "bECm1jNQQw7b",
        "outputId": "4a17ad27-6464-49eb-c665-2a388c6fd9dc"
      },
      "source": [
        "device = torch.device(\"cuda\" if torch.cuda.is_available() else \"cpu\")\r\n",
        "device"
      ],
      "execution_count": 5,
      "outputs": [
        {
          "output_type": "execute_result",
          "data": {
            "text/plain": [
              "device(type='cuda')"
            ]
          },
          "metadata": {
            "tags": []
          },
          "execution_count": 5
        }
      ]
    },
    {
      "cell_type": "code",
      "metadata": {
        "colab": {
          "base_uri": "https://localhost:8080/"
        },
        "id": "spTI91QCCVq-",
        "outputId": "8eb4b433-9e44-48b6-bf3a-c7ce8fe1b8c0"
      },
      "source": [
        "data = pd.read_csv(path + r\"/data_shuf.csv\")\n",
        "alist = data.columns.to_list()\n",
        "alist"
      ],
      "execution_count": 6,
      "outputs": [
        {
          "output_type": "execute_result",
          "data": {
            "text/plain": [
              "['pop2012',\n",
              " 'night2012',\n",
              " 'road_len',\n",
              " 'cen_dist',\n",
              " 'city_pop_total',\n",
              " 'land_cover']"
            ]
          },
          "metadata": {
            "tags": []
          },
          "execution_count": 6
        }
      ]
    },
    {
      "cell_type": "code",
      "metadata": {
        "id": "g0qJLSIICVrL"
      },
      "source": [
        "cat = alist[-1]\n",
        "cont = alist[1:-1]\n",
        "y_names = alist[0]\n",
        "procs = [Categorify,]"
      ],
      "execution_count": 7,
      "outputs": []
    },
    {
      "cell_type": "code",
      "metadata": {
        "id": "C8g4mqfXFnXg"
      },
      "source": [
        "percent, length = 0.8, len(data.axes[0])\r\n",
        "stop = int(percent * length)\r\n",
        "valid_idx = list(range(stop,length))"
      ],
      "execution_count": 8,
      "outputs": []
    },
    {
      "cell_type": "code",
      "metadata": {
        "id": "02N2xAJfCVrM"
      },
      "source": [
        "dls = TabularDataLoaders.from_df(data, procs=procs, cat_names=cat, cont_names=cont,\n",
        "                y_names=y_names,  valid_idx=valid_idx, bs=64, shuffle_train=True, device=device)"
      ],
      "execution_count": 9,
      "outputs": []
    },
    {
      "cell_type": "code",
      "metadata": {
        "colab": {
          "base_uri": "https://localhost:8080/",
          "height": 358
        },
        "id": "zHDzs3UMCVrN",
        "outputId": "f5294f8e-6226-4f9d-e4d2-5b18bb438ebd"
      },
      "source": [
        "dls.show_batch()"
      ],
      "execution_count": 10,
      "outputs": [
        {
          "output_type": "display_data",
          "data": {
            "text/html": [
              "<table border=\"1\" class=\"dataframe\">\n",
              "  <thead>\n",
              "    <tr style=\"text-align: right;\">\n",
              "      <th></th>\n",
              "      <th>land_cover</th>\n",
              "      <th>night2012</th>\n",
              "      <th>road_len</th>\n",
              "      <th>cen_dist</th>\n",
              "      <th>city_pop_total</th>\n",
              "      <th>pop2012</th>\n",
              "    </tr>\n",
              "  </thead>\n",
              "  <tbody>\n",
              "    <tr>\n",
              "      <th>0</th>\n",
              "      <td>7</td>\n",
              "      <td>0.021028</td>\n",
              "      <td>0.112946</td>\n",
              "      <td>0.113418</td>\n",
              "      <td>0.032551</td>\n",
              "      <td>0.001355</td>\n",
              "    </tr>\n",
              "    <tr>\n",
              "      <th>1</th>\n",
              "      <td>7</td>\n",
              "      <td>0.016889</td>\n",
              "      <td>0.355973</td>\n",
              "      <td>0.156978</td>\n",
              "      <td>0.020128</td>\n",
              "      <td>0.012148</td>\n",
              "    </tr>\n",
              "    <tr>\n",
              "      <th>2</th>\n",
              "      <td>7</td>\n",
              "      <td>0.021862</td>\n",
              "      <td>0.250673</td>\n",
              "      <td>0.063429</td>\n",
              "      <td>0.035850</td>\n",
              "      <td>0.032114</td>\n",
              "    </tr>\n",
              "    <tr>\n",
              "      <th>3</th>\n",
              "      <td>7</td>\n",
              "      <td>0.001435</td>\n",
              "      <td>0.000000</td>\n",
              "      <td>0.126439</td>\n",
              "      <td>0.023663</td>\n",
              "      <td>0.000064</td>\n",
              "    </tr>\n",
              "    <tr>\n",
              "      <th>4</th>\n",
              "      <td>7</td>\n",
              "      <td>0.003505</td>\n",
              "      <td>0.022939</td>\n",
              "      <td>0.121648</td>\n",
              "      <td>0.022778</td>\n",
              "      <td>0.000000</td>\n",
              "    </tr>\n",
              "    <tr>\n",
              "      <th>5</th>\n",
              "      <td>7</td>\n",
              "      <td>0.001936</td>\n",
              "      <td>0.000000</td>\n",
              "      <td>0.539767</td>\n",
              "      <td>0.737284</td>\n",
              "      <td>0.000061</td>\n",
              "    </tr>\n",
              "    <tr>\n",
              "      <th>6</th>\n",
              "      <td>7</td>\n",
              "      <td>0.001569</td>\n",
              "      <td>0.130987</td>\n",
              "      <td>0.130815</td>\n",
              "      <td>0.032551</td>\n",
              "      <td>0.000124</td>\n",
              "    </tr>\n",
              "    <tr>\n",
              "      <th>7</th>\n",
              "      <td>7</td>\n",
              "      <td>0.004406</td>\n",
              "      <td>0.066717</td>\n",
              "      <td>0.149575</td>\n",
              "      <td>0.044978</td>\n",
              "      <td>0.000000</td>\n",
              "    </tr>\n",
              "    <tr>\n",
              "      <th>8</th>\n",
              "      <td>7</td>\n",
              "      <td>0.002003</td>\n",
              "      <td>0.052069</td>\n",
              "      <td>0.177310</td>\n",
              "      <td>0.027283</td>\n",
              "      <td>0.001081</td>\n",
              "    </tr>\n",
              "    <tr>\n",
              "      <th>9</th>\n",
              "      <td>2</td>\n",
              "      <td>0.048665</td>\n",
              "      <td>0.209484</td>\n",
              "      <td>0.060081</td>\n",
              "      <td>0.004890</td>\n",
              "      <td>0.024675</td>\n",
              "    </tr>\n",
              "  </tbody>\n",
              "</table>"
            ],
            "text/plain": [
              "<IPython.core.display.HTML object>"
            ]
          },
          "metadata": {
            "tags": []
          }
        }
      ]
    },
    {
      "cell_type": "code",
      "metadata": {
        "id": "DXoWjZtWCVrO"
      },
      "source": [
        "# 2 Hidden Layers with 1000 and 500 activations\r\n",
        "learn = tabular_learner(dls, layers=[1000,500], metrics=rmse)"
      ],
      "execution_count": 11,
      "outputs": []
    },
    {
      "cell_type": "code",
      "metadata": {
        "colab": {
          "base_uri": "https://localhost:8080/"
        },
        "id": "1d-9i5BtZdI2",
        "outputId": "b0cec5f0-179f-4de1-eed2-8e567aa69ac9"
      },
      "source": [
        "learn.model"
      ],
      "execution_count": 12,
      "outputs": [
        {
          "output_type": "execute_result",
          "data": {
            "text/plain": [
              "TabularModel(\n",
              "  (embeds): ModuleList(\n",
              "    (0): Embedding(12, 6)\n",
              "  )\n",
              "  (emb_drop): Dropout(p=0.0, inplace=False)\n",
              "  (bn_cont): BatchNorm1d(4, eps=1e-05, momentum=0.1, affine=True, track_running_stats=True)\n",
              "  (layers): Sequential(\n",
              "    (0): LinBnDrop(\n",
              "      (0): BatchNorm1d(10, eps=1e-05, momentum=0.1, affine=True, track_running_stats=True)\n",
              "      (1): Linear(in_features=10, out_features=1000, bias=False)\n",
              "      (2): ReLU(inplace=True)\n",
              "    )\n",
              "    (1): LinBnDrop(\n",
              "      (0): BatchNorm1d(1000, eps=1e-05, momentum=0.1, affine=True, track_running_stats=True)\n",
              "      (1): Linear(in_features=1000, out_features=500, bias=False)\n",
              "      (2): ReLU(inplace=True)\n",
              "    )\n",
              "    (2): LinBnDrop(\n",
              "      (0): Linear(in_features=500, out_features=1, bias=True)\n",
              "    )\n",
              "  )\n",
              ")"
            ]
          },
          "metadata": {
            "tags": []
          },
          "execution_count": 12
        }
      ]
    },
    {
      "cell_type": "code",
      "metadata": {
        "id": "XKTlWh7LbRC1",
        "colab": {
          "base_uri": "https://localhost:8080/",
          "height": 493
        },
        "outputId": "d6038496-e9a0-4d21-e721-6b34672911e8"
      },
      "source": [
        "epoch = 5\r\n",
        "lr = learn.lr_find()[0]\r\n",
        "print('Learning rate is now,', lr)\r\n",
        "learn.fit_one_cycle(epoch, lr)\r\n",
        "learn.recorder.plot_loss()"
      ],
      "execution_count": 13,
      "outputs": [
        {
          "output_type": "display_data",
          "data": {
            "text/html": [
              ""
            ],
            "text/plain": [
              "<IPython.core.display.HTML object>"
            ]
          },
          "metadata": {
            "tags": []
          }
        },
        {
          "output_type": "stream",
          "text": [
            "Learning rate is now, 6.918309954926372e-05\n"
          ],
          "name": "stdout"
        },
        {
          "output_type": "display_data",
          "data": {
            "text/html": [
              "<table border=\"1\" class=\"dataframe\">\n",
              "  <thead>\n",
              "    <tr style=\"text-align: left;\">\n",
              "      <th>epoch</th>\n",
              "      <th>train_loss</th>\n",
              "      <th>valid_loss</th>\n",
              "      <th>_rmse</th>\n",
              "      <th>time</th>\n",
              "    </tr>\n",
              "  </thead>\n",
              "  <tbody>\n",
              "    <tr>\n",
              "      <td>0</td>\n",
              "      <td>0.001005</td>\n",
              "      <td>0.002131</td>\n",
              "      <td>0.046163</td>\n",
              "      <td>00:52</td>\n",
              "    </tr>\n",
              "    <tr>\n",
              "      <td>1</td>\n",
              "      <td>0.000442</td>\n",
              "      <td>0.000459</td>\n",
              "      <td>0.021416</td>\n",
              "      <td>00:52</td>\n",
              "    </tr>\n",
              "    <tr>\n",
              "      <td>2</td>\n",
              "      <td>0.000459</td>\n",
              "      <td>0.000350</td>\n",
              "      <td>0.018707</td>\n",
              "      <td>00:51</td>\n",
              "    </tr>\n",
              "    <tr>\n",
              "      <td>3</td>\n",
              "      <td>0.000358</td>\n",
              "      <td>0.000278</td>\n",
              "      <td>0.016677</td>\n",
              "      <td>00:53</td>\n",
              "    </tr>\n",
              "    <tr>\n",
              "      <td>4</td>\n",
              "      <td>0.000226</td>\n",
              "      <td>0.000268</td>\n",
              "      <td>0.016362</td>\n",
              "      <td>00:52</td>\n",
              "    </tr>\n",
              "  </tbody>\n",
              "</table>"
            ],
            "text/plain": [
              "<IPython.core.display.HTML object>"
            ]
          },
          "metadata": {
            "tags": []
          }
        },
        {
          "output_type": "display_data",
          "data": {
            "image/png": "[encoded data removed]",
            "text/plain": [
              "<Figure size 432x288 with 1 Axes>"
            ]
          },
          "metadata": {
            "tags": [],
            "needs_background": "light"
          }
        }
      ]
    },
    {
      "cell_type": "code",
      "metadata": {
        "colab": {
          "base_uri": "https://localhost:8080/",
          "height": 493
        },
        "id": "8ChTzHnlPjL1",
        "outputId": "9d2214ec-2856-47d4-9ce0-863d0e4491e2"
      },
      "source": [
        "epoch = 5\r\n",
        "lr = learn.lr_find()[0]\r\n",
        "print('Learning rate is now,', lr)\r\n",
        "learn.fit_one_cycle(epoch, lr)\r\n",
        "learn.recorder.plot_loss()"
      ],
      "execution_count": 14,
      "outputs": [
        {
          "output_type": "display_data",
          "data": {
            "text/html": [
              ""
            ],
            "text/plain": [
              "<IPython.core.display.HTML object>"
            ]
          },
          "metadata": {
            "tags": []
          }
        },
        {
          "output_type": "stream",
          "text": [
            "Learning rate is now, 1.318256749982538e-07\n"
          ],
          "name": "stdout"
        },
        {
          "output_type": "display_data",
          "data": {
            "text/html": [
              "<table border=\"1\" class=\"dataframe\">\n",
              "  <thead>\n",
              "    <tr style=\"text-align: left;\">\n",
              "      <th>epoch</th>\n",
              "      <th>train_loss</th>\n",
              "      <th>valid_loss</th>\n",
              "      <th>_rmse</th>\n",
              "      <th>time</th>\n",
              "    </tr>\n",
              "  </thead>\n",
              "  <tbody>\n",
              "    <tr>\n",
              "      <td>0</td>\n",
              "      <td>0.000327</td>\n",
              "      <td>0.000268</td>\n",
              "      <td>0.016361</td>\n",
              "      <td>00:51</td>\n",
              "    </tr>\n",
              "    <tr>\n",
              "      <td>1</td>\n",
              "      <td>0.000251</td>\n",
              "      <td>0.000269</td>\n",
              "      <td>0.016409</td>\n",
              "      <td>00:53</td>\n",
              "    </tr>\n",
              "    <tr>\n",
              "      <td>2</td>\n",
              "      <td>0.000249</td>\n",
              "      <td>0.000272</td>\n",
              "      <td>0.016477</td>\n",
              "      <td>00:52</td>\n",
              "    </tr>\n",
              "    <tr>\n",
              "      <td>3</td>\n",
              "      <td>0.000246</td>\n",
              "      <td>0.000266</td>\n",
              "      <td>0.016295</td>\n",
              "      <td>00:52</td>\n",
              "    </tr>\n",
              "    <tr>\n",
              "      <td>4</td>\n",
              "      <td>0.000264</td>\n",
              "      <td>0.000271</td>\n",
              "      <td>0.016448</td>\n",
              "      <td>00:51</td>\n",
              "    </tr>\n",
              "  </tbody>\n",
              "</table>"
            ],
            "text/plain": [
              "<IPython.core.display.HTML object>"
            ]
          },
          "metadata": {
            "tags": []
          }
        },
        {
          "output_type": "display_data",
          "data": {
            "image/png": "[encoded data removed]",
            "text/plain": [
              "<Figure size 432x288 with 1 Axes>"
            ]
          },
          "metadata": {
            "tags": [],
            "needs_background": "light"
          }
        }
      ]
    },
    {
      "cell_type": "code",
      "metadata": {
        "colab": {
          "base_uri": "https://localhost:8080/",
          "height": 647
        },
        "id": "5WUq7p2ZVf-c",
        "outputId": "d0a8a086-9d5f-4463-e195-ae345d712c9a"
      },
      "source": [
        "epoch = 10\r\n",
        "lr = learn.lr_find()[0]\r\n",
        "print('Learning rate is now,', lr)\r\n",
        "learn.fit_one_cycle(epoch, lr)\r\n",
        "learn.recorder.plot_loss()\r\n",
        "rmse = learn.metrics[-1].value.tolist()"
      ],
      "execution_count": 16,
      "outputs": [
        {
          "output_type": "display_data",
          "data": {
            "text/html": [
              ""
            ],
            "text/plain": [
              "<IPython.core.display.HTML object>"
            ]
          },
          "metadata": {
            "tags": []
          }
        },
        {
          "output_type": "stream",
          "text": [
            "Learning rate is now, 6.309573450380412e-08\n"
          ],
          "name": "stdout"
        },
        {
          "output_type": "display_data",
          "data": {
            "text/html": [
              "<table border=\"1\" class=\"dataframe\">\n",
              "  <thead>\n",
              "    <tr style=\"text-align: left;\">\n",
              "      <th>epoch</th>\n",
              "      <th>train_loss</th>\n",
              "      <th>valid_loss</th>\n",
              "      <th>_rmse</th>\n",
              "      <th>time</th>\n",
              "    </tr>\n",
              "  </thead>\n",
              "  <tbody>\n",
              "    <tr>\n",
              "      <td>0</td>\n",
              "      <td>0.000289</td>\n",
              "      <td>0.000263</td>\n",
              "      <td>0.016203</td>\n",
              "      <td>00:52</td>\n",
              "    </tr>\n",
              "    <tr>\n",
              "      <td>1</td>\n",
              "      <td>0.000295</td>\n",
              "      <td>0.000266</td>\n",
              "      <td>0.016321</td>\n",
              "      <td>00:51</td>\n",
              "    </tr>\n",
              "    <tr>\n",
              "      <td>2</td>\n",
              "      <td>0.000358</td>\n",
              "      <td>0.000264</td>\n",
              "      <td>0.016262</td>\n",
              "      <td>00:52</td>\n",
              "    </tr>\n",
              "    <tr>\n",
              "      <td>3</td>\n",
              "      <td>0.000244</td>\n",
              "      <td>0.000270</td>\n",
              "      <td>0.016447</td>\n",
              "      <td>00:52</td>\n",
              "    </tr>\n",
              "    <tr>\n",
              "      <td>4</td>\n",
              "      <td>0.000292</td>\n",
              "      <td>0.000268</td>\n",
              "      <td>0.016386</td>\n",
              "      <td>00:52</td>\n",
              "    </tr>\n",
              "    <tr>\n",
              "      <td>5</td>\n",
              "      <td>0.000285</td>\n",
              "      <td>0.000268</td>\n",
              "      <td>0.016381</td>\n",
              "      <td>00:52</td>\n",
              "    </tr>\n",
              "    <tr>\n",
              "      <td>6</td>\n",
              "      <td>0.000316</td>\n",
              "      <td>0.000268</td>\n",
              "      <td>0.016383</td>\n",
              "      <td>00:53</td>\n",
              "    </tr>\n",
              "    <tr>\n",
              "      <td>7</td>\n",
              "      <td>0.000243</td>\n",
              "      <td>0.000267</td>\n",
              "      <td>0.016330</td>\n",
              "      <td>00:52</td>\n",
              "    </tr>\n",
              "    <tr>\n",
              "      <td>8</td>\n",
              "      <td>0.000258</td>\n",
              "      <td>0.000266</td>\n",
              "      <td>0.016320</td>\n",
              "      <td>00:53</td>\n",
              "    </tr>\n",
              "    <tr>\n",
              "      <td>9</td>\n",
              "      <td>0.000372</td>\n",
              "      <td>0.000270</td>\n",
              "      <td>0.016437</td>\n",
              "      <td>00:52</td>\n",
              "    </tr>\n",
              "  </tbody>\n",
              "</table>"
            ],
            "text/plain": [
              "<IPython.core.display.HTML object>"
            ]
          },
          "metadata": {
            "tags": []
          }
        },
        {
          "output_type": "display_data",
          "data": {
            "image/png": "[encoded data removed]",
            "text/plain": [
              "<Figure size 432x288 with 1 Axes>"
            ]
          },
          "metadata": {
            "tags": [],
            "needs_background": "light"
          }
        }
      ]
    },
    {
      "cell_type": "code",
      "metadata": {
        "colab": {
          "base_uri": "https://localhost:8080/"
        },
        "id": "qBXKatDwUPX7",
        "outputId": "ef1215ea-ce4d-489d-b9ca-d7c4e35dedd8"
      },
      "source": [
        "std = data.describe().to_dict()['pop2012']['std']\r\n",
        "R2 = 1 - (rmse / std) ** 2\r\n",
        "R2"
      ],
      "execution_count": 18,
      "outputs": [
        {
          "output_type": "execute_result",
          "data": {
            "text/plain": [
              "0.7395124980144978"
            ]
          },
          "metadata": {
            "tags": []
          },
          "execution_count": 18
        }
      ]
    },
    {
      "cell_type": "code",
      "metadata": {
        "colab": {
          "base_uri": "https://localhost:8080/",
          "height": 327
        },
        "id": "ieHG7A6E59R9",
        "outputId": "de4d48c9-745b-49b3-e57f-f03af9a729ec"
      },
      "source": [
        "learn.show_results()"
      ],
      "execution_count": 19,
      "outputs": [
        {
          "output_type": "display_data",
          "data": {
            "text/html": [
              ""
            ],
            "text/plain": [
              "<IPython.core.display.HTML object>"
            ]
          },
          "metadata": {
            "tags": []
          }
        },
        {
          "output_type": "display_data",
          "data": {
            "text/html": [
              "<table border=\"1\" class=\"dataframe\">\n",
              "  <thead>\n",
              "    <tr style=\"text-align: right;\">\n",
              "      <th></th>\n",
              "      <th>land_cover</th>\n",
              "      <th>night2012</th>\n",
              "      <th>road_len</th>\n",
              "      <th>cen_dist</th>\n",
              "      <th>city_pop_total</th>\n",
              "      <th>pop2012</th>\n",
              "      <th>pop2012_pred</th>\n",
              "    </tr>\n",
              "  </thead>\n",
              "  <tbody>\n",
              "    <tr>\n",
              "      <th>0</th>\n",
              "      <td>7.0</td>\n",
              "      <td>0.014119</td>\n",
              "      <td>0.061794</td>\n",
              "      <td>0.115248</td>\n",
              "      <td>0.044978</td>\n",
              "      <td>0.000055</td>\n",
              "      <td>0.001847</td>\n",
              "    </tr>\n",
              "    <tr>\n",
              "      <th>1</th>\n",
              "      <td>7.0</td>\n",
              "      <td>0.023097</td>\n",
              "      <td>0.026206</td>\n",
              "      <td>0.189918</td>\n",
              "      <td>0.083631</td>\n",
              "      <td>0.002023</td>\n",
              "      <td>0.001598</td>\n",
              "    </tr>\n",
              "    <tr>\n",
              "      <th>2</th>\n",
              "      <td>10.0</td>\n",
              "      <td>0.017156</td>\n",
              "      <td>0.069904</td>\n",
              "      <td>0.432643</td>\n",
              "      <td>0.101936</td>\n",
              "      <td>0.000169</td>\n",
              "      <td>-0.000929</td>\n",
              "    </tr>\n",
              "    <tr>\n",
              "      <th>3</th>\n",
              "      <td>7.0</td>\n",
              "      <td>0.019593</td>\n",
              "      <td>0.057677</td>\n",
              "      <td>0.361870</td>\n",
              "      <td>0.737284</td>\n",
              "      <td>0.000000</td>\n",
              "      <td>0.000992</td>\n",
              "    </tr>\n",
              "    <tr>\n",
              "      <th>4</th>\n",
              "      <td>5.0</td>\n",
              "      <td>0.014286</td>\n",
              "      <td>0.000000</td>\n",
              "      <td>0.260898</td>\n",
              "      <td>0.737284</td>\n",
              "      <td>0.000379</td>\n",
              "      <td>0.005625</td>\n",
              "    </tr>\n",
              "    <tr>\n",
              "      <th>5</th>\n",
              "      <td>8.0</td>\n",
              "      <td>0.060848</td>\n",
              "      <td>0.191459</td>\n",
              "      <td>0.105862</td>\n",
              "      <td>0.044978</td>\n",
              "      <td>0.001605</td>\n",
              "      <td>0.022141</td>\n",
              "    </tr>\n",
              "    <tr>\n",
              "      <th>6</th>\n",
              "      <td>8.0</td>\n",
              "      <td>0.000601</td>\n",
              "      <td>0.003308</td>\n",
              "      <td>0.461520</td>\n",
              "      <td>0.136440</td>\n",
              "      <td>0.000000</td>\n",
              "      <td>0.003412</td>\n",
              "    </tr>\n",
              "    <tr>\n",
              "      <th>7</th>\n",
              "      <td>7.0</td>\n",
              "      <td>0.000701</td>\n",
              "      <td>0.010005</td>\n",
              "      <td>0.273354</td>\n",
              "      <td>0.020128</td>\n",
              "      <td>0.000000</td>\n",
              "      <td>-0.000508</td>\n",
              "    </tr>\n",
              "    <tr>\n",
              "      <th>8</th>\n",
              "      <td>7.0</td>\n",
              "      <td>0.037150</td>\n",
              "      <td>0.000000</td>\n",
              "      <td>0.246008</td>\n",
              "      <td>0.350438</td>\n",
              "      <td>0.000073</td>\n",
              "      <td>-0.005585</td>\n",
              "    </tr>\n",
              "  </tbody>\n",
              "</table>"
            ],
            "text/plain": [
              "<IPython.core.display.HTML object>"
            ]
          },
          "metadata": {
            "tags": []
          }
        }
      ]
    },
    {
      "cell_type": "code",
      "metadata": {
        "colab": {
          "base_uri": "https://localhost:8080/"
        },
        "id": "hC43yONA6qVB",
        "outputId": "ad5da4f2-40d5-46f8-95d9-d73a5fe929d9"
      },
      "source": [
        "learn.export(path + \"/DL.pkl\")\r\n",
        "print(\"Model Saved!\")"
      ],
      "execution_count": 20,
      "outputs": [
        {
          "output_type": "stream",
          "text": [
            "Model Saved!\n"
          ],
          "name": "stdout"
        }
      ]
    },
    {
      "cell_type": "markdown",
      "metadata": {
        "id": "qs21flOYKhE9"
      },
      "source": [
        "## Now Prediction!"
      ]
    },
    {
      "cell_type": "code",
      "metadata": {
        "id": "nTLoB4PYK9XC"
      },
      "source": [
        "# predict with the model\r\n",
        "data_new = pd.read_csv(path+\"/data_new.csv\")"
      ],
      "execution_count": 21,
      "outputs": []
    },
    {
      "cell_type": "code",
      "metadata": {
        "id": "eJAFFutqKg1W"
      },
      "source": [
        "learn_inf = load_learner(path+\"/DL.pkl\")"
      ],
      "execution_count": 22,
      "outputs": []
    },
    {
      "cell_type": "markdown",
      "metadata": {
        "id": "mpak-y2_81gJ"
      },
      "source": [
        "To get prediction on a new dataframe, you can use the test_dl method of the DataLoaders. That dataframe does not need to have the dependent variable in its column.\r\n"
      ]
    },
    {
      "cell_type": "code",
      "metadata": {
        "colab": {
          "base_uri": "https://localhost:8080/",
          "height": 79
        },
        "id": "65grmMS38f7H",
        "outputId": "5ed13892-1e0f-42a7-e4d0-19c53de218e1"
      },
      "source": [
        "row, clas, probs = learn_inf.predict(data_new.iloc[0])\r\n",
        "row.show()"
      ],
      "execution_count": 23,
      "outputs": [
        {
          "output_type": "display_data",
          "data": {
            "text/html": [
              ""
            ],
            "text/plain": [
              "<IPython.core.display.HTML object>"
            ]
          },
          "metadata": {
            "tags": []
          }
        },
        {
          "output_type": "display_data",
          "data": {
            "text/html": [
              "<table border=\"1\" class=\"dataframe\">\n",
              "  <thead>\n",
              "    <tr style=\"text-align: right;\">\n",
              "      <th></th>\n",
              "      <th>land_cover</th>\n",
              "      <th>night2012</th>\n",
              "      <th>road_len</th>\n",
              "      <th>cen_dist</th>\n",
              "      <th>city_pop_total</th>\n",
              "      <th>pop2012</th>\n",
              "    </tr>\n",
              "  </thead>\n",
              "  <tbody>\n",
              "    <tr>\n",
              "      <th>0</th>\n",
              "      <td>1</td>\n",
              "      <td>0.100334</td>\n",
              "      <td>0.346998</td>\n",
              "      <td>0.030507</td>\n",
              "      <td>0.002319</td>\n",
              "      <td>0.099282</td>\n",
              "    </tr>\n",
              "  </tbody>\n",
              "</table>"
            ],
            "text/plain": [
              "<IPython.core.display.HTML object>"
            ]
          },
          "metadata": {
            "tags": []
          }
        }
      ]
    },
    {
      "cell_type": "code",
      "metadata": {
        "id": "mXIptQWPKxQN"
      },
      "source": [
        "# Copy in the csv\r\n",
        "data = pd.read_csv(path+r\"/data.csv\")"
      ],
      "execution_count": 24,
      "outputs": []
    },
    {
      "cell_type": "code",
      "metadata": {
        "id": "xwGitGcWpej2"
      },
      "source": [
        "data['pop_pred_DL'] = 0"
      ],
      "execution_count": 25,
      "outputs": []
    },
    {
      "cell_type": "code",
      "metadata": {
        "id": "U0lUSHoQotE9"
      },
      "source": [
        "for i in range(length):\r\n",
        "    data.loc[i,'pop_pred_DL'] = learn_inf.predict(data_new.iloc[i])[0]['pop2012'].item()"
      ],
      "execution_count": null,
      "outputs": []
    },
    {
      "cell_type": "code",
      "metadata": {
        "id": "oa1f5OP3Kov9"
      },
      "source": [
        "# Transform to the pre-normalized state\r\n",
        "maxi = 57586.267532\r\n",
        "data['pop_pred_DL'] *= maxi"
      ],
      "execution_count": null,
      "outputs": []
    },
    {
      "cell_type": "code",
      "metadata": {
        "id": "8Qh3K3NmKt-Q"
      },
      "source": [
        "data.head()"
      ],
      "execution_count": null,
      "outputs": []
    },
    {
      "cell_type": "code",
      "metadata": {
        "id": "1GETDDSX6hCw"
      },
      "source": [
        "data.to_csv(path+r\"/data_preds.csv\",index=False)\r\n",
        "print('File Exported!')"
      ],
      "execution_count": null,
      "outputs": []
    }
  ]
}