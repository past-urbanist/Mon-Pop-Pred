{
 "cells": [
  {
   "cell_type": "code",
   "execution_count": 5,
   "metadata": {
    "id": "4QgcbRbXCVqy"
   },
   "outputs": [],
   "source": [
    "import re, os, random\n",
    "import numpy as np\n",
    "import pandas as pd\n",
    "import matplotlib.pyplot as plt\n",
    "import joblib"
   ]
  },
  {
   "cell_type": "code",
   "execution_count": 6,
   "metadata": {},
   "outputs": [],
   "source": [
    "from sklearn import preprocessing\n",
    "import fastbook\n",
    "fastbook.setup_book()\n",
    "from fastbook import *\n",
    "\n",
    "from fastai.tabular import *\n",
    "from fastai.tabular.all import *\n",
    "from fastai.tabular.data import *\n",
    "from fastai.tabular.learner import *"
   ]
  },
  {
   "cell_type": "code",
   "execution_count": 7,
   "metadata": {
    "colab": {
     "base_uri": "https://localhost:8080/",
     "height": 225
    },
    "id": "spTI91QCCVq-",
    "outputId": "21b73cb8-c208-4cf1-ae14-e2572fec56b8"
   },
   "outputs": [
    {
     "data": {
      "text/html": [
       "<div>\n",
       "<style scoped>\n",
       "    .dataframe tbody tr th:only-of-type {\n",
       "        vertical-align: middle;\n",
       "    }\n",
       "\n",
       "    .dataframe tbody tr th {\n",
       "        vertical-align: top;\n",
       "    }\n",
       "\n",
       "    .dataframe thead th {\n",
       "        text-align: right;\n",
       "    }\n",
       "</style>\n",
       "<table border=\"1\" class=\"dataframe\">\n",
       "  <thead>\n",
       "    <tr style=\"text-align: right;\">\n",
       "      <th></th>\n",
       "      <th>X</th>\n",
       "      <th>Y</th>\n",
       "      <th>country</th>\n",
       "      <th>fua_name</th>\n",
       "      <th>city_pop</th>\n",
       "      <th>pop2012</th>\n",
       "      <th>road_len</th>\n",
       "      <th>land_cover</th>\n",
       "      <th>night202001</th>\n",
       "      <th>night202002</th>\n",
       "      <th>night202005</th>\n",
       "      <th>night202006</th>\n",
       "      <th>night202003</th>\n",
       "      <th>night202004</th>\n",
       "      <th>cen_dist</th>\n",
       "    </tr>\n",
       "  </thead>\n",
       "  <tbody>\n",
       "    <tr>\n",
       "      <th>0</th>\n",
       "      <td>4.487501</td>\n",
       "      <td>51.008333</td>\n",
       "      <td>BE</td>\n",
       "      <td>Bruxelles / Brussel</td>\n",
       "      <td>4892537</td>\n",
       "      <td>206.316861</td>\n",
       "      <td>0.001409</td>\n",
       "      <td>7</td>\n",
       "      <td>16.559999</td>\n",
       "      <td>14.21</td>\n",
       "      <td>19.18</td>\n",
       "      <td>17.879999</td>\n",
       "      <td>20.50</td>\n",
       "      <td>22.07</td>\n",
       "      <td>27430.20297</td>\n",
       "    </tr>\n",
       "    <tr>\n",
       "      <th>1</th>\n",
       "      <td>4.491667</td>\n",
       "      <td>51.008333</td>\n",
       "      <td>BE</td>\n",
       "      <td>Bruxelles / Brussel</td>\n",
       "      <td>4892537</td>\n",
       "      <td>845.095145</td>\n",
       "      <td>0.005011</td>\n",
       "      <td>2</td>\n",
       "      <td>15.290000</td>\n",
       "      <td>14.21</td>\n",
       "      <td>15.13</td>\n",
       "      <td>11.850000</td>\n",
       "      <td>13.69</td>\n",
       "      <td>13.50</td>\n",
       "      <td>27724.21038</td>\n",
       "    </tr>\n",
       "    <tr>\n",
       "      <th>2</th>\n",
       "      <td>4.495834</td>\n",
       "      <td>51.008333</td>\n",
       "      <td>BE</td>\n",
       "      <td>Bruxelles / Brussel</td>\n",
       "      <td>4892537</td>\n",
       "      <td>648.962256</td>\n",
       "      <td>0.009897</td>\n",
       "      <td>7</td>\n",
       "      <td>9.360000</td>\n",
       "      <td>9.97</td>\n",
       "      <td>11.04</td>\n",
       "      <td>9.750000</td>\n",
       "      <td>11.70</td>\n",
       "      <td>11.72</td>\n",
       "      <td>28022.79795</td>\n",
       "    </tr>\n",
       "    <tr>\n",
       "      <th>3</th>\n",
       "      <td>4.500001</td>\n",
       "      <td>51.008333</td>\n",
       "      <td>BE</td>\n",
       "      <td>Bruxelles / Brussel</td>\n",
       "      <td>4892537</td>\n",
       "      <td>0.000000</td>\n",
       "      <td>0.000000</td>\n",
       "      <td>2</td>\n",
       "      <td>9.940000</td>\n",
       "      <td>11.37</td>\n",
       "      <td>10.07</td>\n",
       "      <td>10.250000</td>\n",
       "      <td>11.08</td>\n",
       "      <td>13.57</td>\n",
       "      <td>28325.82084</td>\n",
       "    </tr>\n",
       "    <tr>\n",
       "      <th>4</th>\n",
       "      <td>4.320834</td>\n",
       "      <td>51.004166</td>\n",
       "      <td>BE</td>\n",
       "      <td>Bruxelles / Brussel</td>\n",
       "      <td>4892537</td>\n",
       "      <td>272.925815</td>\n",
       "      <td>0.000000</td>\n",
       "      <td>7</td>\n",
       "      <td>7.360000</td>\n",
       "      <td>10.34</td>\n",
       "      <td>8.88</td>\n",
       "      <td>11.440000</td>\n",
       "      <td>14.63</td>\n",
       "      <td>12.39</td>\n",
       "      <td>20893.36067</td>\n",
       "    </tr>\n",
       "  </tbody>\n",
       "</table>\n",
       "</div>"
      ],
      "text/plain": [
       "          X          Y country             fua_name  city_pop     pop2012  \\\n",
       "0  4.487501  51.008333      BE  Bruxelles / Brussel   4892537  206.316861   \n",
       "1  4.491667  51.008333      BE  Bruxelles / Brussel   4892537  845.095145   \n",
       "2  4.495834  51.008333      BE  Bruxelles / Brussel   4892537  648.962256   \n",
       "3  4.500001  51.008333      BE  Bruxelles / Brussel   4892537    0.000000   \n",
       "4  4.320834  51.004166      BE  Bruxelles / Brussel   4892537  272.925815   \n",
       "\n",
       "   road_len  land_cover  night202001  night202002  night202005  night202006  \\\n",
       "0  0.001409           7    16.559999        14.21        19.18    17.879999   \n",
       "1  0.005011           2    15.290000        14.21        15.13    11.850000   \n",
       "2  0.009897           7     9.360000         9.97        11.04     9.750000   \n",
       "3  0.000000           2     9.940000        11.37        10.07    10.250000   \n",
       "4  0.000000           7     7.360000        10.34         8.88    11.440000   \n",
       "\n",
       "   night202003  night202004     cen_dist  \n",
       "0        20.50        22.07  27430.20297  \n",
       "1        13.69        13.50  27724.21038  \n",
       "2        11.70        11.72  28022.79795  \n",
       "3        11.08        13.57  28325.82084  \n",
       "4        14.63        12.39  20893.36067  "
      ]
     },
     "execution_count": 7,
     "metadata": {},
     "output_type": "execute_result"
    }
   ],
   "source": [
    "# Take the case of data in 2012\n",
    "data_ori = pd.read_csv(\"data2020.csv\")\n",
    "data_ori = data_ori.drop('fid',axis=1)\n",
    "data = data_ori.copy()\n",
    "data.head()"
   ]
  },
  {
   "cell_type": "code",
   "execution_count": 8,
   "metadata": {},
   "outputs": [
    {
     "data": {
      "text/plain": [
       "['X',\n",
       " 'Y',\n",
       " 'country',\n",
       " 'fua_name',\n",
       " 'city_pop',\n",
       " 'pop2012',\n",
       " 'road_len',\n",
       " 'land_cover',\n",
       " 'night202001',\n",
       " 'night202002',\n",
       " 'night202005',\n",
       " 'night202006',\n",
       " 'night202003',\n",
       " 'night202004',\n",
       " 'cen_dist']"
      ]
     },
     "execution_count": 8,
     "metadata": {},
     "output_type": "execute_result"
    }
   ],
   "source": [
    "alist = data.columns.to_list()\n",
    "alist"
   ]
  },
  {
   "cell_type": "code",
   "execution_count": 9,
   "metadata": {},
   "outputs": [],
   "source": [
    "alist = ['pop2012', 'night', 'road_len', 'city_pop', 'cen_dist', 'X', 'Y', 'land_cover','city_id']"
   ]
  },
  {
   "cell_type": "code",
   "execution_count": 10,
   "metadata": {
    "id": "jg767eVnCVrD"
   },
   "outputs": [],
   "source": [
    "# StandardScaler will subtract the mean from each value, then scale to the unit variance\n",
    "scaler = preprocessing.MinMaxScaler()\n",
    "blist = ['road_len','city_pop', 'cen_dist']\n",
    "data1 = data[blist]\n",
    "data_new = scaler.fit_transform(data1.values.reshape(-1, len(blist)))\n",
    "data_new = pd.DataFrame(data_new, columns=blist)"
   ]
  },
  {
   "cell_type": "code",
   "execution_count": 11,
   "metadata": {
    "id": "4R426CZXCVrE"
   },
   "outputs": [],
   "source": [
    "# Factorize the city id\n",
    "data_new['land_cover'] = data['land_cover']\n",
    "data['city_id'] = data['fua_name'].factorize()[0]\n",
    "data_new['city_id'] = data['city_id']"
   ]
  },
  {
   "cell_type": "code",
   "execution_count": 12,
   "metadata": {},
   "outputs": [],
   "source": [
    "# Based on different city_id, to normalize the longitude and latitude\n",
    "blist = ['X','Y']\n",
    "for col in blist:\n",
    "    data[col+'_max'] = data.groupby(['city_id'])[col].transform(max)\n",
    "    data[col+'_min'] = data.groupby(['city_id'])[col].transform(min)\n",
    "    data_new[col] = ((data[col] - data[col+'_min']) / (data[col+'_max'] - data[col+'_min']))"
   ]
  },
  {
   "cell_type": "code",
   "execution_count": 13,
   "metadata": {},
   "outputs": [
    {
     "name": "stdout",
     "output_type": "stream",
     "text": [
      "01: File Exported!\n",
      "02: File Exported!\n",
      "03: File Exported!\n",
      "04: File Exported!\n",
      "05: File Exported!\n",
      "06: File Exported!\n"
     ]
    }
   ],
   "source": [
    "max_night = 278.359985\n",
    "mon_list = ['01','02', '03', '04', '05', '06']\n",
    "for mon in mon_list:\n",
    "    data_new['night'] = data['night2020'+mon].to_list() \n",
    "    data_new['night'] /= max_night\n",
    "    data_new = data_new[alist[1:]]\n",
    "    data_new.to_csv('night2020'+mon+'.csv',index=False)\n",
    "    print(mon+': File Exported!')"
   ]
  },
  {
   "cell_type": "markdown",
   "metadata": {},
   "source": [
    "## Prediction"
   ]
  },
  {
   "cell_type": "code",
   "execution_count": 14,
   "metadata": {},
   "outputs": [],
   "source": [
    "def predict_tabular(mon, xs, joblib_file, pop_max):  \n",
    "    # Load from file\n",
    "    joblib_model = joblib.load(joblib_file)\n",
    "    preds = joblib_model.predict(xs)\n",
    "    \n",
    "    # Transform to the pre-normalized state\n",
    "    preds = preds * pop_max\n",
    "\n",
    "    # Copy in the csv\n",
    "    data = pd.read_csv(\"data2020.csv\")\n",
    "    data['pop'+mon[-2:]] = preds\n",
    "    data['pop'+mon[-2:]] = data['pop'+mon[-2:]].apply(lambda x: max(0,x))\n",
    "    data.to_csv(\"data2020.csv\",index=False)\n",
    "    print(mon+': File Exported!')"
   ]
  },
  {
   "cell_type": "code",
   "execution_count": 15,
   "metadata": {},
   "outputs": [
    {
     "name": "stdout",
     "output_type": "stream",
     "text": [
      "night202001: File Exported!\n",
      "night202002: File Exported!\n",
      "night202003: File Exported!\n",
      "night202004: File Exported!\n",
      "night202005: File Exported!\n",
      "night202006: File Exported!\n"
     ]
    }
   ],
   "source": [
    "pop_list = ['pop01','pop02','pop03','pop04','pop05','pop06',]\n",
    "night_list = ['night202001','night202002','night202003','night202004','night202005','night202006',]\n",
    "joblib_file = \"gbrt.pkl\"\n",
    "for mon in night_list:\n",
    "    data_pred = pd.read_csv(mon+'.csv')\n",
    "    to = TabularPandas(data_pred, procs=[Categorify,], cat_names=alist[-2:], cont_names=alist[1:-2])\n",
    "    predict_tabular(mon, xs=to.xs, joblib_file=joblib_file, pop_max=85729.664432)"
   ]
  },
  {
   "cell_type": "code",
   "execution_count": 16,
   "metadata": {},
   "outputs": [
    {
     "data": {
      "text/plain": [
       "52.01602471061114"
      ]
     },
     "execution_count": 16,
     "metadata": {},
     "output_type": "execute_result"
    }
   ],
   "source": [
    "data_pred = pd.read_csv('data2020.csv')\n",
    "data_pred['popstd'] = np.std(data_pred[pop_list],axis=1)\n",
    "data_pred['nightstd'] =  np.std(data_pred[night_list],axis=1)\n",
    "data_pred['S'] = data_pred['popstd'] / data_pred['nightstd']\n",
    "data_pred['S'].mean()"
   ]
  },
  {
   "cell_type": "code",
   "execution_count": 17,
   "metadata": {},
   "outputs": [
    {
     "data": {
      "text/plain": [
       "(1079.918606882703, 0.8350135898672021)"
      ]
     },
     "execution_count": 17,
     "metadata": {},
     "output_type": "execute_result"
    }
   ],
   "source": [
    "from sklearn.metrics import mean_squared_error\n",
    "rmse = mean_squared_error(data_pred['pop2012'],data_pred['pop01'],squared=False)\n",
    "std = data_pred.describe().to_dict()['pop2012']['std']\n",
    "R2 = 1 - ( rmse / std ) ** 2\n",
    "rmse, R2"
   ]
  }
 ],
 "metadata": {
  "colab": {
   "collapsed_sections": [],
   "name": "0 Data Preparation.ipynb",
   "provenance": []
  },
  "kernelspec": {
   "display_name": "Python 3",
   "language": "python",
   "name": "python3"
  },
  "language_info": {
   "codemirror_mode": {
    "name": "ipython",
    "version": 3
   },
   "file_extension": ".py",
   "mimetype": "text/x-python",
   "name": "python",
   "nbconvert_exporter": "python",
   "pygments_lexer": "ipython3",
   "version": "3.7.6"
  }
 },
 "nbformat": 4,
 "nbformat_minor": 1
}
