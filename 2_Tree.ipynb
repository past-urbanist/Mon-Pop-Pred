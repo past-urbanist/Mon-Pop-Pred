{
 "cells": [
  {
   "cell_type": "code",
   "execution_count": 1,
   "metadata": {
    "id": "4QgcbRbXCVqy"
   },
   "outputs": [],
   "source": [
    "import re, os, random\n",
    "import numpy as np\n",
    "import pandas as pd\n",
    "import matplotlib.pyplot as plt\n",
    "import seaborn as sns\n",
    "\n",
    "%matplotlib inline"
   ]
  },
  {
   "cell_type": "code",
   "execution_count": 2,
   "metadata": {
    "id": "m1e6MgLkCVq0"
   },
   "outputs": [],
   "source": [
    "from sklearn import preprocessing\n",
    "from sklearn.model_selection import train_test_split\n",
    "from sklearn.ensemble import RandomForestRegressor\n",
    "from sklearn.tree import DecisionTreeRegressor"
   ]
  },
  {
   "cell_type": "code",
   "execution_count": 3,
   "metadata": {
    "id": "uh3uQVgbOBU4"
   },
   "outputs": [],
   "source": [
    "import fastbook\n",
    "fastbook.setup_book()\n",
    "from fastbook import *\n",
    "from fastai.tabular.all import *\n",
    "\n",
    "from fastai.tabular import *\n",
    "from fastai.tabular.all import *\n",
    "from fastai.tabular.data import *\n",
    "from fastai.tabular.learner import *\n",
    "from fastai.metrics import *"
   ]
  },
  {
   "cell_type": "code",
   "execution_count": 4,
   "metadata": {
    "colab": {
     "base_uri": "https://localhost:8080/"
    },
    "id": "spTI91QCCVq-",
    "outputId": "e6910be4-ab29-4f90-ae88-2df00da3955f"
   },
   "outputs": [
    {
     "data": {
      "text/plain": [
       "['city_id',\n",
       " 'land_cover',\n",
       " 'pop2012',\n",
       " 'X',\n",
       " 'Y',\n",
       " 'road_len',\n",
       " 'night2012',\n",
       " 'cen_dist',\n",
       " 'dem',\n",
       " 'city_pop_total']"
      ]
     },
     "execution_count": 4,
     "metadata": {},
     "output_type": "execute_result"
    }
   ],
   "source": [
    "data = pd.read_csv(\"data_shuf.csv\")\n",
    "alist = data.columns.to_list()\n",
    "alist"
   ]
  },
  {
   "cell_type": "code",
   "execution_count": 5,
   "metadata": {},
   "outputs": [
    {
     "data": {
      "text/html": [
       "<div>\n",
       "<style scoped>\n",
       "    .dataframe tbody tr th:only-of-type {\n",
       "        vertical-align: middle;\n",
       "    }\n",
       "\n",
       "    .dataframe tbody tr th {\n",
       "        vertical-align: top;\n",
       "    }\n",
       "\n",
       "    .dataframe thead th {\n",
       "        text-align: right;\n",
       "    }\n",
       "</style>\n",
       "<table border=\"1\" class=\"dataframe\">\n",
       "  <thead>\n",
       "    <tr style=\"text-align: right;\">\n",
       "      <th></th>\n",
       "      <th>city_id</th>\n",
       "      <th>land_cover</th>\n",
       "      <th>pop2012</th>\n",
       "      <th>X</th>\n",
       "      <th>Y</th>\n",
       "      <th>road_len</th>\n",
       "      <th>night2012</th>\n",
       "      <th>cen_dist</th>\n",
       "      <th>dem</th>\n",
       "      <th>city_pop_total</th>\n",
       "    </tr>\n",
       "  </thead>\n",
       "  <tbody>\n",
       "    <tr>\n",
       "      <th>count</th>\n",
       "      <td>433774.000000</td>\n",
       "      <td>433774.000000</td>\n",
       "      <td>433774.000000</td>\n",
       "      <td>433774.000000</td>\n",
       "      <td>433774.000000</td>\n",
       "      <td>433774.000000</td>\n",
       "      <td>433774.000000</td>\n",
       "      <td>433774.000000</td>\n",
       "      <td>433774.000000</td>\n",
       "      <td>433774.000000</td>\n",
       "    </tr>\n",
       "    <tr>\n",
       "      <th>mean</th>\n",
       "      <td>43.818316</td>\n",
       "      <td>6.906518</td>\n",
       "      <td>0.008004</td>\n",
       "      <td>0.502616</td>\n",
       "      <td>0.501277</td>\n",
       "      <td>0.071480</td>\n",
       "      <td>0.020648</td>\n",
       "      <td>0.214999</td>\n",
       "      <td>0.094664</td>\n",
       "      <td>0.192048</td>\n",
       "    </tr>\n",
       "    <tr>\n",
       "      <th>std</th>\n",
       "      <td>22.376779</td>\n",
       "      <td>1.857292</td>\n",
       "      <td>0.032205</td>\n",
       "      <td>0.230683</td>\n",
       "      <td>0.231005</td>\n",
       "      <td>0.093311</td>\n",
       "      <td>0.042011</td>\n",
       "      <td>0.142153</td>\n",
       "      <td>0.111697</td>\n",
       "      <td>0.301218</td>\n",
       "    </tr>\n",
       "    <tr>\n",
       "      <th>min</th>\n",
       "      <td>0.000000</td>\n",
       "      <td>1.000000</td>\n",
       "      <td>0.000000</td>\n",
       "      <td>0.000000</td>\n",
       "      <td>0.000000</td>\n",
       "      <td>0.000000</td>\n",
       "      <td>0.000000</td>\n",
       "      <td>0.000000</td>\n",
       "      <td>0.000000</td>\n",
       "      <td>0.000000</td>\n",
       "    </tr>\n",
       "    <tr>\n",
       "      <th>25%</th>\n",
       "      <td>26.000000</td>\n",
       "      <td>7.000000</td>\n",
       "      <td>0.000000</td>\n",
       "      <td>0.322222</td>\n",
       "      <td>0.319149</td>\n",
       "      <td>0.000000</td>\n",
       "      <td>0.001736</td>\n",
       "      <td>0.115120</td>\n",
       "      <td>0.018639</td>\n",
       "      <td>0.021847</td>\n",
       "    </tr>\n",
       "    <tr>\n",
       "      <th>50%</th>\n",
       "      <td>44.000000</td>\n",
       "      <td>7.000000</td>\n",
       "      <td>0.000061</td>\n",
       "      <td>0.500000</td>\n",
       "      <td>0.500000</td>\n",
       "      <td>0.046930</td>\n",
       "      <td>0.004673</td>\n",
       "      <td>0.182038</td>\n",
       "      <td>0.054225</td>\n",
       "      <td>0.036372</td>\n",
       "    </tr>\n",
       "    <tr>\n",
       "      <th>75%</th>\n",
       "      <td>65.000000</td>\n",
       "      <td>8.000000</td>\n",
       "      <td>0.001265</td>\n",
       "      <td>0.684982</td>\n",
       "      <td>0.683673</td>\n",
       "      <td>0.104343</td>\n",
       "      <td>0.017724</td>\n",
       "      <td>0.279313</td>\n",
       "      <td>0.126239</td>\n",
       "      <td>0.141055</td>\n",
       "    </tr>\n",
       "    <tr>\n",
       "      <th>max</th>\n",
       "      <td>83.000000</td>\n",
       "      <td>12.000000</td>\n",
       "      <td>1.000000</td>\n",
       "      <td>1.000000</td>\n",
       "      <td>1.000000</td>\n",
       "      <td>1.000000</td>\n",
       "      <td>1.000000</td>\n",
       "      <td>1.000000</td>\n",
       "      <td>1.000000</td>\n",
       "      <td>1.000000</td>\n",
       "    </tr>\n",
       "  </tbody>\n",
       "</table>\n",
       "</div>"
      ],
      "text/plain": [
       "             city_id     land_cover        pop2012              X  \\\n",
       "count  433774.000000  433774.000000  433774.000000  433774.000000   \n",
       "mean       43.818316       6.906518       0.008004       0.502616   \n",
       "std        22.376779       1.857292       0.032205       0.230683   \n",
       "min         0.000000       1.000000       0.000000       0.000000   \n",
       "25%        26.000000       7.000000       0.000000       0.322222   \n",
       "50%        44.000000       7.000000       0.000061       0.500000   \n",
       "75%        65.000000       8.000000       0.001265       0.684982   \n",
       "max        83.000000      12.000000       1.000000       1.000000   \n",
       "\n",
       "                   Y       road_len      night2012       cen_dist  \\\n",
       "count  433774.000000  433774.000000  433774.000000  433774.000000   \n",
       "mean        0.501277       0.071480       0.020648       0.214999   \n",
       "std         0.231005       0.093311       0.042011       0.142153   \n",
       "min         0.000000       0.000000       0.000000       0.000000   \n",
       "25%         0.319149       0.000000       0.001736       0.115120   \n",
       "50%         0.500000       0.046930       0.004673       0.182038   \n",
       "75%         0.683673       0.104343       0.017724       0.279313   \n",
       "max         1.000000       1.000000       1.000000       1.000000   \n",
       "\n",
       "                 dem  city_pop_total  \n",
       "count  433774.000000   433774.000000  \n",
       "mean        0.094664        0.192048  \n",
       "std         0.111697        0.301218  \n",
       "min         0.000000        0.000000  \n",
       "25%         0.018639        0.021847  \n",
       "50%         0.054225        0.036372  \n",
       "75%         0.126239        0.141055  \n",
       "max         1.000000        1.000000  "
      ]
     },
     "execution_count": 5,
     "metadata": {},
     "output_type": "execute_result"
    }
   ],
   "source": [
    "data.describe()"
   ]
  },
  {
   "cell_type": "code",
   "execution_count": 6,
   "metadata": {
    "id": "g0qJLSIICVrL"
   },
   "outputs": [],
   "source": [
    "cat_names = alist[1]\n",
    "cont_names = alist[3:]\n",
    "y_names = alist[2]\n",
    "procs = [Categorify,]"
   ]
  },
  {
   "cell_type": "code",
   "execution_count": 7,
   "metadata": {
    "id": "V8fdCq828veN"
   },
   "outputs": [],
   "source": [
    "splits = RandomSplitter(valid_pct=0.2)(range_of(data))"
   ]
  },
  {
   "cell_type": "code",
   "execution_count": 8,
   "metadata": {
    "id": "pFZa3bXr9PWP"
   },
   "outputs": [],
   "source": [
    "cont,cat = cont_cat_split(data, 1, dep_var=y_names)\n",
    "to = TabularPandas(data, procs, cat, cont, y_names=y_names, splits=splits)"
   ]
  },
  {
   "cell_type": "code",
   "execution_count": 9,
   "metadata": {
    "colab": {
     "base_uri": "https://localhost:8080/"
    },
    "id": "KvCGjXJC9Rzu",
    "outputId": "6f6a33e6-1f7a-4cd2-f103-fd9148a610fa"
   },
   "outputs": [
    {
     "data": {
      "text/plain": [
       "(347020, 86754)"
      ]
     },
     "execution_count": 9,
     "metadata": {},
     "output_type": "execute_result"
    }
   ],
   "source": [
    "len(to.train),len(to.valid)"
   ]
  },
  {
   "cell_type": "code",
   "execution_count": 10,
   "metadata": {
    "id": "C-_lFXnc768b"
   },
   "outputs": [],
   "source": [
    "xs,y = to.train.xs,to.train.y\n",
    "valid_xs,valid_y = to.valid.xs,to.valid.y"
   ]
  },
  {
   "cell_type": "markdown",
   "metadata": {},
   "source": [
    "## Decision Tree"
   ]
  },
  {
   "cell_type": "code",
   "execution_count": 11,
   "metadata": {
    "id": "Aun_aQhh7_wF"
   },
   "outputs": [],
   "source": [
    "m = DecisionTreeRegressor(max_leaf_nodes=4, min_samples_leaf=25)\n",
    "m.fit(xs, y);"
   ]
  },
  {
   "cell_type": "code",
   "execution_count": 12,
   "metadata": {
    "id": "OE4389ZsDJFx"
   },
   "outputs": [],
   "source": [
    "def r_mse(pred,y): return round(math.sqrt(((pred-y)**2).mean()), 6)\n",
    "def m_rmse(m, xs, y): return r_mse(m.predict(xs), y)"
   ]
  },
  {
   "cell_type": "code",
   "execution_count": 13,
   "metadata": {
    "colab": {
     "base_uri": "https://localhost:8080/"
    },
    "id": "PzXV5VlIDOvH",
    "outputId": "1aa168bf-8da7-498e-a841-ce633b7b196d"
   },
   "outputs": [
    {
     "data": {
      "text/plain": [
       "(0.020876, 0.020881)"
      ]
     },
     "execution_count": 13,
     "metadata": {},
     "output_type": "execute_result"
    }
   ],
   "source": [
    "m_rmse(m, xs, y), m_rmse(m, valid_xs, valid_y)"
   ]
  },
  {
   "cell_type": "code",
   "execution_count": 14,
   "metadata": {
    "colab": {
     "base_uri": "https://localhost:8080/"
    },
    "id": "BVOYdL1CDTCe",
    "outputId": "fbc36a79-d3bc-4355-92d1-c293222d0942"
   },
   "outputs": [
    {
     "data": {
      "text/plain": [
       "(4, 347020)"
      ]
     },
     "execution_count": 14,
     "metadata": {},
     "output_type": "execute_result"
    }
   ],
   "source": [
    "m.get_n_leaves(), len(xs)"
   ]
  },
  {
   "cell_type": "markdown",
   "metadata": {},
   "source": [
    "## Random Forest"
   ]
  },
  {
   "cell_type": "code",
   "execution_count": 15,
   "metadata": {
    "id": "02N2xAJfCVrM"
   },
   "outputs": [],
   "source": [
    "n_estimators = 500\n",
    "max_samples = 200_000\n",
    "max_features = 0.5\n",
    "min_samples_leaf = 5\n",
    "\n",
    "rf = RandomForestRegressor(n_jobs=-1, n_estimators=n_estimators,\n",
    "    max_samples=max_samples, max_features=max_features,\n",
    "    min_samples_leaf=min_samples_leaf, oob_score=True)"
   ]
  },
  {
   "cell_type": "code",
   "execution_count": 16,
   "metadata": {},
   "outputs": [],
   "source": [
    "m = rf.fit(xs, y);"
   ]
  },
  {
   "cell_type": "code",
   "execution_count": 17,
   "metadata": {
    "colab": {
     "base_uri": "https://localhost:8080/"
    },
    "id": "XKTlWh7LbRC1",
    "outputId": "ab98b2da-6ab4-4d90-e253-4639cef3f43b"
   },
   "outputs": [
    {
     "data": {
      "text/plain": [
       "(0.01156, 0.014114)"
      ]
     },
     "execution_count": 17,
     "metadata": {},
     "output_type": "execute_result"
    }
   ],
   "source": [
    "m_rmse(m, xs, y), m_rmse(m, valid_xs, valid_y)"
   ]
  },
  {
   "cell_type": "code",
   "execution_count": 18,
   "metadata": {
    "colab": {
     "base_uri": "https://localhost:8080/"
    },
    "id": "ieHG7A6E59R9",
    "outputId": "4be711f0-af1c-4488-e94f-4aca574cf33e"
   },
   "outputs": [
    {
     "data": {
      "text/plain": [
       "0.014114"
      ]
     },
     "execution_count": 18,
     "metadata": {},
     "output_type": "execute_result"
    }
   ],
   "source": [
    "preds = np.stack([t.predict(valid_xs) for t in m.estimators_])\n",
    "rmse = r_mse(preds.mean(0), valid_y)\n",
    "rmse"
   ]
  },
  {
   "cell_type": "code",
   "execution_count": 19,
   "metadata": {
    "colab": {
     "base_uri": "https://localhost:8080/"
    },
    "id": "OQ4ikNbECXOG",
    "outputId": "6790c0c7-4a3a-47e0-bb99-10536806ad24"
   },
   "outputs": [
    {
     "data": {
      "text/plain": [
       "0.8079303008410866"
      ]
     },
     "execution_count": 19,
     "metadata": {},
     "output_type": "execute_result"
    }
   ],
   "source": [
    "std = data.describe().to_dict()['pop2012']['std']\n",
    "R2 = 1 - ( rmse / std ) ** 2\n",
    "R2"
   ]
  },
  {
   "cell_type": "code",
   "execution_count": 20,
   "metadata": {
    "colab": {
     "base_uri": "https://localhost:8080/"
    },
    "id": "FrYGflWHxKVt",
    "outputId": "e5392270-2673-4e31-fbda-1d0a7e6a978e"
   },
   "outputs": [
    {
     "data": {
      "text/plain": [
       "(500, 86754)"
      ]
     },
     "execution_count": 20,
     "metadata": {},
     "output_type": "execute_result"
    }
   ],
   "source": [
    "preds = np.stack([t.predict(valid_xs) for t in m.estimators_])\n",
    "preds.shape"
   ]
  },
  {
   "cell_type": "code",
   "execution_count": 21,
   "metadata": {
    "colab": {
     "base_uri": "https://localhost:8080/"
    },
    "id": "EeoIaT-7xwq7",
    "outputId": "4ac11a9a-e008-4827-a66f-bf58b3cb2960"
   },
   "outputs": [
    {
     "data": {
      "text/plain": [
       "array([6.77678545e-03, 4.61718479e-03, 8.19840538e-05, 8.27865868e-04, 9.91529960e-05])"
      ]
     },
     "execution_count": 21,
     "metadata": {},
     "output_type": "execute_result"
    }
   ],
   "source": [
    "preds_std = preds.std(0)\n",
    "preds_std[:5]"
   ]
  },
  {
   "cell_type": "code",
   "execution_count": 22,
   "metadata": {
    "colab": {
     "base_uri": "https://localhost:8080/",
     "height": 265
    },
    "id": "7ryyDzZDv4HY",
    "outputId": "123c6ea0-b196-4e8e-ba83-08748f87bbad"
   },
   "outputs": [
    {
     "data": {
      "image/png": "[encoded data removed]",
      "text/plain": [
       "<Figure size 432x288 with 1 Axes>"
      ]
     },
     "metadata": {
      "needs_background": "light"
     },
     "output_type": "display_data"
    }
   ],
   "source": [
    "plt.plot([r_mse(preds[:i+1].mean(0), valid_y) for i in range(40)]);"
   ]
  },
  {
   "cell_type": "markdown",
   "metadata": {
    "id": "ycpKgarrDpB-"
   },
   "source": [
    "## Now Prediction!"
   ]
  },
  {
   "cell_type": "code",
   "execution_count": 23,
   "metadata": {},
   "outputs": [],
   "source": [
    "# Save the model\n",
    "name = 'Forest'\n"
   ]
  },
  {
   "cell_type": "code",
   "execution_count": 24,
   "metadata": {},
   "outputs": [
    {
     "ename": "AttributeError",
     "evalue": "x",
     "output_type": "error",
     "traceback": [
      "\u001b[1;31m---------------------------------------------------------------------------\u001b[0m",
      "\u001b[1;31mAttributeError\u001b[0m                            Traceback (most recent call last)",
      "\u001b[1;32m<ipython-input-24-534a8d7ca3a8>\u001b[0m in \u001b[0;36m<module>\u001b[1;34m\u001b[0m\n\u001b[0;32m      8\u001b[0m \u001b[0mcont\u001b[0m\u001b[1;33m,\u001b[0m\u001b[0mcat\u001b[0m \u001b[1;33m=\u001b[0m \u001b[0mcont_cat_split\u001b[0m\u001b[1;33m(\u001b[0m\u001b[0mdata\u001b[0m\u001b[1;33m,\u001b[0m \u001b[1;36m1\u001b[0m\u001b[1;33m,\u001b[0m \u001b[0mdep_var\u001b[0m\u001b[1;33m=\u001b[0m\u001b[0my_names\u001b[0m\u001b[1;33m)\u001b[0m\u001b[1;33m\u001b[0m\u001b[1;33m\u001b[0m\u001b[0m\n\u001b[0;32m      9\u001b[0m \u001b[0mto\u001b[0m \u001b[1;33m=\u001b[0m \u001b[0mTabularPandas\u001b[0m\u001b[1;33m(\u001b[0m\u001b[0mdata\u001b[0m\u001b[1;33m,\u001b[0m \u001b[0mprocs\u001b[0m\u001b[1;33m,\u001b[0m \u001b[0mcat\u001b[0m\u001b[1;33m,\u001b[0m \u001b[0mcont\u001b[0m\u001b[1;33m,\u001b[0m \u001b[0my_names\u001b[0m\u001b[1;33m=\u001b[0m\u001b[0my_names\u001b[0m\u001b[1;33m,\u001b[0m \u001b[0msplits\u001b[0m\u001b[1;33m=\u001b[0m\u001b[0msplits\u001b[0m\u001b[1;33m)\u001b[0m\u001b[1;33m\u001b[0m\u001b[1;33m\u001b[0m\u001b[0m\n\u001b[1;32m---> 10\u001b[1;33m \u001b[0mxs\u001b[0m\u001b[1;33m,\u001b[0m \u001b[0my\u001b[0m \u001b[1;33m=\u001b[0m \u001b[0mto\u001b[0m\u001b[1;33m.\u001b[0m\u001b[0mx\u001b[0m\u001b[1;33m,\u001b[0m \u001b[0mto\u001b[0m\u001b[1;33m.\u001b[0m\u001b[0my\u001b[0m\u001b[1;33m\u001b[0m\u001b[1;33m\u001b[0m\u001b[0m\n\u001b[0m",
      "\u001b[1;32md:\\application\\anaconda3\\lib\\site-packages\\fastcore\\foundation.py\u001b[0m in \u001b[0;36m__getattr__\u001b[1;34m(self, k)\u001b[0m\n\u001b[0;32m    281\u001b[0m         \u001b[1;32mif\u001b[0m \u001b[0mself\u001b[0m\u001b[1;33m.\u001b[0m\u001b[0m_component_attr_filter\u001b[0m\u001b[1;33m(\u001b[0m\u001b[0mk\u001b[0m\u001b[1;33m)\u001b[0m\u001b[1;33m:\u001b[0m\u001b[1;33m\u001b[0m\u001b[1;33m\u001b[0m\u001b[0m\n\u001b[0;32m    282\u001b[0m             \u001b[0mattr\u001b[0m \u001b[1;33m=\u001b[0m \u001b[0mgetattr\u001b[0m\u001b[1;33m(\u001b[0m\u001b[0mself\u001b[0m\u001b[1;33m,\u001b[0m\u001b[0mself\u001b[0m\u001b[1;33m.\u001b[0m\u001b[0m_default\u001b[0m\u001b[1;33m,\u001b[0m\u001b[1;32mNone\u001b[0m\u001b[1;33m)\u001b[0m\u001b[1;33m\u001b[0m\u001b[1;33m\u001b[0m\u001b[0m\n\u001b[1;32m--> 283\u001b[1;33m             \u001b[1;32mif\u001b[0m \u001b[0mattr\u001b[0m \u001b[1;32mis\u001b[0m \u001b[1;32mnot\u001b[0m \u001b[1;32mNone\u001b[0m\u001b[1;33m:\u001b[0m \u001b[1;32mreturn\u001b[0m \u001b[0mgetattr\u001b[0m\u001b[1;33m(\u001b[0m\u001b[0mattr\u001b[0m\u001b[1;33m,\u001b[0m\u001b[0mk\u001b[0m\u001b[1;33m)\u001b[0m\u001b[1;33m\u001b[0m\u001b[1;33m\u001b[0m\u001b[0m\n\u001b[0m\u001b[0;32m    284\u001b[0m         \u001b[1;32mraise\u001b[0m \u001b[0mAttributeError\u001b[0m\u001b[1;33m(\u001b[0m\u001b[0mk\u001b[0m\u001b[1;33m)\u001b[0m\u001b[1;33m\u001b[0m\u001b[1;33m\u001b[0m\u001b[0m\n\u001b[0;32m    285\u001b[0m     \u001b[1;32mdef\u001b[0m \u001b[0m__dir__\u001b[0m\u001b[1;33m(\u001b[0m\u001b[0mself\u001b[0m\u001b[1;33m)\u001b[0m\u001b[1;33m:\u001b[0m \u001b[1;32mreturn\u001b[0m \u001b[0mcustom_dir\u001b[0m\u001b[1;33m(\u001b[0m\u001b[0mself\u001b[0m\u001b[1;33m,\u001b[0m\u001b[0mself\u001b[0m\u001b[1;33m.\u001b[0m\u001b[0m_dir\u001b[0m\u001b[1;33m(\u001b[0m\u001b[1;33m)\u001b[0m\u001b[1;33m)\u001b[0m\u001b[1;33m\u001b[0m\u001b[1;33m\u001b[0m\u001b[0m\n",
      "\u001b[1;32md:\\application\\anaconda3\\lib\\site-packages\\fastcore\\transform.py\u001b[0m in \u001b[0;36m__getattr__\u001b[1;34m(self, k)\u001b[0m\n\u001b[0;32m    199\u001b[0m     \u001b[1;32mdef\u001b[0m \u001b[0m__getitem__\u001b[0m\u001b[1;33m(\u001b[0m\u001b[0mself\u001b[0m\u001b[1;33m,\u001b[0m\u001b[0mi\u001b[0m\u001b[1;33m)\u001b[0m\u001b[1;33m:\u001b[0m \u001b[1;32mreturn\u001b[0m \u001b[0mself\u001b[0m\u001b[1;33m.\u001b[0m\u001b[0mfs\u001b[0m\u001b[1;33m[\u001b[0m\u001b[0mi\u001b[0m\u001b[1;33m]\u001b[0m\u001b[1;33m\u001b[0m\u001b[1;33m\u001b[0m\u001b[0m\n\u001b[0;32m    200\u001b[0m     \u001b[1;32mdef\u001b[0m \u001b[0m__setstate__\u001b[0m\u001b[1;33m(\u001b[0m\u001b[0mself\u001b[0m\u001b[1;33m,\u001b[0m\u001b[0mdata\u001b[0m\u001b[1;33m)\u001b[0m\u001b[1;33m:\u001b[0m \u001b[0mself\u001b[0m\u001b[1;33m.\u001b[0m\u001b[0m__dict__\u001b[0m\u001b[1;33m.\u001b[0m\u001b[0mupdate\u001b[0m\u001b[1;33m(\u001b[0m\u001b[0mdata\u001b[0m\u001b[1;33m)\u001b[0m\u001b[1;33m\u001b[0m\u001b[1;33m\u001b[0m\u001b[0m\n\u001b[1;32m--> 201\u001b[1;33m     \u001b[1;32mdef\u001b[0m \u001b[0m__getattr__\u001b[0m\u001b[1;33m(\u001b[0m\u001b[0mself\u001b[0m\u001b[1;33m,\u001b[0m\u001b[0mk\u001b[0m\u001b[1;33m)\u001b[0m\u001b[1;33m:\u001b[0m \u001b[1;32mreturn\u001b[0m \u001b[0mgather_attrs\u001b[0m\u001b[1;33m(\u001b[0m\u001b[0mself\u001b[0m\u001b[1;33m,\u001b[0m \u001b[0mk\u001b[0m\u001b[1;33m,\u001b[0m \u001b[1;34m'fs'\u001b[0m\u001b[1;33m)\u001b[0m\u001b[1;33m\u001b[0m\u001b[1;33m\u001b[0m\u001b[0m\n\u001b[0m\u001b[0;32m    202\u001b[0m     \u001b[1;32mdef\u001b[0m \u001b[0m__dir__\u001b[0m\u001b[1;33m(\u001b[0m\u001b[0mself\u001b[0m\u001b[1;33m)\u001b[0m\u001b[1;33m:\u001b[0m \u001b[1;32mreturn\u001b[0m \u001b[0msuper\u001b[0m\u001b[1;33m(\u001b[0m\u001b[1;33m)\u001b[0m\u001b[1;33m.\u001b[0m\u001b[0m__dir__\u001b[0m\u001b[1;33m(\u001b[0m\u001b[1;33m)\u001b[0m \u001b[1;33m+\u001b[0m \u001b[0mgather_attr_names\u001b[0m\u001b[1;33m(\u001b[0m\u001b[0mself\u001b[0m\u001b[1;33m,\u001b[0m \u001b[1;34m'fs'\u001b[0m\u001b[1;33m)\u001b[0m\u001b[1;33m\u001b[0m\u001b[1;33m\u001b[0m\u001b[0m\n\u001b[0;32m    203\u001b[0m \u001b[1;33m\u001b[0m\u001b[0m\n",
      "\u001b[1;32md:\\application\\anaconda3\\lib\\site-packages\\fastcore\\transform.py\u001b[0m in \u001b[0;36mgather_attrs\u001b[1;34m(o, k, nm)\u001b[0m\n\u001b[0;32m    162\u001b[0m     \u001b[0matt\u001b[0m \u001b[1;33m=\u001b[0m \u001b[0mgetattr\u001b[0m\u001b[1;33m(\u001b[0m\u001b[0mo\u001b[0m\u001b[1;33m,\u001b[0m\u001b[0mnm\u001b[0m\u001b[1;33m)\u001b[0m\u001b[1;33m\u001b[0m\u001b[1;33m\u001b[0m\u001b[0m\n\u001b[0;32m    163\u001b[0m     \u001b[0mres\u001b[0m \u001b[1;33m=\u001b[0m \u001b[1;33m[\u001b[0m\u001b[0mt\u001b[0m \u001b[1;32mfor\u001b[0m \u001b[0mt\u001b[0m \u001b[1;32min\u001b[0m \u001b[0matt\u001b[0m\u001b[1;33m.\u001b[0m\u001b[0mattrgot\u001b[0m\u001b[1;33m(\u001b[0m\u001b[0mk\u001b[0m\u001b[1;33m)\u001b[0m \u001b[1;32mif\u001b[0m \u001b[0mt\u001b[0m \u001b[1;32mis\u001b[0m \u001b[1;32mnot\u001b[0m \u001b[1;32mNone\u001b[0m\u001b[1;33m]\u001b[0m\u001b[1;33m\u001b[0m\u001b[1;33m\u001b[0m\u001b[0m\n\u001b[1;32m--> 164\u001b[1;33m     \u001b[1;32mif\u001b[0m \u001b[1;32mnot\u001b[0m \u001b[0mres\u001b[0m\u001b[1;33m:\u001b[0m \u001b[1;32mraise\u001b[0m \u001b[0mAttributeError\u001b[0m\u001b[1;33m(\u001b[0m\u001b[0mk\u001b[0m\u001b[1;33m)\u001b[0m\u001b[1;33m\u001b[0m\u001b[1;33m\u001b[0m\u001b[0m\n\u001b[0m\u001b[0;32m    165\u001b[0m     \u001b[1;32mreturn\u001b[0m \u001b[0mres\u001b[0m\u001b[1;33m[\u001b[0m\u001b[1;36m0\u001b[0m\u001b[1;33m]\u001b[0m \u001b[1;32mif\u001b[0m \u001b[0mlen\u001b[0m\u001b[1;33m(\u001b[0m\u001b[0mres\u001b[0m\u001b[1;33m)\u001b[0m\u001b[1;33m==\u001b[0m\u001b[1;36m1\u001b[0m \u001b[1;32melse\u001b[0m \u001b[0mL\u001b[0m\u001b[1;33m(\u001b[0m\u001b[0mres\u001b[0m\u001b[1;33m)\u001b[0m\u001b[1;33m\u001b[0m\u001b[1;33m\u001b[0m\u001b[0m\n\u001b[0;32m    166\u001b[0m \u001b[1;33m\u001b[0m\u001b[0m\n",
      "\u001b[1;31mAttributeError\u001b[0m: x"
     ]
    }
   ],
   "source": [
    "# predict with the model\n",
    "data = pd.read_csv(\"data_new.csv\")\n",
    "alist = data.columns.to_list()\n",
    "cat_names = alist[1]\n",
    "cont_names = alist[3:]\n",
    "y_names = alist[2]\n",
    "procs = [Categorify,]\n",
    "cont,cat = cont_cat_split(data, 1, dep_var=y_names)\n",
    "to = TabularPandas(data, procs, cat, cont, y_names=y_names, splits=splits)\n",
    "xs, y = to.x, to.y"
   ]
  },
  {
   "cell_type": "code",
   "execution_count": null,
   "metadata": {},
   "outputs": [],
   "source": [
    "pred = rf(xs, y)"
   ]
  },
  {
   "cell_type": "code",
   "execution_count": null,
   "metadata": {},
   "outputs": [],
   "source": [
    "# Transform to the pre-normalized state\n",
    "maxi = 57586.267532\n",
    "pred = pred * maxi"
   ]
  },
  {
   "cell_type": "code",
   "execution_count": null,
   "metadata": {},
   "outputs": [],
   "source": [
    "# Copy in the csv\n",
    "data = pd.read_csv(\"data.csv\")\n",
    "data['pop_pred'] = pred"
   ]
  },
  {
   "cell_type": "code",
   "execution_count": null,
   "metadata": {},
   "outputs": [],
   "source": [
    "data.to_csv(\"data.csv\",index=False)\n",
    "print('File Exported!')"
   ]
  }
 ],
 "metadata": {
  "accelerator": "GPU",
  "colab": {
   "collapsed_sections": [],
   "name": "2 Tree.ipynb",
   "provenance": []
  },
  "kernelspec": {
   "display_name": "Python 3",
   "language": "python",
   "name": "python3"
  },
  "language_info": {
   "codemirror_mode": {
    "name": "ipython",
    "version": 3
   },
   "file_extension": ".py",
   "mimetype": "text/x-python",
   "name": "python",
   "nbconvert_exporter": "python",
   "pygments_lexer": "ipython3",
   "version": "3.7.6"
  }
 },
 "nbformat": 4,
 "nbformat_minor": 1
}
