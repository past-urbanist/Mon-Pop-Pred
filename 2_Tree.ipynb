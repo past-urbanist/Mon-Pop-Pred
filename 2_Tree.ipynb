{
  "nbformat": 4,
  "nbformat_minor": 0,
  "metadata": {
    "accelerator": "GPU",
    "colab": {
      "name": "2_Tree.ipynb",
      "provenance": [],
      "collapsed_sections": []
    },
    "kernelspec": {
      "display_name": "Python 3",
      "language": "python",
      "name": "python3"
    },
    "language_info": {
      "codemirror_mode": {
        "name": "ipython",
        "version": 3
      },
      "file_extension": ".py",
      "mimetype": "text/x-python",
      "name": "python",
      "nbconvert_exporter": "python",
      "pygments_lexer": "ipython3",
      "version": "3.7.6"
    }
  },
  "cells": [
    {
      "cell_type": "code",
      "metadata": {
        "colab": {
          "base_uri": "https://localhost:8080/"
        },
        "id": "A_Do8_nplaI1",
        "outputId": "2ec512c5-e0e3-4999-a326-d542d71345ab"
      },
      "source": [
        "from google.colab import drive\r\n",
        "drive.mount('/content/gdrive/')\r\n",
        "path = \"/content/gdrive/My Drive/Colab Notebooks\""
      ],
      "execution_count": 53,
      "outputs": [
        {
          "output_type": "stream",
          "text": [
            "Drive already mounted at /content/gdrive/; to attempt to forcibly remount, call drive.mount(\"/content/gdrive/\", force_remount=True).\n"
          ],
          "name": "stdout"
        }
      ]
    },
    {
      "cell_type": "code",
      "metadata": {
        "id": "4QgcbRbXCVqy"
      },
      "source": [
        "import re, os, random\n",
        "import numpy as np\n",
        "import pandas as pd\n",
        "import matplotlib.pyplot as plt\n",
        "import seaborn as sns\n",
        "\n",
        "%matplotlib inline"
      ],
      "execution_count": 54,
      "outputs": []
    },
    {
      "cell_type": "code",
      "metadata": {
        "id": "m1e6MgLkCVq0"
      },
      "source": [
        "from sklearn import preprocessing\n",
        "from sklearn.tree import DecisionTreeRegressor, plot_tree\n",
        "from sklearn.ensemble import RandomForestRegressor, GradientBoostingRegressor\n",
        "from sklearn.metrics import mean_squared_error\n",
        "from sklearn.externals import joblib"
      ],
      "execution_count": 55,
      "outputs": []
    },
    {
      "cell_type": "code",
      "metadata": {
        "id": "uh3uQVgbOBU4"
      },
      "source": [
        "!pip install -Uqq fastbook\n",
        "import fastbook\n",
        "fastbook.setup_book()\n",
        "from fastbook import *\n",
        "\n",
        "from fastai.tabular import *\n",
        "from fastai.tabular.all import *\n",
        "from fastai.tabular.data import *\n",
        "from fastai.tabular.learner import *"
      ],
      "execution_count": 56,
      "outputs": []
    },
    {
      "cell_type": "code",
      "metadata": {
        "colab": {
          "base_uri": "https://localhost:8080/"
        },
        "id": "oBsK4WxnlhFE",
        "outputId": "df8e232d-7b29-4654-c0da-730c5416437b"
      },
      "source": [
        "device = torch.device(\"cuda\" if torch.cuda.is_available() else \"cpu\")\r\n",
        "device"
      ],
      "execution_count": 57,
      "outputs": [
        {
          "output_type": "execute_result",
          "data": {
            "text/plain": [
              "device(type='cuda')"
            ]
          },
          "metadata": {
            "tags": []
          },
          "execution_count": 57
        }
      ]
    },
    {
      "cell_type": "code",
      "metadata": {
        "colab": {
          "base_uri": "https://localhost:8080/"
        },
        "id": "spTI91QCCVq-",
        "outputId": "513735fa-4818-47e7-e428-fa127de67c93"
      },
      "source": [
        "data = pd.read_csv(path+\"/data_shuf.csv\")\n",
        "alist = data.columns.to_list()\n",
        "alist"
      ],
      "execution_count": 58,
      "outputs": [
        {
          "output_type": "execute_result",
          "data": {
            "text/plain": [
              "['pop2012',\n",
              " 'night2012',\n",
              " 'road_len',\n",
              " 'cen_dist',\n",
              " 'city_pop_total',\n",
              " 'land_cover']"
            ]
          },
          "metadata": {
            "tags": []
          },
          "execution_count": 58
        }
      ]
    },
    {
      "cell_type": "code",
      "metadata": {
        "colab": {
          "base_uri": "https://localhost:8080/",
          "height": 284
        },
        "id": "TQsAn1b1lVxA",
        "outputId": "56325648-4b54-4de6-fddc-75e5e85db982"
      },
      "source": [
        "data.describe()"
      ],
      "execution_count": 59,
      "outputs": [
        {
          "output_type": "execute_result",
          "data": {
            "text/html": [
              "<div>\n",
              "<style scoped>\n",
              "    .dataframe tbody tr th:only-of-type {\n",
              "        vertical-align: middle;\n",
              "    }\n",
              "\n",
              "    .dataframe tbody tr th {\n",
              "        vertical-align: top;\n",
              "    }\n",
              "\n",
              "    .dataframe thead th {\n",
              "        text-align: right;\n",
              "    }\n",
              "</style>\n",
              "<table border=\"1\" class=\"dataframe\">\n",
              "  <thead>\n",
              "    <tr style=\"text-align: right;\">\n",
              "      <th></th>\n",
              "      <th>pop2012</th>\n",
              "      <th>night2012</th>\n",
              "      <th>road_len</th>\n",
              "      <th>cen_dist</th>\n",
              "      <th>city_pop_total</th>\n",
              "      <th>land_cover</th>\n",
              "    </tr>\n",
              "  </thead>\n",
              "  <tbody>\n",
              "    <tr>\n",
              "      <th>count</th>\n",
              "      <td>433774.000000</td>\n",
              "      <td>433774.000000</td>\n",
              "      <td>433774.000000</td>\n",
              "      <td>433774.000000</td>\n",
              "      <td>433774.000000</td>\n",
              "      <td>433774.000000</td>\n",
              "    </tr>\n",
              "    <tr>\n",
              "      <th>mean</th>\n",
              "      <td>0.008004</td>\n",
              "      <td>0.020648</td>\n",
              "      <td>0.071480</td>\n",
              "      <td>0.214999</td>\n",
              "      <td>0.192048</td>\n",
              "      <td>6.906518</td>\n",
              "    </tr>\n",
              "    <tr>\n",
              "      <th>std</th>\n",
              "      <td>0.032205</td>\n",
              "      <td>0.042011</td>\n",
              "      <td>0.093311</td>\n",
              "      <td>0.142153</td>\n",
              "      <td>0.301218</td>\n",
              "      <td>1.857292</td>\n",
              "    </tr>\n",
              "    <tr>\n",
              "      <th>min</th>\n",
              "      <td>0.000000</td>\n",
              "      <td>0.000000</td>\n",
              "      <td>0.000000</td>\n",
              "      <td>0.000000</td>\n",
              "      <td>0.000000</td>\n",
              "      <td>1.000000</td>\n",
              "    </tr>\n",
              "    <tr>\n",
              "      <th>25%</th>\n",
              "      <td>0.000000</td>\n",
              "      <td>0.001736</td>\n",
              "      <td>0.000000</td>\n",
              "      <td>0.115120</td>\n",
              "      <td>0.021847</td>\n",
              "      <td>7.000000</td>\n",
              "    </tr>\n",
              "    <tr>\n",
              "      <th>50%</th>\n",
              "      <td>0.000061</td>\n",
              "      <td>0.004673</td>\n",
              "      <td>0.046930</td>\n",
              "      <td>0.182038</td>\n",
              "      <td>0.036372</td>\n",
              "      <td>7.000000</td>\n",
              "    </tr>\n",
              "    <tr>\n",
              "      <th>75%</th>\n",
              "      <td>0.001265</td>\n",
              "      <td>0.017724</td>\n",
              "      <td>0.104343</td>\n",
              "      <td>0.279313</td>\n",
              "      <td>0.141055</td>\n",
              "      <td>8.000000</td>\n",
              "    </tr>\n",
              "    <tr>\n",
              "      <th>max</th>\n",
              "      <td>1.000000</td>\n",
              "      <td>1.000000</td>\n",
              "      <td>1.000000</td>\n",
              "      <td>1.000000</td>\n",
              "      <td>1.000000</td>\n",
              "      <td>12.000000</td>\n",
              "    </tr>\n",
              "  </tbody>\n",
              "</table>\n",
              "</div>"
            ],
            "text/plain": [
              "             pop2012      night2012       road_len       cen_dist  \\\n",
              "count  433774.000000  433774.000000  433774.000000  433774.000000   \n",
              "mean        0.008004       0.020648       0.071480       0.214999   \n",
              "std         0.032205       0.042011       0.093311       0.142153   \n",
              "min         0.000000       0.000000       0.000000       0.000000   \n",
              "25%         0.000000       0.001736       0.000000       0.115120   \n",
              "50%         0.000061       0.004673       0.046930       0.182038   \n",
              "75%         0.001265       0.017724       0.104343       0.279313   \n",
              "max         1.000000       1.000000       1.000000       1.000000   \n",
              "\n",
              "       city_pop_total     land_cover  \n",
              "count   433774.000000  433774.000000  \n",
              "mean         0.192048       6.906518  \n",
              "std          0.301218       1.857292  \n",
              "min          0.000000       1.000000  \n",
              "25%          0.021847       7.000000  \n",
              "50%          0.036372       7.000000  \n",
              "75%          0.141055       8.000000  \n",
              "max          1.000000      12.000000  "
            ]
          },
          "metadata": {
            "tags": []
          },
          "execution_count": 59
        }
      ]
    },
    {
      "cell_type": "code",
      "metadata": {
        "id": "g0qJLSIICVrL"
      },
      "source": [
        "cat_names = alist[-1]\n",
        "cont_names = alist[1:-1]\n",
        "y_names = alist[0]\n",
        "procs = [Categorify,]"
      ],
      "execution_count": 60,
      "outputs": []
    },
    {
      "cell_type": "code",
      "metadata": {
        "id": "V8fdCq828veN"
      },
      "source": [
        "percent, length = 0.8, len(data.axes[0])\r\n",
        "stop = int(percent * length)\r\n",
        "splits = [list(range(stop)), list(range(stop,length))]"
      ],
      "execution_count": 61,
      "outputs": []
    },
    {
      "cell_type": "code",
      "metadata": {
        "id": "pFZa3bXr9PWP"
      },
      "source": [
        "cont,cat = cont_cat_split(data, 1, dep_var=y_names)\n",
        "to = TabularPandas(data, procs, cat, cont, y_names=y_names, splits=splits)"
      ],
      "execution_count": 62,
      "outputs": []
    },
    {
      "cell_type": "code",
      "metadata": {
        "colab": {
          "base_uri": "https://localhost:8080/"
        },
        "id": "KvCGjXJC9Rzu",
        "outputId": "51d2392e-a196-45b8-dd41-9d36f6f25751"
      },
      "source": [
        "len(to.xs),len(to.train),len(to.valid)"
      ],
      "execution_count": 63,
      "outputs": [
        {
          "output_type": "execute_result",
          "data": {
            "text/plain": [
              "(433774, 347019, 86755)"
            ]
          },
          "metadata": {
            "tags": []
          },
          "execution_count": 63
        }
      ]
    },
    {
      "cell_type": "code",
      "metadata": {
        "id": "C-_lFXnc768b"
      },
      "source": [
        "xs, y = to.xs,to.y\n",
        "train_xs,train_y = to.train.xs,to.train.y\n",
        "valid_xs,valid_y = to.valid.xs,to.valid.y"
      ],
      "execution_count": 64,
      "outputs": []
    },
    {
      "cell_type": "markdown",
      "metadata": {
        "id": "zztn8shTlVxK"
      },
      "source": [
        "## Decision Tree"
      ]
    },
    {
      "cell_type": "code",
      "metadata": {
        "id": "SrC-pb_alVxN"
      },
      "source": [
        "def rmse(y,y_pred): return mean_squared_error(y,y_pred,squared=False)"
      ],
      "execution_count": 65,
      "outputs": []
    },
    {
      "cell_type": "code",
      "metadata": {
        "id": "Aun_aQhh7_wF"
      },
      "source": [
        "dt = DecisionTreeRegressor(max_leaf_nodes=10, min_samples_leaf=25)\n",
        "dt.fit(train_xs, train_y);"
      ],
      "execution_count": 66,
      "outputs": []
    },
    {
      "cell_type": "code",
      "metadata": {
        "colab": {
          "base_uri": "https://localhost:8080/",
          "height": 248
        },
        "id": "JhMvMRjv36qB",
        "outputId": "2aace37c-bbea-4676-be3d-bac4f03fa715"
      },
      "source": [
        "plot_tree(dt);"
      ],
      "execution_count": 67,
      "outputs": [
        {
          "output_type": "display_data",
          "data": {
            "image/png": "[encoded data removed]",
            "text/plain": [
              "<Figure size 432x288 with 1 Axes>"
            ]
          },
          "metadata": {
            "tags": [],
            "needs_background": "light"
          }
        }
      ]
    },
    {
      "cell_type": "code",
      "metadata": {
        "colab": {
          "base_uri": "https://localhost:8080/"
        },
        "id": "BVOYdL1CDTCe",
        "outputId": "37a1e16a-8a31-47d9-99cc-32ca5421e056"
      },
      "source": [
        "dt.get_n_leaves(), len(train_xs)"
      ],
      "execution_count": 68,
      "outputs": [
        {
          "output_type": "execute_result",
          "data": {
            "text/plain": [
              "(10, 347019)"
            ]
          },
          "metadata": {
            "tags": []
          },
          "execution_count": 68
        }
      ]
    },
    {
      "cell_type": "code",
      "metadata": {
        "id": "PzXV5VlIDOvH"
      },
      "source": [
        "train_rmse = rmse(dt.predict(train_xs), train_y)\n",
        "valid_rmse = rmse(dt.predict(valid_xs), valid_y)"
      ],
      "execution_count": 69,
      "outputs": []
    },
    {
      "cell_type": "code",
      "metadata": {
        "colab": {
          "base_uri": "https://localhost:8080/"
        },
        "id": "hBaw_9vElVxP",
        "outputId": "beb56ec5-74f0-4e22-ff49-352ea2181fb9"
      },
      "source": [
        "std = data.describe().to_dict()['pop2012']['std']\n",
        "R2 = 1 - ( valid_rmse / std ) ** 2\n",
        "train_rmse, valid_rmse, R2"
      ],
      "execution_count": 70,
      "outputs": [
        {
          "output_type": "execute_result",
          "data": {
            "text/plain": [
              "(0.01854136212813236, 0.019107495651808807, 0.647980948210392)"
            ]
          },
          "metadata": {
            "tags": []
          },
          "execution_count": 70
        }
      ]
    },
    {
      "cell_type": "markdown",
      "metadata": {
        "id": "6dN0WcM5lVxR"
      },
      "source": [
        "## Random Forest"
      ]
    },
    {
      "cell_type": "code",
      "metadata": {
        "id": "02N2xAJfCVrM"
      },
      "source": [
        "n_estimators = 500\n",
        "max_samples = 200_000\n",
        "max_features = 0.5\n",
        "min_samples_leaf = 5"
      ],
      "execution_count": 71,
      "outputs": []
    },
    {
      "cell_type": "code",
      "metadata": {
        "id": "sbNmMIYblVxT"
      },
      "source": [
        "rf = RandomForestRegressor(n_jobs=-1, n_estimators=n_estimators,\n",
        "    max_samples=max_samples, max_features=max_features,\n",
        "    min_samples_leaf=min_samples_leaf, oob_score=True)"
      ],
      "execution_count": 72,
      "outputs": []
    },
    {
      "cell_type": "code",
      "metadata": {
        "colab": {
          "base_uri": "https://localhost:8080/"
        },
        "id": "nRok68xmlVxU",
        "outputId": "2fc52141-3e64-4e93-bbf9-e097e0ba8028"
      },
      "source": [
        "import time\r\n",
        "start = time.time()\r\n",
        "m = rf.fit(train_xs, train_y);\r\n",
        "end = time.time()\r\n",
        "print(\"Time:\", end-start)"
      ],
      "execution_count": 73,
      "outputs": [
        {
          "output_type": "stream",
          "text": [
            "Time: 147.43240976333618\n"
          ],
          "name": "stdout"
        }
      ]
    },
    {
      "cell_type": "code",
      "metadata": {
        "id": "XKTlWh7LbRC1"
      },
      "source": [
        "train_rmse = rmse(rf.predict(train_xs), train_y)\n",
        "valid_rmse = rmse(rf.predict(valid_xs), valid_y)"
      ],
      "execution_count": 74,
      "outputs": []
    },
    {
      "cell_type": "code",
      "metadata": {
        "colab": {
          "base_uri": "https://localhost:8080/"
        },
        "id": "ieHG7A6E59R9",
        "outputId": "801b9dd9-3567-4f14-dd2d-1a0ecc8a1aa6"
      },
      "source": [
        "R2 = 1 - ( valid_rmse / std ) ** 2\n",
        "train_rmse, valid_rmse, R2"
      ],
      "execution_count": 75,
      "outputs": [
        {
          "output_type": "execute_result",
          "data": {
            "text/plain": [
              "(0.012706929286554905, 0.015377206419442587, 0.7720111970000118)"
            ]
          },
          "metadata": {
            "tags": []
          },
          "execution_count": 75
        }
      ]
    },
    {
      "cell_type": "code",
      "metadata": {
        "colab": {
          "base_uri": "https://localhost:8080/"
        },
        "id": "FrYGflWHxKVt",
        "outputId": "d8ce5d8c-d99c-4159-e019-c8af65167b75"
      },
      "source": [
        "train_preds = np.stack([t.predict(train_xs) for t in rf.estimators_])\n",
        "valid_preds = np.stack([t.predict(valid_xs) for t in rf.estimators_])\n",
        "train_preds.shape, valid_preds.shape"
      ],
      "execution_count": 76,
      "outputs": [
        {
          "output_type": "execute_result",
          "data": {
            "text/plain": [
              "((500, 347019), (500, 86755))"
            ]
          },
          "metadata": {
            "tags": []
          },
          "execution_count": 76
        }
      ]
    },
    {
      "cell_type": "code",
      "metadata": {
        "colab": {
          "base_uri": "https://localhost:8080/",
          "height": 312
        },
        "id": "7ryyDzZDv4HY",
        "outputId": "43060048-cdd6-48a1-c12b-235e985b676d"
      },
      "source": [
        "t = [rmse(train_preds[:i+1].mean(0), train_y) for i in range(0, n_estimators)]\r\n",
        "v = [rmse(valid_preds[:i+1].mean(0), valid_y) for i in range(0, n_estimators)]\r\n",
        "\r\n",
        "plt.plot(t, label='Training loss')\r\n",
        "plt.plot(v, label='Validation loss')\r\n",
        "plt.title(\"Train and Validation Loss over Epochs\")\r\n",
        "plt.xlabel(\"Epochs\")\r\n",
        "plt.legend(frameon=False)"
      ],
      "execution_count": 77,
      "outputs": [
        {
          "output_type": "execute_result",
          "data": {
            "text/plain": [
              "<matplotlib.legend.Legend at 0x7f4fd28f9240>"
            ]
          },
          "metadata": {
            "tags": []
          },
          "execution_count": 77
        },
        {
          "output_type": "display_data",
          "data": {
            "image/png": "[encoded data removed]",
            "text/plain": [
              "<Figure size 432x288 with 1 Axes>"
            ]
          },
          "metadata": {
            "tags": [],
            "needs_background": "light"
          }
        }
      ]
    },
    {
      "cell_type": "code",
      "metadata": {
        "colab": {
          "base_uri": "https://localhost:8080/"
        },
        "id": "L_YlAK8cwt2R",
        "outputId": "253e10f4-fe12-467a-8b22-f86a2896cd38"
      },
      "source": [
        "for name, score in zip(alist[1:], rf.feature_importances_):\r\n",
        "    print('%s: %f' %(name, 100 *score)+\"%\")"
      ],
      "execution_count": 78,
      "outputs": [
        {
          "output_type": "stream",
          "text": [
            "night2012: 23.820818%\n",
            "road_len: 40.410091%\n",
            "cen_dist: 6.306849%\n",
            "city_pop_total: 5.490294%\n",
            "land_cover: 23.971948%\n"
          ],
          "name": "stdout"
        }
      ]
    },
    {
      "cell_type": "markdown",
      "metadata": {
        "id": "OaK7jkN_xNVY"
      },
      "source": [
        "## Gradient Boosting"
      ]
    },
    {
      "cell_type": "code",
      "metadata": {
        "id": "Po0J4lP4qJiY"
      },
      "source": [
        "from sklearn.model_selection import GridSearchCV\r\n",
        "param_grid = [{'n_estimators':[10], 'max_depth': [8, 10, 12], 'learning_rate':[0.1, 0.3, 0.5], 'min_samples_leaf':[15]}]\r\n",
        "gbrt_test = GradientBoostingRegressor()"
      ],
      "execution_count": null,
      "outputs": []
    },
    {
      "cell_type": "code",
      "metadata": {
        "id": "71HUmkmKrzeL"
      },
      "source": [
        "grid_search = GridSearchCV(gbrt_test, param_grid, cv=5, scoring='neg_mean_squared_error')\r\n",
        "grid_search.fit(xs,y)"
      ],
      "execution_count": null,
      "outputs": []
    },
    {
      "cell_type": "code",
      "metadata": {
        "id": "ucJP11yYsb6Y"
      },
      "source": [
        "grid_search.best_params_"
      ],
      "execution_count": null,
      "outputs": []
    },
    {
      "cell_type": "code",
      "metadata": {
        "id": "PYe2Sxri8Uia"
      },
      "source": [
        "print(1))"
      ],
      "execution_count": null,
      "outputs": []
    },
    {
      "cell_type": "code",
      "metadata": {
        "id": "c6dqHgIoxruw"
      },
      "source": [
        "n_estimators = 500\r\n",
        "max_depth = 10\r\n",
        "lr = 0.3\r\n",
        "min_samples_leaf = 15"
      ],
      "execution_count": 84,
      "outputs": []
    },
    {
      "cell_type": "code",
      "metadata": {
        "id": "2fLEgOnSxM8m"
      },
      "source": [
        "gbrt = GradientBoostingRegressor(max_depth=max_depth, n_estimators=n_estimators, learning_rate=lr, min_samples_leaf=min_samples_leaf)\r\n",
        "m = gbrt.fit(xs,y)"
      ],
      "execution_count": 85,
      "outputs": []
    },
    {
      "cell_type": "code",
      "metadata": {
        "id": "502lJ_uiylvK",
        "colab": {
          "base_uri": "https://localhost:8080/"
        },
        "outputId": "07f251bd-a530-4815-c775-7ba751d07d32"
      },
      "source": [
        "errors = [rmse(valid_y_pred, valid_y) for valid_y_pred in gbrt.staged_predict(valid_xs)]\r\n",
        "best_n_estimators = np.argmin(errors)\r\n",
        "print(best_n_estimators)"
      ],
      "execution_count": 86,
      "outputs": [
        {
          "output_type": "stream",
          "text": [
            "499\n"
          ],
          "name": "stdout"
        }
      ]
    },
    {
      "cell_type": "code",
      "metadata": {
        "id": "fIMboflJ7ACD"
      },
      "source": [
        "gbrt_best = GradientBoostingRegressor(max_depth=max_depth, n_estimators=best_n_estimators)\r\n",
        "m = gbrt_best.fit(xs,y)"
      ],
      "execution_count": null,
      "outputs": []
    },
    {
      "cell_type": "code",
      "metadata": {
        "id": "0PJRyABMzBH0"
      },
      "source": [
        "train_rmse = rmse(m.predict(train_xs), train_y)\r\n",
        "valid_rmse = rmse(m.predict(valid_xs), valid_y)"
      ],
      "execution_count": 88,
      "outputs": []
    },
    {
      "cell_type": "code",
      "metadata": {
        "colab": {
          "base_uri": "https://localhost:8080/"
        },
        "id": "4hWR_YQ9x5pv",
        "outputId": "33abd9eb-044a-4bcf-d2fb-b0b2fb7fe48f"
      },
      "source": [
        "R2 = 1 - ( valid_rmse / std ) ** 2\r\n",
        "train_rmse, valid_rmse, R2"
      ],
      "execution_count": 89,
      "outputs": [
        {
          "output_type": "execute_result",
          "data": {
            "text/plain": [
              "(0.007522145734310475, 0.00752718591557469, 0.9453709163488232)"
            ]
          },
          "metadata": {
            "tags": []
          },
          "execution_count": 89
        }
      ]
    },
    {
      "cell_type": "code",
      "metadata": {
        "colab": {
          "base_uri": "https://localhost:8080/"
        },
        "id": "sOR-jwz7hDVc",
        "outputId": "ec81b66a-4095-41b5-cd5d-4270dc9245a0"
      },
      "source": [
        "for name, score in zip(alist[1:], m.feature_importances_):\r\n",
        "    print('%s: %f' %(name, 100 *score)+\"%\")"
      ],
      "execution_count": 90,
      "outputs": [
        {
          "output_type": "stream",
          "text": [
            "night2012: 21.830126%\n",
            "road_len: 54.279039%\n",
            "cen_dist: 6.983971%\n",
            "city_pop_total: 6.232950%\n",
            "land_cover: 10.673913%\n"
          ],
          "name": "stdout"
        }
      ]
    },
    {
      "cell_type": "code",
      "metadata": {
        "id": "tDbb61MulVxZ",
        "colab": {
          "base_uri": "https://localhost:8080/"
        },
        "outputId": "cceca71a-43c3-4d39-f32d-60313210a326"
      },
      "source": [
        "# Save the model\n",
        "joblib_file = \"gbrt.pkl\"\n",
        "joblib.dump(m, path+r\"/\"+joblib_file)\n",
        "print('Model Saved!')"
      ],
      "execution_count": 100,
      "outputs": [
        {
          "output_type": "stream",
          "text": [
            "Model Saved!\n"
          ],
          "name": "stdout"
        }
      ]
    },
    {
      "cell_type": "markdown",
      "metadata": {
        "id": "ycpKgarrDpB-"
      },
      "source": [
        "## Now Prediction!"
      ]
    },
    {
      "cell_type": "code",
      "metadata": {
        "id": "8IXRhPwHlVxc"
      },
      "source": [
        "# predict with the model\n",
        "data = pd.read_csv(path+\"/data_new.csv\")\n",
        "to = TabularPandas(data, procs, cat, cont, y_names=y_names)\n",
        "xs, y = to.xs, to.y"
      ],
      "execution_count": 101,
      "outputs": []
    },
    {
      "cell_type": "code",
      "metadata": {
        "id": "FzCIsNTblVxb"
      },
      "source": [
        "# Load from file\n",
        "joblib_file = \"gbrt.pkl\"\n",
        "joblib_model = joblib.load(path+r\"/\"+joblib_file)"
      ],
      "execution_count": 102,
      "outputs": []
    },
    {
      "cell_type": "code",
      "metadata": {
        "id": "LZ4SEa64lVxd"
      },
      "source": [
        "preds = joblib_model.predict(xs)"
      ],
      "execution_count": 103,
      "outputs": []
    },
    {
      "cell_type": "code",
      "metadata": {
        "id": "pdecma1-lVxe"
      },
      "source": [
        "# Transform to the pre-normalized state\n",
        "maxi = 57586.267532\n",
        "preds = preds * maxi"
      ],
      "execution_count": 104,
      "outputs": []
    },
    {
      "cell_type": "code",
      "metadata": {
        "id": "5RZIyvTnlVxf"
      },
      "source": [
        "# Copy in the csv\n",
        "data = pd.read_csv(path+r\"/data.csv\")\n",
        "data['pop_pred_RF'] = preds"
      ],
      "execution_count": 105,
      "outputs": []
    },
    {
      "cell_type": "code",
      "metadata": {
        "id": "_h7jI1-BlVxg",
        "colab": {
          "base_uri": "https://localhost:8080/",
          "height": 195
        },
        "outputId": "ebea95a7-4ce8-499a-bfd9-c84fe49d1ca5"
      },
      "source": [
        "data.head()"
      ],
      "execution_count": 106,
      "outputs": [
        {
          "output_type": "execute_result",
          "data": {
            "text/html": [
              "<div>\n",
              "<style scoped>\n",
              "    .dataframe tbody tr th:only-of-type {\n",
              "        vertical-align: middle;\n",
              "    }\n",
              "\n",
              "    .dataframe tbody tr th {\n",
              "        vertical-align: top;\n",
              "    }\n",
              "\n",
              "    .dataframe thead th {\n",
              "        text-align: right;\n",
              "    }\n",
              "</style>\n",
              "<table border=\"1\" class=\"dataframe\">\n",
              "  <thead>\n",
              "    <tr style=\"text-align: right;\">\n",
              "      <th></th>\n",
              "      <th>fid</th>\n",
              "      <th>fua_name</th>\n",
              "      <th>road_len</th>\n",
              "      <th>pop2012</th>\n",
              "      <th>night2012</th>\n",
              "      <th>cen_dist</th>\n",
              "      <th>city_pop_total</th>\n",
              "      <th>CLC2012</th>\n",
              "      <th>pop_pred_RF</th>\n",
              "    </tr>\n",
              "  </thead>\n",
              "  <tbody>\n",
              "    <tr>\n",
              "      <th>0</th>\n",
              "      <td>1</td>\n",
              "      <td>Acireale</td>\n",
              "      <td>0.015348</td>\n",
              "      <td>7325.648926</td>\n",
              "      <td>30.059999</td>\n",
              "      <td>2692.726152</td>\n",
              "      <td>65551.67962</td>\n",
              "      <td>1</td>\n",
              "      <td>7518.218849</td>\n",
              "    </tr>\n",
              "    <tr>\n",
              "      <th>1</th>\n",
              "      <td>2</td>\n",
              "      <td>Acireale</td>\n",
              "      <td>0.007960</td>\n",
              "      <td>1882.117426</td>\n",
              "      <td>20.930000</td>\n",
              "      <td>2421.478762</td>\n",
              "      <td>65551.67962</td>\n",
              "      <td>1</td>\n",
              "      <td>2127.901419</td>\n",
              "    </tr>\n",
              "    <tr>\n",
              "      <th>2</th>\n",
              "      <td>3</td>\n",
              "      <td>Acireale</td>\n",
              "      <td>0.006610</td>\n",
              "      <td>2574.318192</td>\n",
              "      <td>18.379999</td>\n",
              "      <td>2214.927460</td>\n",
              "      <td>65551.67962</td>\n",
              "      <td>1</td>\n",
              "      <td>2563.445263</td>\n",
              "    </tr>\n",
              "    <tr>\n",
              "      <th>3</th>\n",
              "      <td>4</td>\n",
              "      <td>Acireale</td>\n",
              "      <td>0.011870</td>\n",
              "      <td>7405.131897</td>\n",
              "      <td>28.459999</td>\n",
              "      <td>2092.320938</td>\n",
              "      <td>65551.67962</td>\n",
              "      <td>1</td>\n",
              "      <td>6007.991293</td>\n",
              "    </tr>\n",
              "    <tr>\n",
              "      <th>4</th>\n",
              "      <td>5</td>\n",
              "      <td>Acireale</td>\n",
              "      <td>0.013190</td>\n",
              "      <td>11867.653830</td>\n",
              "      <td>42.959999</td>\n",
              "      <td>2068.639445</td>\n",
              "      <td>65551.67962</td>\n",
              "      <td>1</td>\n",
              "      <td>10160.673873</td>\n",
              "    </tr>\n",
              "  </tbody>\n",
              "</table>\n",
              "</div>"
            ],
            "text/plain": [
              "   fid  fua_name  road_len       pop2012  night2012     cen_dist  \\\n",
              "0    1  Acireale  0.015348   7325.648926  30.059999  2692.726152   \n",
              "1    2  Acireale  0.007960   1882.117426  20.930000  2421.478762   \n",
              "2    3  Acireale  0.006610   2574.318192  18.379999  2214.927460   \n",
              "3    4  Acireale  0.011870   7405.131897  28.459999  2092.320938   \n",
              "4    5  Acireale  0.013190  11867.653830  42.959999  2068.639445   \n",
              "\n",
              "   city_pop_total  CLC2012   pop_pred_RF  \n",
              "0     65551.67962        1   7518.218849  \n",
              "1     65551.67962        1   2127.901419  \n",
              "2     65551.67962        1   2563.445263  \n",
              "3     65551.67962        1   6007.991293  \n",
              "4     65551.67962        1  10160.673873  "
            ]
          },
          "metadata": {
            "tags": []
          },
          "execution_count": 106
        }
      ]
    },
    {
      "cell_type": "code",
      "metadata": {
        "id": "w94vFTcslVxh",
        "colab": {
          "base_uri": "https://localhost:8080/"
        },
        "outputId": "2a0f0f2b-2f57-49f6-ed4f-4213b70ef364"
      },
      "source": [
        "data.to_csv(path+r\"/data_preds.csv\",index=False)\n",
        "print('File Exported!')"
      ],
      "execution_count": 107,
      "outputs": [
        {
          "output_type": "stream",
          "text": [
            "File Exported!\n"
          ],
          "name": "stdout"
        }
      ]
    },
    {
      "cell_type": "code",
      "metadata": {
        "id": "mpJpfCE-lVxh"
      },
      "source": [
        ""
      ],
      "execution_count": 107,
      "outputs": []
    }
  ]
}