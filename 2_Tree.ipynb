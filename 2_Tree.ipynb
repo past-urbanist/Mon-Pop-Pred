{
 "cells": [
  {
   "cell_type": "code",
   "execution_count": 39,
   "metadata": {
    "colab": {
     "base_uri": "https://localhost:8080/"
    },
    "executionInfo": {
     "elapsed": 1294,
     "status": "ok",
     "timestamp": 1612778446971,
     "user": {
      "displayName": "Kerr Chang",
      "photoUrl": "https://lh3.googleusercontent.com/a-/AOh14Gg-eK4lfkJuBc3qRX1dBuGDw4xoZmww4R8hwN1V=s64",
      "userId": "05169052875920134779"
     },
     "user_tz": -480
    },
    "id": "A_Do8_nplaI1",
    "outputId": "b0ff40de-19e1-44ce-8312-d4919b72008e",
    "scrolled": true
   },
   "outputs": [],
   "source": [
    "# from google.colab import drive\n",
    "# drive.mount('/content/gdrive/')\n",
    "# path = \"/content/gdrive/My Drive/Colab Notebooks\""
   ]
  },
  {
   "cell_type": "code",
   "execution_count": 1,
   "metadata": {
    "executionInfo": {
     "elapsed": 2298,
     "status": "ok",
     "timestamp": 1612778447987,
     "user": {
      "displayName": "Kerr Chang",
      "photoUrl": "https://lh3.googleusercontent.com/a-/AOh14Gg-eK4lfkJuBc3qRX1dBuGDw4xoZmww4R8hwN1V=s64",
      "userId": "05169052875920134779"
     },
     "user_tz": -480
    },
    "id": "4QgcbRbXCVqy"
   },
   "outputs": [],
   "source": [
    "import re, os, random\n",
    "import numpy as np\n",
    "import pandas as pd\n",
    "import matplotlib.pyplot as plt"
   ]
  },
  {
   "cell_type": "code",
   "execution_count": 2,
   "metadata": {
    "colab": {
     "base_uri": "https://localhost:8080/"
    },
    "executionInfo": {
     "elapsed": 2691,
     "status": "ok",
     "timestamp": 1612778448387,
     "user": {
      "displayName": "Kerr Chang",
      "photoUrl": "https://lh3.googleusercontent.com/a-/AOh14Gg-eK4lfkJuBc3qRX1dBuGDw4xoZmww4R8hwN1V=s64",
      "userId": "05169052875920134779"
     },
     "user_tz": -480
    },
    "id": "m1e6MgLkCVq0",
    "outputId": "623ff454-9c3d-46a8-f9b1-4820b5e2d25b"
   },
   "outputs": [],
   "source": [
    "from sklearn import preprocessing\n",
    "from sklearn.model_selection import GridSearchCV\n",
    "from sklearn.tree import DecisionTreeRegressor, plot_tree\n",
    "from sklearn.ensemble import RandomForestRegressor, GradientBoostingRegressor\n",
    "from sklearn.metrics import mean_squared_error\n",
    "import joblib"
   ]
  },
  {
   "cell_type": "code",
   "execution_count": 38,
   "metadata": {
    "colab": {
     "base_uri": "https://localhost:8080/"
    },
    "executionInfo": {
     "elapsed": 13759,
     "status": "ok",
     "timestamp": 1612778459464,
     "user": {
      "displayName": "Kerr Chang",
      "photoUrl": "https://lh3.googleusercontent.com/a-/AOh14Gg-eK4lfkJuBc3qRX1dBuGDw4xoZmww4R8hwN1V=s64",
      "userId": "05169052875920134779"
     },
     "user_tz": -480
    },
    "id": "uh3uQVgbOBU4",
    "outputId": "048ed9a2-7ac7-4861-cfb3-d17ce88fcd1e"
   },
   "outputs": [],
   "source": [
    "# !pip install -Uqq fastbook\n",
    "import fastbook\n",
    "fastbook.setup_book()\n",
    "from fastbook import *\n",
    "\n",
    "from fastai.tabular import *\n",
    "from fastai.tabular.all import *\n",
    "from fastai.tabular.data import *\n",
    "from fastai.tabular.learner import *"
   ]
  },
  {
   "cell_type": "code",
   "execution_count": 4,
   "metadata": {
    "colab": {
     "base_uri": "https://localhost:8080/"
    },
    "executionInfo": {
     "elapsed": 15969,
     "status": "ok",
     "timestamp": 1612778461694,
     "user": {
      "displayName": "Kerr Chang",
      "photoUrl": "https://lh3.googleusercontent.com/a-/AOh14Gg-eK4lfkJuBc3qRX1dBuGDw4xoZmww4R8hwN1V=s64",
      "userId": "05169052875920134779"
     },
     "user_tz": -480
    },
    "id": "spTI91QCCVq-",
    "outputId": "31f4d2a2-61f9-49ef-f4d5-686ed7759f7e"
   },
   "outputs": [
    {
     "data": {
      "text/plain": [
       "['pop2012',\n",
       " 'night',\n",
       " 'road_len',\n",
       " 'city_pop',\n",
       " 'cen_dist',\n",
       " 'land_cover',\n",
       " 'city_id',\n",
       " 'X',\n",
       " 'Y']"
      ]
     },
     "execution_count": 4,
     "metadata": {},
     "output_type": "execute_result"
    }
   ],
   "source": [
    "data = pd.read_csv(\"data_shuf.csv\")\n",
    "alist = data.columns.to_list()\n",
    "alist"
   ]
  },
  {
   "cell_type": "code",
   "execution_count": 5,
   "metadata": {},
   "outputs": [],
   "source": [
    "alist = ['pop2012', 'night', 'road_len', 'city_pop', 'cen_dist', 'X', 'Y', 'land_cover','city_id']\n",
    "data = data[alist]"
   ]
  },
  {
   "cell_type": "code",
   "execution_count": 6,
   "metadata": {
    "colab": {
     "base_uri": "https://localhost:8080/",
     "height": 288
    },
    "executionInfo": {
     "elapsed": 15961,
     "status": "ok",
     "timestamp": 1612778461695,
     "user": {
      "displayName": "Kerr Chang",
      "photoUrl": "https://lh3.googleusercontent.com/a-/AOh14Gg-eK4lfkJuBc3qRX1dBuGDw4xoZmww4R8hwN1V=s64",
      "userId": "05169052875920134779"
     },
     "user_tz": -480
    },
    "id": "TQsAn1b1lVxA",
    "outputId": "0ca48567-5386-4bd5-ebf1-46b510063504"
   },
   "outputs": [
    {
     "data": {
      "text/html": [
       "<div>\n",
       "<style scoped>\n",
       "    .dataframe tbody tr th:only-of-type {\n",
       "        vertical-align: middle;\n",
       "    }\n",
       "\n",
       "    .dataframe tbody tr th {\n",
       "        vertical-align: top;\n",
       "    }\n",
       "\n",
       "    .dataframe thead th {\n",
       "        text-align: right;\n",
       "    }\n",
       "</style>\n",
       "<table border=\"1\" class=\"dataframe\">\n",
       "  <thead>\n",
       "    <tr style=\"text-align: right;\">\n",
       "      <th></th>\n",
       "      <th>pop2012</th>\n",
       "      <th>night</th>\n",
       "      <th>road_len</th>\n",
       "      <th>city_pop</th>\n",
       "      <th>cen_dist</th>\n",
       "      <th>X</th>\n",
       "      <th>Y</th>\n",
       "      <th>land_cover</th>\n",
       "      <th>city_id</th>\n",
       "    </tr>\n",
       "  </thead>\n",
       "  <tbody>\n",
       "    <tr>\n",
       "      <th>count</th>\n",
       "      <td>745373.000000</td>\n",
       "      <td>745373.000000</td>\n",
       "      <td>745373.000000</td>\n",
       "      <td>745373.000000</td>\n",
       "      <td>745373.000000</td>\n",
       "      <td>745373.000000</td>\n",
       "      <td>745373.000000</td>\n",
       "      <td>745373.000000</td>\n",
       "      <td>745373.000000</td>\n",
       "    </tr>\n",
       "    <tr>\n",
       "      <th>mean</th>\n",
       "      <td>0.007360</td>\n",
       "      <td>0.016975</td>\n",
       "      <td>0.088757</td>\n",
       "      <td>0.326192</td>\n",
       "      <td>0.309736</td>\n",
       "      <td>0.501763</td>\n",
       "      <td>0.491592</td>\n",
       "      <td>6.635601</td>\n",
       "      <td>8.075452</td>\n",
       "    </tr>\n",
       "    <tr>\n",
       "      <th>std</th>\n",
       "      <td>0.031053</td>\n",
       "      <td>0.042659</td>\n",
       "      <td>0.123813</td>\n",
       "      <td>0.317179</td>\n",
       "      <td>0.165388</td>\n",
       "      <td>0.229234</td>\n",
       "      <td>0.223515</td>\n",
       "      <td>1.988893</td>\n",
       "      <td>4.730038</td>\n",
       "    </tr>\n",
       "    <tr>\n",
       "      <th>min</th>\n",
       "      <td>0.000000</td>\n",
       "      <td>0.000000</td>\n",
       "      <td>0.000000</td>\n",
       "      <td>0.000000</td>\n",
       "      <td>0.000000</td>\n",
       "      <td>0.000000</td>\n",
       "      <td>0.000000</td>\n",
       "      <td>1.000000</td>\n",
       "      <td>0.000000</td>\n",
       "    </tr>\n",
       "    <tr>\n",
       "      <th>25%</th>\n",
       "      <td>0.000000</td>\n",
       "      <td>0.001257</td>\n",
       "      <td>0.000000</td>\n",
       "      <td>0.112451</td>\n",
       "      <td>0.188068</td>\n",
       "      <td>0.323764</td>\n",
       "      <td>0.312236</td>\n",
       "      <td>7.000000</td>\n",
       "      <td>5.000000</td>\n",
       "    </tr>\n",
       "    <tr>\n",
       "      <th>50%</th>\n",
       "      <td>0.000032</td>\n",
       "      <td>0.002658</td>\n",
       "      <td>0.042683</td>\n",
       "      <td>0.202492</td>\n",
       "      <td>0.285789</td>\n",
       "      <td>0.501548</td>\n",
       "      <td>0.490411</td>\n",
       "      <td>7.000000</td>\n",
       "      <td>8.000000</td>\n",
       "    </tr>\n",
       "    <tr>\n",
       "      <th>75%</th>\n",
       "      <td>0.001060</td>\n",
       "      <td>0.010131</td>\n",
       "      <td>0.127079</td>\n",
       "      <td>0.333183</td>\n",
       "      <td>0.406160</td>\n",
       "      <td>0.682540</td>\n",
       "      <td>0.665753</td>\n",
       "      <td>8.000000</td>\n",
       "      <td>12.000000</td>\n",
       "    </tr>\n",
       "    <tr>\n",
       "      <th>max</th>\n",
       "      <td>1.000000</td>\n",
       "      <td>1.000000</td>\n",
       "      <td>0.989409</td>\n",
       "      <td>1.000000</td>\n",
       "      <td>1.000000</td>\n",
       "      <td>1.000000</td>\n",
       "      <td>1.000000</td>\n",
       "      <td>11.000000</td>\n",
       "      <td>16.000000</td>\n",
       "    </tr>\n",
       "  </tbody>\n",
       "</table>\n",
       "</div>"
      ],
      "text/plain": [
       "             pop2012          night       road_len       city_pop  \\\n",
       "count  745373.000000  745373.000000  745373.000000  745373.000000   \n",
       "mean        0.007360       0.016975       0.088757       0.326192   \n",
       "std         0.031053       0.042659       0.123813       0.317179   \n",
       "min         0.000000       0.000000       0.000000       0.000000   \n",
       "25%         0.000000       0.001257       0.000000       0.112451   \n",
       "50%         0.000032       0.002658       0.042683       0.202492   \n",
       "75%         0.001060       0.010131       0.127079       0.333183   \n",
       "max         1.000000       1.000000       0.989409       1.000000   \n",
       "\n",
       "            cen_dist              X              Y     land_cover  \\\n",
       "count  745373.000000  745373.000000  745373.000000  745373.000000   \n",
       "mean        0.309736       0.501763       0.491592       6.635601   \n",
       "std         0.165388       0.229234       0.223515       1.988893   \n",
       "min         0.000000       0.000000       0.000000       1.000000   \n",
       "25%         0.188068       0.323764       0.312236       7.000000   \n",
       "50%         0.285789       0.501548       0.490411       7.000000   \n",
       "75%         0.406160       0.682540       0.665753       8.000000   \n",
       "max         1.000000       1.000000       1.000000      11.000000   \n",
       "\n",
       "             city_id  \n",
       "count  745373.000000  \n",
       "mean        8.075452  \n",
       "std         4.730038  \n",
       "min         0.000000  \n",
       "25%         5.000000  \n",
       "50%         8.000000  \n",
       "75%        12.000000  \n",
       "max        16.000000  "
      ]
     },
     "execution_count": 6,
     "metadata": {},
     "output_type": "execute_result"
    }
   ],
   "source": [
    "data.describe()"
   ]
  },
  {
   "cell_type": "code",
   "execution_count": 7,
   "metadata": {
    "executionInfo": {
     "elapsed": 15954,
     "status": "ok",
     "timestamp": 1612778461696,
     "user": {
      "displayName": "Kerr Chang",
      "photoUrl": "https://lh3.googleusercontent.com/a-/AOh14Gg-eK4lfkJuBc3qRX1dBuGDw4xoZmww4R8hwN1V=s64",
      "userId": "05169052875920134779"
     },
     "user_tz": -480
    },
    "id": "g0qJLSIICVrL"
   },
   "outputs": [],
   "source": [
    "cat_names = alist[-2:]\n",
    "cont_names = alist[1:-2]\n",
    "y_names = alist[0]\n",
    "procs = [Categorify,]"
   ]
  },
  {
   "cell_type": "code",
   "execution_count": 8,
   "metadata": {
    "executionInfo": {
     "elapsed": 15947,
     "status": "ok",
     "timestamp": 1612778461696,
     "user": {
      "displayName": "Kerr Chang",
      "photoUrl": "https://lh3.googleusercontent.com/a-/AOh14Gg-eK4lfkJuBc3qRX1dBuGDw4xoZmww4R8hwN1V=s64",
      "userId": "05169052875920134779"
     },
     "user_tz": -480
    },
    "id": "V8fdCq828veN"
   },
   "outputs": [],
   "source": [
    "percent, length = 0.8, len(data.axes[0])\n",
    "stop = int(percent * length)\n",
    "splits = [list(range(stop)), list(range(stop,length))]"
   ]
  },
  {
   "cell_type": "code",
   "execution_count": 9,
   "metadata": {
    "executionInfo": {
     "elapsed": 16364,
     "status": "ok",
     "timestamp": 1612778462119,
     "user": {
      "displayName": "Kerr Chang",
      "photoUrl": "https://lh3.googleusercontent.com/a-/AOh14Gg-eK4lfkJuBc3qRX1dBuGDw4xoZmww4R8hwN1V=s64",
      "userId": "05169052875920134779"
     },
     "user_tz": -480
    },
    "id": "pFZa3bXr9PWP"
   },
   "outputs": [],
   "source": [
    "to = TabularPandas(data, procs=procs, cat_names=cat_names, cont_names=cont_names, y_names=y_names, splits=splits)"
   ]
  },
  {
   "cell_type": "code",
   "execution_count": 10,
   "metadata": {
    "colab": {
     "base_uri": "https://localhost:8080/"
    },
    "executionInfo": {
     "elapsed": 16357,
     "status": "ok",
     "timestamp": 1612778462119,
     "user": {
      "displayName": "Kerr Chang",
      "photoUrl": "https://lh3.googleusercontent.com/a-/AOh14Gg-eK4lfkJuBc3qRX1dBuGDw4xoZmww4R8hwN1V=s64",
      "userId": "05169052875920134779"
     },
     "user_tz": -480
    },
    "id": "KvCGjXJC9Rzu",
    "outputId": "89d79026-daea-4d1a-fd14-373c4a4d3809"
   },
   "outputs": [
    {
     "data": {
      "text/plain": [
       "(745373, 596298, 149075)"
      ]
     },
     "execution_count": 10,
     "metadata": {},
     "output_type": "execute_result"
    }
   ],
   "source": [
    "len(to.xs),len(to.train),len(to.valid)"
   ]
  },
  {
   "cell_type": "code",
   "execution_count": 11,
   "metadata": {
    "executionInfo": {
     "elapsed": 16351,
     "status": "ok",
     "timestamp": 1612778462120,
     "user": {
      "displayName": "Kerr Chang",
      "photoUrl": "https://lh3.googleusercontent.com/a-/AOh14Gg-eK4lfkJuBc3qRX1dBuGDw4xoZmww4R8hwN1V=s64",
      "userId": "05169052875920134779"
     },
     "user_tz": -480
    },
    "id": "C-_lFXnc768b"
   },
   "outputs": [],
   "source": [
    "xs, y = to.xs,to.y\n",
    "train_xs,train_y = to.train.xs,to.train.y\n",
    "valid_xs,valid_y = to.valid.xs,to.valid.y"
   ]
  },
  {
   "cell_type": "markdown",
   "metadata": {
    "id": "zztn8shTlVxK"
   },
   "source": [
    "## Decision Tree"
   ]
  },
  {
   "cell_type": "code",
   "execution_count": 12,
   "metadata": {
    "executionInfo": {
     "elapsed": 16344,
     "status": "ok",
     "timestamp": 1612778462120,
     "user": {
      "displayName": "Kerr Chang",
      "photoUrl": "https://lh3.googleusercontent.com/a-/AOh14Gg-eK4lfkJuBc3qRX1dBuGDw4xoZmww4R8hwN1V=s64",
      "userId": "05169052875920134779"
     },
     "user_tz": -480
    },
    "id": "SrC-pb_alVxN"
   },
   "outputs": [],
   "source": [
    "def rmse(y,y_pred): return mean_squared_error(y,y_pred,squared=False)"
   ]
  },
  {
   "cell_type": "code",
   "execution_count": 13,
   "metadata": {
    "executionInfo": {
     "elapsed": 17206,
     "status": "ok",
     "timestamp": 1612778462989,
     "user": {
      "displayName": "Kerr Chang",
      "photoUrl": "https://lh3.googleusercontent.com/a-/AOh14Gg-eK4lfkJuBc3qRX1dBuGDw4xoZmww4R8hwN1V=s64",
      "userId": "05169052875920134779"
     },
     "user_tz": -480
    },
    "id": "Aun_aQhh7_wF"
   },
   "outputs": [],
   "source": [
    "dt = DecisionTreeRegressor(max_leaf_nodes=10, min_samples_leaf=25)\n",
    "dt.fit(train_xs, train_y);"
   ]
  },
  {
   "cell_type": "code",
   "execution_count": 14,
   "metadata": {
    "colab": {
     "base_uri": "https://localhost:8080/",
     "height": 248
    },
    "executionInfo": {
     "elapsed": 17828,
     "status": "ok",
     "timestamp": 1612778463619,
     "user": {
      "displayName": "Kerr Chang",
      "photoUrl": "https://lh3.googleusercontent.com/a-/AOh14Gg-eK4lfkJuBc3qRX1dBuGDw4xoZmww4R8hwN1V=s64",
      "userId": "05169052875920134779"
     },
     "user_tz": -480
    },
    "id": "JhMvMRjv36qB",
    "outputId": "a76991b0-f15d-4e34-8e12-3f1c5b58da80"
   },
   "outputs": [
    {
     "data": {
      "image/png": "[encoded data removed]",
      "text/plain": [
       "<Figure size 432x288 with 1 Axes>"
      ]
     },
     "metadata": {
      "needs_background": "light"
     },
     "output_type": "display_data"
    }
   ],
   "source": [
    "plot_tree(dt);"
   ]
  },
  {
   "cell_type": "code",
   "execution_count": 15,
   "metadata": {
    "colab": {
     "base_uri": "https://localhost:8080/"
    },
    "executionInfo": {
     "elapsed": 17822,
     "status": "ok",
     "timestamp": 1612778463620,
     "user": {
      "displayName": "Kerr Chang",
      "photoUrl": "https://lh3.googleusercontent.com/a-/AOh14Gg-eK4lfkJuBc3qRX1dBuGDw4xoZmww4R8hwN1V=s64",
      "userId": "05169052875920134779"
     },
     "user_tz": -480
    },
    "id": "BVOYdL1CDTCe",
    "outputId": "71cd5723-a30f-41e0-8ef2-6285c0a51e06"
   },
   "outputs": [
    {
     "data": {
      "text/plain": [
       "(10, 596298)"
      ]
     },
     "execution_count": 15,
     "metadata": {},
     "output_type": "execute_result"
    }
   ],
   "source": [
    "dt.get_n_leaves(), len(train_xs)"
   ]
  },
  {
   "cell_type": "code",
   "execution_count": 16,
   "metadata": {
    "executionInfo": {
     "elapsed": 17815,
     "status": "ok",
     "timestamp": 1612778463620,
     "user": {
      "displayName": "Kerr Chang",
      "photoUrl": "https://lh3.googleusercontent.com/a-/AOh14Gg-eK4lfkJuBc3qRX1dBuGDw4xoZmww4R8hwN1V=s64",
      "userId": "05169052875920134779"
     },
     "user_tz": -480
    },
    "id": "PzXV5VlIDOvH"
   },
   "outputs": [],
   "source": [
    "train_rmse = rmse(dt.predict(train_xs), train_y)\n",
    "valid_rmse = rmse(dt.predict(valid_xs), valid_y)"
   ]
  },
  {
   "cell_type": "code",
   "execution_count": 17,
   "metadata": {
    "colab": {
     "base_uri": "https://localhost:8080/"
    },
    "executionInfo": {
     "elapsed": 17809,
     "status": "ok",
     "timestamp": 1612778463621,
     "user": {
      "displayName": "Kerr Chang",
      "photoUrl": "https://lh3.googleusercontent.com/a-/AOh14Gg-eK4lfkJuBc3qRX1dBuGDw4xoZmww4R8hwN1V=s64",
      "userId": "05169052875920134779"
     },
     "user_tz": -480
    },
    "id": "hBaw_9vElVxP",
    "outputId": "8357d9b1-d047-4e3a-9292-36d4b2b4ac89"
   },
   "outputs": [
    {
     "data": {
      "text/plain": [
       "(0.01865095313208803, 0.01823642536612159, 0.6551069901547166)"
      ]
     },
     "execution_count": 17,
     "metadata": {},
     "output_type": "execute_result"
    }
   ],
   "source": [
    "std = data.describe().to_dict()['pop2012']['std']\n",
    "R2 = 1 - ( valid_rmse / std ) ** 2\n",
    "train_rmse, valid_rmse, R2"
   ]
  },
  {
   "cell_type": "markdown",
   "metadata": {
    "id": "6dN0WcM5lVxR"
   },
   "source": [
    "## Random Forest"
   ]
  },
  {
   "cell_type": "code",
   "execution_count": 18,
   "metadata": {
    "executionInfo": {
     "elapsed": 1301,
     "status": "ok",
     "timestamp": 1612779688522,
     "user": {
      "displayName": "Kerr Chang",
      "photoUrl": "https://lh3.googleusercontent.com/a-/AOh14Gg-eK4lfkJuBc3qRX1dBuGDw4xoZmww4R8hwN1V=s64",
      "userId": "05169052875920134779"
     },
     "user_tz": -480
    },
    "id": "50hYqdu4G2HO"
   },
   "outputs": [],
   "source": [
    "param_grid = [{'n_estimators':[20], 'max_samples':[200_00], 'max_features': [0.5], 'min_samples_leaf':[5, 8, 10], 'max_depth': [10, 12, 14]}]\n",
    "rf_test = RandomForestRegressor()"
   ]
  },
  {
   "cell_type": "code",
   "execution_count": null,
   "metadata": {},
   "outputs": [],
   "source": [
    "rf_grid_search = GridSearchCV(rf_test, param_grid, cv=4, scoring='neg_mean_squared_error')\n",
    "rf_grid_search.fit(train_xs,train_y)"
   ]
  },
  {
   "cell_type": "code",
   "execution_count": null,
   "metadata": {
    "colab": {
     "base_uri": "https://localhost:8080/"
    },
    "executionInfo": {
     "elapsed": 188004,
     "status": "ok",
     "timestamp": 1612779881345,
     "user": {
      "displayName": "Kerr Chang",
      "photoUrl": "https://lh3.googleusercontent.com/a-/AOh14Gg-eK4lfkJuBc3qRX1dBuGDw4xoZmww4R8hwN1V=s64",
      "userId": "05169052875920134779"
     },
     "user_tz": -480
    },
    "id": "Pm0KicuQIfnx",
    "outputId": "798d373d-a0c3-4bd2-ba0f-039a9c54ab96"
   },
   "outputs": [],
   "source": [
    "rf_grid_search.best_params_"
   ]
  },
  {
   "cell_type": "code",
   "execution_count": 18,
   "metadata": {
    "executionInfo": {
     "elapsed": 1873,
     "status": "ok",
     "timestamp": 1612782729537,
     "user": {
      "displayName": "Kerr Chang",
      "photoUrl": "https://lh3.googleusercontent.com/a-/AOh14Gg-eK4lfkJuBc3qRX1dBuGDw4xoZmww4R8hwN1V=s64",
      "userId": "05169052875920134779"
     },
     "user_tz": -480
    },
    "id": "02N2xAJfCVrM"
   },
   "outputs": [],
   "source": [
    "n_estimators = 500\n",
    "max_samples = 200_00\n",
    "max_features = 0.5\n",
    "min_samples_leaf = 5"
   ]
  },
  {
   "cell_type": "code",
   "execution_count": 19,
   "metadata": {
    "executionInfo": {
     "elapsed": 1545,
     "status": "ok",
     "timestamp": 1612782730121,
     "user": {
      "displayName": "Kerr Chang",
      "photoUrl": "https://lh3.googleusercontent.com/a-/AOh14Gg-eK4lfkJuBc3qRX1dBuGDw4xoZmww4R8hwN1V=s64",
      "userId": "05169052875920134779"
     },
     "user_tz": -480
    },
    "id": "sbNmMIYblVxT"
   },
   "outputs": [],
   "source": [
    "rf = RandomForestRegressor(n_jobs=-1, n_estimators=n_estimators,\n",
    "    max_samples=max_samples, max_features=max_features,\n",
    "    min_samples_leaf=min_samples_leaf, oob_score=True)"
   ]
  },
  {
   "cell_type": "code",
   "execution_count": 20,
   "metadata": {
    "colab": {
     "base_uri": "https://localhost:8080/"
    },
    "executionInfo": {
     "elapsed": 172739,
     "status": "ok",
     "timestamp": 1612782902228,
     "user": {
      "displayName": "Kerr Chang",
      "photoUrl": "https://lh3.googleusercontent.com/a-/AOh14Gg-eK4lfkJuBc3qRX1dBuGDw4xoZmww4R8hwN1V=s64",
      "userId": "05169052875920134779"
     },
     "user_tz": -480
    },
    "id": "nRok68xmlVxU",
    "outputId": "62e073e7-9067-4926-b401-d3750e64a505"
   },
   "outputs": [
    {
     "name": "stdout",
     "output_type": "stream",
     "text": [
      "Time: 80.82889199256897\n"
     ]
    }
   ],
   "source": [
    "import time\n",
    "start = time.time()\n",
    "m = rf.fit(train_xs, train_y);\n",
    "end = time.time()\n",
    "print(\"Time:\", end-start)"
   ]
  },
  {
   "cell_type": "code",
   "execution_count": 21,
   "metadata": {
    "executionInfo": {
     "elapsed": 197953,
     "status": "ok",
     "timestamp": 1612782929376,
     "user": {
      "displayName": "Kerr Chang",
      "photoUrl": "https://lh3.googleusercontent.com/a-/AOh14Gg-eK4lfkJuBc3qRX1dBuGDw4xoZmww4R8hwN1V=s64",
      "userId": "05169052875920134779"
     },
     "user_tz": -480
    },
    "id": "XKTlWh7LbRC1"
   },
   "outputs": [],
   "source": [
    "train_rmse = rmse(rf.predict(train_xs), train_y)\n",
    "valid_rmse = rmse(rf.predict(valid_xs), valid_y)"
   ]
  },
  {
   "cell_type": "code",
   "execution_count": 22,
   "metadata": {
    "colab": {
     "base_uri": "https://localhost:8080/"
    },
    "executionInfo": {
     "elapsed": 195894,
     "status": "ok",
     "timestamp": 1612782929379,
     "user": {
      "displayName": "Kerr Chang",
      "photoUrl": "https://lh3.googleusercontent.com/a-/AOh14Gg-eK4lfkJuBc3qRX1dBuGDw4xoZmww4R8hwN1V=s64",
      "userId": "05169052875920134779"
     },
     "user_tz": -480
    },
    "id": "ieHG7A6E59R9",
    "outputId": "0f7cffa6-c601-49be-f25e-34bac07d3aa0"
   },
   "outputs": [
    {
     "data": {
      "text/plain": [
       "(0.014313295078176615, 0.014426411832639867, 0.7841651265901359)"
      ]
     },
     "execution_count": 22,
     "metadata": {},
     "output_type": "execute_result"
    }
   ],
   "source": [
    "R2 = 1 - ( valid_rmse / std ) ** 2\n",
    "train_rmse, valid_rmse, R2"
   ]
  },
  {
   "cell_type": "code",
   "execution_count": 23,
   "metadata": {
    "colab": {
     "base_uri": "https://localhost:8080/"
    },
    "executionInfo": {
     "elapsed": 45148,
     "status": "ok",
     "timestamp": 1612782974556,
     "user": {
      "displayName": "Kerr Chang",
      "photoUrl": "https://lh3.googleusercontent.com/a-/AOh14Gg-eK4lfkJuBc3qRX1dBuGDw4xoZmww4R8hwN1V=s64",
      "userId": "05169052875920134779"
     },
     "user_tz": -480
    },
    "id": "FrYGflWHxKVt",
    "outputId": "d3019ae0-73e3-443c-e88d-2052fb74fdf3"
   },
   "outputs": [
    {
     "data": {
      "text/plain": [
       "((500, 596298), (500, 149075))"
      ]
     },
     "execution_count": 23,
     "metadata": {},
     "output_type": "execute_result"
    }
   ],
   "source": [
    "train_preds = np.stack([t.predict(train_xs) for t in rf.estimators_])\n",
    "valid_preds = np.stack([t.predict(valid_xs) for t in rf.estimators_])\n",
    "train_preds.shape, valid_preds.shape"
   ]
  },
  {
   "cell_type": "code",
   "execution_count": 24,
   "metadata": {
    "colab": {
     "base_uri": "https://localhost:8080/",
     "height": 320
    },
    "executionInfo": {
     "elapsed": 121094,
     "status": "ok",
     "timestamp": 1612783050519,
     "user": {
      "displayName": "Kerr Chang",
      "photoUrl": "https://lh3.googleusercontent.com/a-/AOh14Gg-eK4lfkJuBc3qRX1dBuGDw4xoZmww4R8hwN1V=s64",
      "userId": "05169052875920134779"
     },
     "user_tz": -480
    },
    "id": "7ryyDzZDv4HY",
    "outputId": "318ec5fe-544f-409d-aa85-5c08fde4edb7"
   },
   "outputs": [
    {
     "data": {
      "text/plain": [
       "<matplotlib.legend.Legend at 0x26a804bef88>"
      ]
     },
     "execution_count": 24,
     "metadata": {},
     "output_type": "execute_result"
    },
    {
     "data": {
      "image/png": "[encoded data removed]",
      "text/plain": [
       "<Figure size 432x288 with 1 Axes>"
      ]
     },
     "metadata": {
      "needs_background": "light"
     },
     "output_type": "display_data"
    }
   ],
   "source": [
    "t = [rmse(train_preds[:i+1].mean(0), train_y) for i in range(0, n_estimators)]\n",
    "v = [rmse(valid_preds[:i+1].mean(0), valid_y) for i in range(0, n_estimators)]\n",
    "\n",
    "plt.plot(t, label='Training loss')\n",
    "plt.plot(v, label='Validation loss')\n",
    "plt.title(\"Train and Validation Loss over Epochs\")\n",
    "plt.xlabel(\"Epochs\")\n",
    "plt.legend(frameon=False)"
   ]
  },
  {
   "cell_type": "code",
   "execution_count": 25,
   "metadata": {
    "colab": {
     "base_uri": "https://localhost:8080/"
    },
    "executionInfo": {
     "elapsed": 121509,
     "status": "ok",
     "timestamp": 1612783050950,
     "user": {
      "displayName": "Kerr Chang",
      "photoUrl": "https://lh3.googleusercontent.com/a-/AOh14Gg-eK4lfkJuBc3qRX1dBuGDw4xoZmww4R8hwN1V=s64",
      "userId": "05169052875920134779"
     },
     "user_tz": -480
    },
    "id": "L_YlAK8cwt2R",
    "outputId": "6c4bd20d-1143-45dd-c7a9-a9aa89d984e9"
   },
   "outputs": [
    {
     "name": "stdout",
     "output_type": "stream",
     "text": [
      "night: 13.867325%\n",
      "road_len: 4.017821%\n",
      "city_pop: 24.084534%\n",
      "cen_dist: 37.737926%\n",
      "X: 2.698857%\n",
      "Y: 12.484451%\n",
      "land_cover: 2.539684%\n",
      "city_id: 2.569402%\n"
     ]
    }
   ],
   "source": [
    "for name, score in zip(alist[1:], rf.feature_importances_):\n",
    "    print('%s: %f' %(name, 100 *score)+\"%\")"
   ]
  },
  {
   "cell_type": "code",
   "execution_count": 26,
   "metadata": {},
   "outputs": [
    {
     "name": "stdout",
     "output_type": "stream",
     "text": [
      "Model Saved!\n"
     ]
    }
   ],
   "source": [
    "# Save the model\n",
    "joblib_file = \"forest.pkl\"\n",
    "joblib.dump(m, joblib_file)\n",
    "print('Model Saved!')"
   ]
  },
  {
   "cell_type": "markdown",
   "metadata": {
    "id": "OaK7jkN_xNVY"
   },
   "source": [
    "## Gradient Boosting"
   ]
  },
  {
   "cell_type": "code",
   "execution_count": 48,
   "metadata": {
    "executionInfo": {
     "elapsed": 1445,
     "status": "ok",
     "timestamp": 1612779882814,
     "user": {
      "displayName": "Kerr Chang",
      "photoUrl": "https://lh3.googleusercontent.com/a-/AOh14Gg-eK4lfkJuBc3qRX1dBuGDw4xoZmww4R8hwN1V=s64",
      "userId": "05169052875920134779"
     },
     "user_tz": -480
    },
    "id": "Po0J4lP4qJiY"
   },
   "outputs": [],
   "source": [
    "param_grid = [{'n_estimators':[20], 'max_depth': [7, 8, 9], 'learning_rate':[0.1, 0.3, 0.5], 'min_samples_leaf':[20, 25, 30]}]\n",
    "gbrt_test = GradientBoostingRegressor()"
   ]
  },
  {
   "cell_type": "code",
   "execution_count": 49,
   "metadata": {
    "colab": {
     "base_uri": "https://localhost:8080/"
    },
    "executionInfo": {
     "elapsed": 2450374,
     "status": "ok",
     "timestamp": 1612782331778,
     "user": {
      "displayName": "Kerr Chang",
      "photoUrl": "https://lh3.googleusercontent.com/a-/AOh14Gg-eK4lfkJuBc3qRX1dBuGDw4xoZmww4R8hwN1V=s64",
      "userId": "05169052875920134779"
     },
     "user_tz": -480
    },
    "id": "71HUmkmKrzeL",
    "outputId": "6f8a1628-5ca9-4056-d2e4-432e18d39ca9"
   },
   "outputs": [
    {
     "data": {
      "text/plain": [
       "GridSearchCV(cv=5, error_score=nan,\n",
       "             estimator=GradientBoostingRegressor(alpha=0.9, ccp_alpha=0.0,\n",
       "                                                 criterion='friedman_mse',\n",
       "                                                 init=None, learning_rate=0.1,\n",
       "                                                 loss='ls', max_depth=3,\n",
       "                                                 max_features=None,\n",
       "                                                 max_leaf_nodes=None,\n",
       "                                                 min_impurity_decrease=0.0,\n",
       "                                                 min_impurity_split=None,\n",
       "                                                 min_samples_leaf=1,\n",
       "                                                 min_samples_split=2,\n",
       "                                                 min_weight_fraction_leaf=0.0,\n",
       "                                                 n_estimators=100,\n",
       "                                                 n_iter_n...\n",
       "                                                 presort='deprecated',\n",
       "                                                 random_state=None,\n",
       "                                                 subsample=1.0, tol=0.0001,\n",
       "                                                 validation_fraction=0.1,\n",
       "                                                 verbose=0, warm_start=False),\n",
       "             iid='deprecated', n_jobs=None,\n",
       "             param_grid=[{'learning_rate': [0.1, 0.3, 0.5],\n",
       "                          'max_depth': [7, 8, 9],\n",
       "                          'min_samples_leaf': [20, 25, 30],\n",
       "                          'n_estimators': [20]}],\n",
       "             pre_dispatch='2*n_jobs', refit=True, return_train_score=False,\n",
       "             scoring='neg_mean_squared_error', verbose=0)"
      ]
     },
     "execution_count": 49,
     "metadata": {
      "tags": []
     },
     "output_type": "execute_result"
    }
   ],
   "source": [
    "gbrt_grid_search = GridSearchCV(gbrt_test, param_grid, cv=5, scoring='neg_mean_squared_error')\n",
    "gbrt_grid_search.fit(train_xs,train_y)"
   ]
  },
  {
   "cell_type": "code",
   "execution_count": 50,
   "metadata": {
    "colab": {
     "base_uri": "https://localhost:8080/"
    },
    "executionInfo": {
     "elapsed": 2450354,
     "status": "ok",
     "timestamp": 1612782331786,
     "user": {
      "displayName": "Kerr Chang",
      "photoUrl": "https://lh3.googleusercontent.com/a-/AOh14Gg-eK4lfkJuBc3qRX1dBuGDw4xoZmww4R8hwN1V=s64",
      "userId": "05169052875920134779"
     },
     "user_tz": -480
    },
    "id": "ucJP11yYsb6Y",
    "outputId": "32f07256-ff11-4110-8462-d1deff48d6f2"
   },
   "outputs": [
    {
     "data": {
      "text/plain": [
       "{'learning_rate': 0.3,\n",
       " 'max_depth': 8,\n",
       " 'min_samples_leaf': 20,\n",
       " 'n_estimators': 20}"
      ]
     },
     "execution_count": 50,
     "metadata": {
      "tags": []
     },
     "output_type": "execute_result"
    }
   ],
   "source": [
    "gbrt_grid_search.best_params_"
   ]
  },
  {
   "cell_type": "code",
   "execution_count": 27,
   "metadata": {
    "executionInfo": {
     "elapsed": 121496,
     "status": "ok",
     "timestamp": 1612783050951,
     "user": {
      "displayName": "Kerr Chang",
      "photoUrl": "https://lh3.googleusercontent.com/a-/AOh14Gg-eK4lfkJuBc3qRX1dBuGDw4xoZmww4R8hwN1V=s64",
      "userId": "05169052875920134779"
     },
     "user_tz": -480
    },
    "id": "c6dqHgIoxruw"
   },
   "outputs": [],
   "source": [
    "n_estimators = 150\n",
    "max_depth = 8\n",
    "lr = 0.3\n",
    "min_samples_leaf = 20"
   ]
  },
  {
   "cell_type": "code",
   "execution_count": 28,
   "metadata": {
    "executionInfo": {
     "elapsed": 297635,
     "status": "ok",
     "timestamp": 1612783227103,
     "user": {
      "displayName": "Kerr Chang",
      "photoUrl": "https://lh3.googleusercontent.com/a-/AOh14Gg-eK4lfkJuBc3qRX1dBuGDw4xoZmww4R8hwN1V=s64",
      "userId": "05169052875920134779"
     },
     "user_tz": -480
    },
    "id": "2fLEgOnSxM8m"
   },
   "outputs": [],
   "source": [
    "gbrt = GradientBoostingRegressor(max_depth=max_depth, n_estimators=n_estimators, learning_rate=lr, min_samples_leaf=min_samples_leaf)\n",
    "m = gbrt.fit(train_xs,train_y)"
   ]
  },
  {
   "cell_type": "code",
   "execution_count": 29,
   "metadata": {
    "executionInfo": {
     "elapsed": 299394,
     "status": "ok",
     "timestamp": 1612783228873,
     "user": {
      "displayName": "Kerr Chang",
      "photoUrl": "https://lh3.googleusercontent.com/a-/AOh14Gg-eK4lfkJuBc3qRX1dBuGDw4xoZmww4R8hwN1V=s64",
      "userId": "05169052875920134779"
     },
     "user_tz": -480
    },
    "id": "4J8Ihu_fQx2m"
   },
   "outputs": [],
   "source": [
    "train_rmse = rmse(gbrt.predict(train_xs), train_y)\n",
    "valid_rmse = rmse(gbrt.predict(valid_xs), valid_y)"
   ]
  },
  {
   "cell_type": "code",
   "execution_count": 30,
   "metadata": {
    "colab": {
     "base_uri": "https://localhost:8080/"
    },
    "executionInfo": {
     "elapsed": 299786,
     "status": "ok",
     "timestamp": 1612783229275,
     "user": {
      "displayName": "Kerr Chang",
      "photoUrl": "https://lh3.googleusercontent.com/a-/AOh14Gg-eK4lfkJuBc3qRX1dBuGDw4xoZmww4R8hwN1V=s64",
      "userId": "05169052875920134779"
     },
     "user_tz": -480
    },
    "id": "502lJ_uiylvK",
    "outputId": "53440979-7b78-462e-a6f5-9415408de1df"
   },
   "outputs": [
    {
     "name": "stdout",
     "output_type": "stream",
     "text": [
      "140\n"
     ]
    }
   ],
   "source": [
    "errors = [rmse(valid_y_pred, valid_y) for valid_y_pred in gbrt.staged_predict(valid_xs)]\n",
    "best_n_estimators = np.argmin(errors)\n",
    "print(best_n_estimators)"
   ]
  },
  {
   "cell_type": "code",
   "execution_count": 31,
   "metadata": {
    "executionInfo": {
     "elapsed": 404091,
     "status": "ok",
     "timestamp": 1612783333593,
     "user": {
      "displayName": "Kerr Chang",
      "photoUrl": "https://lh3.googleusercontent.com/a-/AOh14Gg-eK4lfkJuBc3qRX1dBuGDw4xoZmww4R8hwN1V=s64",
      "userId": "05169052875920134779"
     },
     "user_tz": -480
    },
    "id": "fIMboflJ7ACD"
   },
   "outputs": [],
   "source": [
    "gbrt_best = GradientBoostingRegressor(max_depth=max_depth, n_estimators=best_n_estimators, learning_rate=lr, min_samples_leaf=min_samples_leaf)\n",
    "m = gbrt_best.fit(train_xs,train_y)"
   ]
  },
  {
   "cell_type": "code",
   "execution_count": 32,
   "metadata": {
    "executionInfo": {
     "elapsed": 405200,
     "status": "ok",
     "timestamp": 1612783334712,
     "user": {
      "displayName": "Kerr Chang",
      "photoUrl": "https://lh3.googleusercontent.com/a-/AOh14Gg-eK4lfkJuBc3qRX1dBuGDw4xoZmww4R8hwN1V=s64",
      "userId": "05169052875920134779"
     },
     "user_tz": -480
    },
    "id": "0PJRyABMzBH0"
   },
   "outputs": [],
   "source": [
    "train_rmse = rmse(gbrt_best.predict(train_xs), train_y)\n",
    "valid_rmse = rmse(gbrt_best.predict(valid_xs), valid_y)"
   ]
  },
  {
   "cell_type": "code",
   "execution_count": 33,
   "metadata": {
    "colab": {
     "base_uri": "https://localhost:8080/"
    },
    "executionInfo": {
     "elapsed": 405193,
     "status": "ok",
     "timestamp": 1612783334715,
     "user": {
      "displayName": "Kerr Chang",
      "photoUrl": "https://lh3.googleusercontent.com/a-/AOh14Gg-eK4lfkJuBc3qRX1dBuGDw4xoZmww4R8hwN1V=s64",
      "userId": "05169052875920134779"
     },
     "user_tz": -480
    },
    "id": "4hWR_YQ9x5pv",
    "outputId": "d36680f2-cc84-4848-a607-e0d1535f2ecc"
   },
   "outputs": [
    {
     "data": {
      "text/plain": [
       "(0.009436869510446675, 0.012376095133934919, 0.8411554775555448)"
      ]
     },
     "execution_count": 33,
     "metadata": {},
     "output_type": "execute_result"
    }
   ],
   "source": [
    "R2 = 1 - ( valid_rmse / std ) ** 2\n",
    "train_rmse, valid_rmse, R2"
   ]
  },
  {
   "cell_type": "code",
   "execution_count": 34,
   "metadata": {
    "colab": {
     "base_uri": "https://localhost:8080/"
    },
    "executionInfo": {
     "elapsed": 405181,
     "status": "ok",
     "timestamp": 1612783334716,
     "user": {
      "displayName": "Kerr Chang",
      "photoUrl": "https://lh3.googleusercontent.com/a-/AOh14Gg-eK4lfkJuBc3qRX1dBuGDw4xoZmww4R8hwN1V=s64",
      "userId": "05169052875920134779"
     },
     "user_tz": -480
    },
    "id": "sOR-jwz7hDVc",
    "outputId": "ed8503e2-b1af-403b-8f01-693d01880bf5"
   },
   "outputs": [
    {
     "name": "stdout",
     "output_type": "stream",
     "text": [
      "night: 7.119675%\n",
      "road_len: 5.727978%\n",
      "city_pop: 21.264036%\n",
      "cen_dist: 48.083181%\n",
      "X: 2.252046%\n",
      "Y: 9.622838%\n",
      "land_cover: 2.578108%\n",
      "city_id: 3.352138%\n"
     ]
    }
   ],
   "source": [
    "for name, score in zip(alist[1:], m.feature_importances_):\n",
    "    print('%s: %f' %(name, 100 *score)+\"%\")"
   ]
  },
  {
   "cell_type": "code",
   "execution_count": 35,
   "metadata": {
    "colab": {
     "base_uri": "https://localhost:8080/"
    },
    "executionInfo": {
     "elapsed": 2701501,
     "status": "ok",
     "timestamp": 1612782583035,
     "user": {
      "displayName": "Kerr Chang",
      "photoUrl": "https://lh3.googleusercontent.com/a-/AOh14Gg-eK4lfkJuBc3qRX1dBuGDw4xoZmww4R8hwN1V=s64",
      "userId": "05169052875920134779"
     },
     "user_tz": -480
    },
    "id": "tDbb61MulVxZ",
    "outputId": "80394c1c-fae2-4e09-e508-f4b4dc84daae"
   },
   "outputs": [
    {
     "name": "stdout",
     "output_type": "stream",
     "text": [
      "Model Saved!\n"
     ]
    }
   ],
   "source": [
    "# Save the model\n",
    "joblib_file = \"gbrt.pkl\"\n",
    "joblib.dump(m, joblib_file)\n",
    "print('Model Saved!')"
   ]
  },
  {
   "cell_type": "markdown",
   "metadata": {
    "id": "ycpKgarrDpB-"
   },
   "source": [
    "## Now Prediction!"
   ]
  },
  {
   "cell_type": "code",
   "execution_count": 36,
   "metadata": {},
   "outputs": [],
   "source": [
    "def predict_tabular(data_ori, xs, joblib_file, pred_name, pop_max):  \n",
    "    data_pred = pd.read_csv(data_ori)\n",
    "    # Load from file\n",
    "    joblib_model = joblib.load(joblib_file)\n",
    "    preds = joblib_model.predict(xs)\n",
    "    # Transform to the pre-normalized state\n",
    "    preds = preds * pop_max\n",
    "\n",
    "    # Copy in the csv\n",
    "    data_pred[pred_name] = preds\n",
    "    data_pred[pred_name] = data_pred[pred_name].apply(lambda x: max(0,x))\n",
    "    data_pred.to_csv(data_ori,index=False)\n",
    "    print('File Exported!')"
   ]
  },
  {
   "cell_type": "code",
   "execution_count": 37,
   "metadata": {},
   "outputs": [
    {
     "name": "stdout",
     "output_type": "stream",
     "text": [
      "File Exported!\n",
      "File Exported!\n"
     ]
    }
   ],
   "source": [
    "data_ori = 'data2012.csv'\n",
    "data_norm = pd.read_csv('data_new.csv')\n",
    "data_norm = data_norm[alist[1:]]\n",
    "to = TabularPandas(data_norm, procs=procs, cat_names=cat_names, cont_names=cont_names)\n",
    "predict_tabular(data_ori, xs=to.xs, joblib_file=\"forest.pkl\", pred_name='pop_pred_forest', pop_max=85729.664432)\n",
    "predict_tabular(data_ori, xs=to.xs, joblib_file=\"gbrt.pkl\", pred_name='pop_pred_gbrt', pop_max=85729.664432)"
   ]
  },
  {
   "cell_type": "code",
   "execution_count": 66,
   "metadata": {
    "executionInfo": {
     "elapsed": 2711696,
     "status": "ok",
     "timestamp": 1612782593342,
     "user": {
      "displayName": "Kerr Chang",
      "photoUrl": "https://lh3.googleusercontent.com/a-/AOh14Gg-eK4lfkJuBc3qRX1dBuGDw4xoZmww4R8hwN1V=s64",
      "userId": "05169052875920134779"
     },
     "user_tz": -480
    },
    "id": "mpJpfCE-lVxh"
   },
   "outputs": [],
   "source": [
    "pd.DataFrame({'city': data_pred['fua_name'].unique(),\n",
    "              'population (2012)': data_pred['city_pop'].unique(), \n",
    "              'population (202001)': data_pred.groupby(['fua_name'])['pop01'].transform(sum).unique()})\n",
    "# area "
   ]
  }
 ],
 "metadata": {
  "accelerator": "GPU",
  "colab": {
   "collapsed_sections": [],
   "name": "2_Tree.ipynb",
   "provenance": []
  },
  "kernelspec": {
   "display_name": "Python 3",
   "language": "python",
   "name": "python3"
  },
  "language_info": {
   "codemirror_mode": {
    "name": "ipython",
    "version": 3
   },
   "file_extension": ".py",
   "mimetype": "text/x-python",
   "name": "python",
   "nbconvert_exporter": "python",
   "pygments_lexer": "ipython3",
   "version": "3.7.6"
  }
 },
 "nbformat": 4,
 "nbformat_minor": 1
}
