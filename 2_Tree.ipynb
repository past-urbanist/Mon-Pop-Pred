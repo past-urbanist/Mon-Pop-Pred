{
  "nbformat": 4,
  "nbformat_minor": 0,
  "metadata": {
    "accelerator": "GPU",
    "colab": {
      "name": "2_Tree.ipynb",
      "provenance": [],
      "collapsed_sections": []
    },
    "kernelspec": {
      "display_name": "Python 3",
      "language": "python",
      "name": "python3"
    },
    "language_info": {
      "codemirror_mode": {
        "name": "ipython",
        "version": 3
      },
      "file_extension": ".py",
      "mimetype": "text/x-python",
      "name": "python",
      "nbconvert_exporter": "python",
      "pygments_lexer": "ipython3",
      "version": "3.7.6"
    }
  },
  "cells": [
    {
      "cell_type": "code",
      "metadata": {
        "colab": {
          "base_uri": "https://localhost:8080/"
        },
        "id": "A_Do8_nplaI1",
        "outputId": "b6e516fe-ef2f-49c3-b530-a50b47941e6a"
      },
      "source": [
        "from google.colab import drive\r\n",
        "drive.mount('/content/gdrive/')\r\n",
        "path = \"/content/gdrive/My Drive/Colab Notebooks\""
      ],
      "execution_count": 44,
      "outputs": [
        {
          "output_type": "stream",
          "text": [
            "Drive already mounted at /content/gdrive/; to attempt to forcibly remount, call drive.mount(\"/content/gdrive/\", force_remount=True).\n"
          ],
          "name": "stdout"
        }
      ]
    },
    {
      "cell_type": "code",
      "metadata": {
        "id": "4QgcbRbXCVqy"
      },
      "source": [
        "import re, os, random\n",
        "import numpy as np\n",
        "import pandas as pd\n",
        "import matplotlib.pyplot as plt\n",
        "import seaborn as sns\n",
        "\n",
        "%matplotlib inline"
      ],
      "execution_count": 45,
      "outputs": []
    },
    {
      "cell_type": "code",
      "metadata": {
        "id": "m1e6MgLkCVq0"
      },
      "source": [
        "from sklearn import preprocessing\n",
        "from sklearn.model_selection import train_test_split\n",
        "from sklearn.tree import DecisionTreeRegressor\n",
        "from sklearn.ensemble import RandomForestRegressor\n",
        "from sklearn.metrics import mean_squared_error\n",
        "from sklearn.externals import joblib"
      ],
      "execution_count": 46,
      "outputs": []
    },
    {
      "cell_type": "code",
      "metadata": {
        "id": "uh3uQVgbOBU4"
      },
      "source": [
        "!pip install -Uqq fastbook\n",
        "import fastbook\n",
        "fastbook.setup_book()\n",
        "from fastbook import *\n",
        "\n",
        "from fastai.tabular import *\n",
        "from fastai.tabular.all import *\n",
        "from fastai.tabular.data import *\n",
        "from fastai.tabular.learner import *"
      ],
      "execution_count": 47,
      "outputs": []
    },
    {
      "cell_type": "code",
      "metadata": {
        "colab": {
          "base_uri": "https://localhost:8080/"
        },
        "id": "oBsK4WxnlhFE",
        "outputId": "b6dd4575-2745-45d3-da3d-4f223c772749"
      },
      "source": [
        "device = torch.device(\"cuda\" if torch.cuda.is_available() else \"cpu\")\r\n",
        "device"
      ],
      "execution_count": 48,
      "outputs": [
        {
          "output_type": "execute_result",
          "data": {
            "text/plain": [
              "device(type='cuda')"
            ]
          },
          "metadata": {
            "tags": []
          },
          "execution_count": 48
        }
      ]
    },
    {
      "cell_type": "code",
      "metadata": {
        "colab": {
          "base_uri": "https://localhost:8080/"
        },
        "id": "spTI91QCCVq-",
        "outputId": "698833c6-42e0-4127-ee98-5b6a652f03d6"
      },
      "source": [
        "data = pd.read_csv(path+\"/data_shuf.csv\")\n",
        "alist = data.columns.to_list()\n",
        "alist"
      ],
      "execution_count": 90,
      "outputs": [
        {
          "output_type": "execute_result",
          "data": {
            "text/plain": [
              "['city_id',\n",
              " 'land_cover',\n",
              " 'pop2012',\n",
              " 'X',\n",
              " 'Y',\n",
              " 'road_len',\n",
              " 'night2012',\n",
              " 'cen_dist',\n",
              " 'dem',\n",
              " 'city_pop_total']"
            ]
          },
          "metadata": {
            "tags": []
          },
          "execution_count": 90
        }
      ]
    },
    {
      "cell_type": "code",
      "metadata": {
        "colab": {
          "base_uri": "https://localhost:8080/",
          "height": 284
        },
        "id": "TQsAn1b1lVxA",
        "outputId": "813d11c4-e02e-430c-834e-be0dcc94c1ec"
      },
      "source": [
        "data.describe()"
      ],
      "execution_count": 91,
      "outputs": [
        {
          "output_type": "execute_result",
          "data": {
            "text/html": [
              "<div>\n",
              "<style scoped>\n",
              "    .dataframe tbody tr th:only-of-type {\n",
              "        vertical-align: middle;\n",
              "    }\n",
              "\n",
              "    .dataframe tbody tr th {\n",
              "        vertical-align: top;\n",
              "    }\n",
              "\n",
              "    .dataframe thead th {\n",
              "        text-align: right;\n",
              "    }\n",
              "</style>\n",
              "<table border=\"1\" class=\"dataframe\">\n",
              "  <thead>\n",
              "    <tr style=\"text-align: right;\">\n",
              "      <th></th>\n",
              "      <th>city_id</th>\n",
              "      <th>land_cover</th>\n",
              "      <th>pop2012</th>\n",
              "      <th>X</th>\n",
              "      <th>Y</th>\n",
              "      <th>road_len</th>\n",
              "      <th>night2012</th>\n",
              "      <th>cen_dist</th>\n",
              "      <th>dem</th>\n",
              "      <th>city_pop_total</th>\n",
              "    </tr>\n",
              "  </thead>\n",
              "  <tbody>\n",
              "    <tr>\n",
              "      <th>count</th>\n",
              "      <td>433774.000000</td>\n",
              "      <td>433774.000000</td>\n",
              "      <td>433774.000000</td>\n",
              "      <td>433774.000000</td>\n",
              "      <td>433774.000000</td>\n",
              "      <td>433774.000000</td>\n",
              "      <td>433774.000000</td>\n",
              "      <td>433774.000000</td>\n",
              "      <td>433774.000000</td>\n",
              "      <td>433774.000000</td>\n",
              "    </tr>\n",
              "    <tr>\n",
              "      <th>mean</th>\n",
              "      <td>43.818316</td>\n",
              "      <td>6.906518</td>\n",
              "      <td>0.008004</td>\n",
              "      <td>0.502616</td>\n",
              "      <td>0.501277</td>\n",
              "      <td>0.071480</td>\n",
              "      <td>0.020648</td>\n",
              "      <td>0.214999</td>\n",
              "      <td>0.094664</td>\n",
              "      <td>0.192048</td>\n",
              "    </tr>\n",
              "    <tr>\n",
              "      <th>std</th>\n",
              "      <td>22.376779</td>\n",
              "      <td>1.857292</td>\n",
              "      <td>0.032205</td>\n",
              "      <td>0.230683</td>\n",
              "      <td>0.231005</td>\n",
              "      <td>0.093311</td>\n",
              "      <td>0.042011</td>\n",
              "      <td>0.142153</td>\n",
              "      <td>0.111697</td>\n",
              "      <td>0.301218</td>\n",
              "    </tr>\n",
              "    <tr>\n",
              "      <th>min</th>\n",
              "      <td>0.000000</td>\n",
              "      <td>1.000000</td>\n",
              "      <td>0.000000</td>\n",
              "      <td>0.000000</td>\n",
              "      <td>0.000000</td>\n",
              "      <td>0.000000</td>\n",
              "      <td>0.000000</td>\n",
              "      <td>0.000000</td>\n",
              "      <td>0.000000</td>\n",
              "      <td>0.000000</td>\n",
              "    </tr>\n",
              "    <tr>\n",
              "      <th>25%</th>\n",
              "      <td>26.000000</td>\n",
              "      <td>7.000000</td>\n",
              "      <td>0.000000</td>\n",
              "      <td>0.322222</td>\n",
              "      <td>0.319149</td>\n",
              "      <td>0.000000</td>\n",
              "      <td>0.001736</td>\n",
              "      <td>0.115120</td>\n",
              "      <td>0.018639</td>\n",
              "      <td>0.021847</td>\n",
              "    </tr>\n",
              "    <tr>\n",
              "      <th>50%</th>\n",
              "      <td>44.000000</td>\n",
              "      <td>7.000000</td>\n",
              "      <td>0.000061</td>\n",
              "      <td>0.500000</td>\n",
              "      <td>0.500000</td>\n",
              "      <td>0.046930</td>\n",
              "      <td>0.004673</td>\n",
              "      <td>0.182038</td>\n",
              "      <td>0.054225</td>\n",
              "      <td>0.036372</td>\n",
              "    </tr>\n",
              "    <tr>\n",
              "      <th>75%</th>\n",
              "      <td>65.000000</td>\n",
              "      <td>8.000000</td>\n",
              "      <td>0.001265</td>\n",
              "      <td>0.684982</td>\n",
              "      <td>0.683673</td>\n",
              "      <td>0.104343</td>\n",
              "      <td>0.017724</td>\n",
              "      <td>0.279313</td>\n",
              "      <td>0.126239</td>\n",
              "      <td>0.141055</td>\n",
              "    </tr>\n",
              "    <tr>\n",
              "      <th>max</th>\n",
              "      <td>83.000000</td>\n",
              "      <td>12.000000</td>\n",
              "      <td>1.000000</td>\n",
              "      <td>1.000000</td>\n",
              "      <td>1.000000</td>\n",
              "      <td>1.000000</td>\n",
              "      <td>1.000000</td>\n",
              "      <td>1.000000</td>\n",
              "      <td>1.000000</td>\n",
              "      <td>1.000000</td>\n",
              "    </tr>\n",
              "  </tbody>\n",
              "</table>\n",
              "</div>"
            ],
            "text/plain": [
              "             city_id     land_cover        pop2012              X  \\\n",
              "count  433774.000000  433774.000000  433774.000000  433774.000000   \n",
              "mean       43.818316       6.906518       0.008004       0.502616   \n",
              "std        22.376779       1.857292       0.032205       0.230683   \n",
              "min         0.000000       1.000000       0.000000       0.000000   \n",
              "25%        26.000000       7.000000       0.000000       0.322222   \n",
              "50%        44.000000       7.000000       0.000061       0.500000   \n",
              "75%        65.000000       8.000000       0.001265       0.684982   \n",
              "max        83.000000      12.000000       1.000000       1.000000   \n",
              "\n",
              "                   Y       road_len      night2012       cen_dist  \\\n",
              "count  433774.000000  433774.000000  433774.000000  433774.000000   \n",
              "mean        0.501277       0.071480       0.020648       0.214999   \n",
              "std         0.231005       0.093311       0.042011       0.142153   \n",
              "min         0.000000       0.000000       0.000000       0.000000   \n",
              "25%         0.319149       0.000000       0.001736       0.115120   \n",
              "50%         0.500000       0.046930       0.004673       0.182038   \n",
              "75%         0.683673       0.104343       0.017724       0.279313   \n",
              "max         1.000000       1.000000       1.000000       1.000000   \n",
              "\n",
              "                 dem  city_pop_total  \n",
              "count  433774.000000   433774.000000  \n",
              "mean        0.094664        0.192048  \n",
              "std         0.111697        0.301218  \n",
              "min         0.000000        0.000000  \n",
              "25%         0.018639        0.021847  \n",
              "50%         0.054225        0.036372  \n",
              "75%         0.126239        0.141055  \n",
              "max         1.000000        1.000000  "
            ]
          },
          "metadata": {
            "tags": []
          },
          "execution_count": 91
        }
      ]
    },
    {
      "cell_type": "code",
      "metadata": {
        "id": "g0qJLSIICVrL"
      },
      "source": [
        "cat_names = alist[0:2]\n",
        "cont_names = alist[3:]\n",
        "y_names = alist[2]\n",
        "procs = [Categorify,]"
      ],
      "execution_count": 51,
      "outputs": []
    },
    {
      "cell_type": "code",
      "metadata": {
        "id": "V8fdCq828veN"
      },
      "source": [
        "splits = RandomSplitter(valid_pct=0.2)(range_of(data))"
      ],
      "execution_count": 52,
      "outputs": []
    },
    {
      "cell_type": "code",
      "metadata": {
        "id": "pFZa3bXr9PWP"
      },
      "source": [
        "cont,cat = cont_cat_split(data, 1, dep_var=y_names)\n",
        "to = TabularPandas(data, procs, cat, cont, y_names=y_names, splits=splits)"
      ],
      "execution_count": 53,
      "outputs": []
    },
    {
      "cell_type": "code",
      "metadata": {
        "colab": {
          "base_uri": "https://localhost:8080/"
        },
        "id": "KvCGjXJC9Rzu",
        "outputId": "ec69e562-4dfd-472a-a85e-4d8b0c46cbb4"
      },
      "source": [
        "len(to.xs),len(to.train),len(to.valid)"
      ],
      "execution_count": 54,
      "outputs": [
        {
          "output_type": "execute_result",
          "data": {
            "text/plain": [
              "(433774, 347020, 86754)"
            ]
          },
          "metadata": {
            "tags": []
          },
          "execution_count": 54
        }
      ]
    },
    {
      "cell_type": "code",
      "metadata": {
        "id": "C-_lFXnc768b"
      },
      "source": [
        "xs, y = to.xs,to.y\n",
        "train_xs,train_y = to.train.xs,to.train.y\n",
        "valid_xs,valid_y = to.valid.xs,to.valid.y"
      ],
      "execution_count": 55,
      "outputs": []
    },
    {
      "cell_type": "markdown",
      "metadata": {
        "id": "zztn8shTlVxK"
      },
      "source": [
        "## Decision Tree"
      ]
    },
    {
      "cell_type": "code",
      "metadata": {
        "id": "Aun_aQhh7_wF"
      },
      "source": [
        "dt = DecisionTreeRegressor(max_leaf_nodes=10, min_samples_leaf=25)\n",
        "dt.fit(train_xs, train_y);"
      ],
      "execution_count": 56,
      "outputs": []
    },
    {
      "cell_type": "code",
      "metadata": {
        "colab": {
          "base_uri": "https://localhost:8080/"
        },
        "id": "BVOYdL1CDTCe",
        "outputId": "cd8941ed-7ed3-47c5-be79-e506d397caea"
      },
      "source": [
        "dt.get_n_leaves(), len(train_xs)"
      ],
      "execution_count": 57,
      "outputs": [
        {
          "output_type": "execute_result",
          "data": {
            "text/plain": [
              "(10, 347020)"
            ]
          },
          "metadata": {
            "tags": []
          },
          "execution_count": 57
        }
      ]
    },
    {
      "cell_type": "code",
      "metadata": {
        "id": "SrC-pb_alVxN"
      },
      "source": [
        "def rmse(y,y_pred): return mean_squared_error(y,y_pred,squared=False)"
      ],
      "execution_count": 58,
      "outputs": []
    },
    {
      "cell_type": "code",
      "metadata": {
        "id": "PzXV5VlIDOvH"
      },
      "source": [
        "train_rmse = rmse(dt.predict(train_xs), train_y)\n",
        "valid_rmse = rmse(dt.predict(valid_xs), valid_y)"
      ],
      "execution_count": 59,
      "outputs": []
    },
    {
      "cell_type": "code",
      "metadata": {
        "colab": {
          "base_uri": "https://localhost:8080/"
        },
        "id": "hBaw_9vElVxP",
        "outputId": "8d8f6c74-8b23-4624-9dc4-91932e63710b"
      },
      "source": [
        "std = data.describe().to_dict()['pop2012']['std']\n",
        "R2 = 1 - ( valid_rmse / std ) ** 2\n",
        "train_rmse, valid_rmse, R2"
      ],
      "execution_count": 60,
      "outputs": [
        {
          "output_type": "execute_result",
          "data": {
            "text/plain": [
              "(0.018650752307255512, 0.01882548123846888, 0.6582954168705879)"
            ]
          },
          "metadata": {
            "tags": []
          },
          "execution_count": 60
        }
      ]
    },
    {
      "cell_type": "markdown",
      "metadata": {
        "id": "6dN0WcM5lVxR"
      },
      "source": [
        "## Random Forest"
      ]
    },
    {
      "cell_type": "code",
      "metadata": {
        "id": "02N2xAJfCVrM"
      },
      "source": [
        "n_estimators = 500\n",
        "max_samples = 200_000\n",
        "max_features = 0.5\n",
        "min_samples_leaf = 5"
      ],
      "execution_count": 94,
      "outputs": []
    },
    {
      "cell_type": "code",
      "metadata": {
        "id": "sbNmMIYblVxT"
      },
      "source": [
        "rf = RandomForestRegressor(n_jobs=-1, n_estimators=n_estimators,\n",
        "    max_samples=max_samples, max_features=max_features,\n",
        "    min_samples_leaf=min_samples_leaf, oob_score=True)"
      ],
      "execution_count": 95,
      "outputs": []
    },
    {
      "cell_type": "code",
      "metadata": {
        "colab": {
          "base_uri": "https://localhost:8080/"
        },
        "id": "nRok68xmlVxU",
        "outputId": "5fda4370-3da2-4e41-dec6-264c85b5024a"
      },
      "source": [
        "import time\r\n",
        "start = time.time()\r\n",
        "m = rf.fit(train_xs, train_y);\r\n",
        "end = time.time()\r\n",
        "print(\"Time:\", end-start)"
      ],
      "execution_count": null,
      "outputs": [
        {
          "output_type": "stream",
          "text": [
            "Time: 270.16565704345703\n"
          ],
          "name": "stdout"
        }
      ]
    },
    {
      "cell_type": "code",
      "metadata": {
        "id": "XKTlWh7LbRC1"
      },
      "source": [
        "train_rmse = rmse(m.predict(train_xs), train_y)\n",
        "valid_rmse = rmse(m.predict(valid_xs), valid_y)"
      ],
      "execution_count": 98,
      "outputs": []
    },
    {
      "cell_type": "code",
      "metadata": {
        "colab": {
          "base_uri": "https://localhost:8080/"
        },
        "id": "ieHG7A6E59R9",
        "outputId": "10dc34e8-6633-4a4d-de1f-80501968d6ae"
      },
      "source": [
        "std = data.describe().to_dict()['pop2012']['std']\n",
        "R2 = 1 - ( valid_rmse / std ) ** 2\n",
        "train_rmse, valid_rmse, R2"
      ],
      "execution_count": 99,
      "outputs": [
        {
          "output_type": "execute_result",
          "data": {
            "text/plain": [
              "(0.011539238245678657, 0.014187205833462179, 0.8059326974829601)"
            ]
          },
          "metadata": {
            "tags": []
          },
          "execution_count": 99
        }
      ]
    },
    {
      "cell_type": "code",
      "metadata": {
        "colab": {
          "base_uri": "https://localhost:8080/"
        },
        "id": "FrYGflWHxKVt",
        "outputId": "66177e13-4c5a-4ca4-c0d2-d7d3b429e9ef"
      },
      "source": [
        "train_preds = np.stack([t.predict(train_xs) for t in m.estimators_])\n",
        "valid_preds = np.stack([t.predict(valid_xs) for t in m.estimators_])\n",
        "train_preds.shape, valid_preds.shape"
      ],
      "execution_count": 100,
      "outputs": [
        {
          "output_type": "execute_result",
          "data": {
            "text/plain": [
              "((500, 347020), (500, 86754))"
            ]
          },
          "metadata": {
            "tags": []
          },
          "execution_count": 100
        }
      ]
    },
    {
      "cell_type": "code",
      "metadata": {
        "colab": {
          "base_uri": "https://localhost:8080/",
          "height": 265
        },
        "id": "7ryyDzZDv4HY",
        "outputId": "9cd52709-60c1-41ba-bc15-9e63c1ebeb38"
      },
      "source": [
        "plt.plot([rmse(valid_preds[:i+1].mean(0), valid_y) for i in range(0,500)]);"
      ],
      "execution_count": 110,
      "outputs": [
        {
          "output_type": "display_data",
          "data": {
            "image/png": "[encoded data removed]",
            "text/plain": [
              "<Figure size 432x288 with 1 Axes>"
            ]
          },
          "metadata": {
            "tags": [],
            "needs_background": "light"
          }
        }
      ]
    },
    {
      "cell_type": "code",
      "metadata": {
        "colab": {
          "base_uri": "https://localhost:8080/"
        },
        "id": "tDbb61MulVxZ",
        "outputId": "df76378b-57d4-4823-f3a3-06ce6579f4fa"
      },
      "source": [
        "# Save the model\n",
        "joblib_file = \"forest.pkl\"\n",
        "joblib.dump(m, path+r\"/\"+joblib_file)\n",
        "print('Model Saved!')"
      ],
      "execution_count": 102,
      "outputs": [
        {
          "output_type": "stream",
          "text": [
            "Model Saved!\n"
          ],
          "name": "stdout"
        }
      ]
    },
    {
      "cell_type": "markdown",
      "metadata": {
        "id": "ycpKgarrDpB-"
      },
      "source": [
        "## Now Prediction!"
      ]
    },
    {
      "cell_type": "code",
      "metadata": {
        "id": "FzCIsNTblVxb"
      },
      "source": [
        "# Load from file\n",
        "joblib_file = \"forest.pkl\"\n",
        "joblib_model = joblib.load(path+r\"/\"+joblib_file)"
      ],
      "execution_count": 103,
      "outputs": []
    },
    {
      "cell_type": "code",
      "metadata": {
        "id": "8IXRhPwHlVxc"
      },
      "source": [
        "# predict with the model\n",
        "data = pd.read_csv(path+\"/data_new.csv\")\n",
        "alist = data.columns.to_list()\n",
        "cat_names = alist[1]\n",
        "cont_names = alist[3:]\n",
        "y_names = alist[2]\n",
        "procs = [Categorify,]\n",
        "cont,cat = cont_cat_split(data, 1, dep_var=y_names)\n",
        "to = TabularPandas(data, procs, cat, cont, y_names=y_names, splits=splits)\n",
        "xs, y = to.xs, to.y"
      ],
      "execution_count": 104,
      "outputs": []
    },
    {
      "cell_type": "code",
      "metadata": {
        "id": "LZ4SEa64lVxd"
      },
      "source": [
        "preds = joblib_model.predict(xs)"
      ],
      "execution_count": 105,
      "outputs": []
    },
    {
      "cell_type": "code",
      "metadata": {
        "id": "pdecma1-lVxe"
      },
      "source": [
        "# Transform to the pre-normalized state\n",
        "maxi = 57586.267532\n",
        "preds = preds * maxi"
      ],
      "execution_count": 106,
      "outputs": []
    },
    {
      "cell_type": "code",
      "metadata": {
        "id": "5RZIyvTnlVxf"
      },
      "source": [
        "# Copy in the csv\n",
        "data = pd.read_csv(path+r\"/data.csv\")\n",
        "data['pop_pred'] = preds"
      ],
      "execution_count": 107,
      "outputs": []
    },
    {
      "cell_type": "code",
      "metadata": {
        "colab": {
          "base_uri": "https://localhost:8080/"
        },
        "id": "w94vFTcslVxh",
        "outputId": "136d691f-2cc4-4f86-f137-aaac75210127"
      },
      "source": [
        "data.to_csv(path+r\"/data_preds.csv\",index=False)\n",
        "print('File Exported!')"
      ],
      "execution_count": 109,
      "outputs": [
        {
          "output_type": "stream",
          "text": [
            "File Exported!\n"
          ],
          "name": "stdout"
        }
      ]
    },
    {
      "cell_type": "code",
      "metadata": {
        "id": "N1oveVsduqcT"
      },
      "source": [
        ""
      ],
      "execution_count": null,
      "outputs": []
    },
    {
      "cell_type": "code",
      "metadata": {
        "id": "mpJpfCE-lVxh"
      },
      "source": [
        ""
      ],
      "execution_count": 109,
      "outputs": []
    }
  ]
}